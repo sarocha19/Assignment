{
 "cells": [
  {
   "cell_type": "markdown",
   "metadata": {},
   "source": [
    "# Assignment 1\n",
    "## Data Collection & Preparation\n",
    "\n",
    "####  API ที่เลือก :\n",
    "\n",
    "Crash data from Queensland roads\n",
    "\n",
    "Road crash locations เป็นข้อมูลเกี่ยวกับสถานที่และลักษณะของการขัดข้องภายในประเทศควีนส์แลนด์ สำหรับการจราจรบนถนนที่รายงานทั้งหมด --- 1 มกราคม 2544 ถึง 31 ธันวาคม 2561---\n",
    "\n",
    "\n",
    "#### หมายเหตุ :\n",
    "- อุบัติเหตุจราจรทางถนนร้ายแรง เก็บข้อมูลถึงวันที่ 31 ธันวาคม 2561 \n",
    "- การรักษาในโรงพยาบาลการรักษาพยาบาลและการบาดเจ็บเล็กน้อย เก็บข้อมูลถึง 31 ธันวาคม 2561\n",
    "- ความเสียหายต่อทรัพย์สินเท่านั้น เก็บข้อมูลถึงวันที่ 31 ธันวาคม 2553\n",
    "\n",
    "link API : https://www.data.qld.gov.au/dataset/crash-data-from-queensland-roads/resource/e88943c0-5968-4972-a15f-38e120d72ec0?truncate=30&inner_span=True"
   ]
  },
  {
   "cell_type": "markdown",
   "metadata": {},
   "source": [
    "### ไม่ต้องกดรันนะจ๊ะ"
   ]
  },
  {
   "cell_type": "code",
   "execution_count": 4,
   "metadata": {},
   "outputs": [],
   "source": [
    "import urllib\n",
    "import requests\n",
    "from pandas.io.json import json_normalize\n",
    "import json\n",
    "import pandas as pd\n",
    "import numpy as np\n",
    "import requests\n",
    "\n",
    "#Request API\n",
    "url = 'https://www.data.qld.gov.au/api/3/action/datastore_search?resource_id=e88943c0-5968-4972-a15f-38e120d72ec0&limit=26000'\n",
    "r = requests.get(url) #แปลง API Request ตัวแปร r ให้เป็น dict\n",
    "j = r.json() \n",
    "\n",
    "###ไม่ต้องกดรันนะจ๊ะ"
   ]
  },
  {
   "cell_type": "markdown",
   "metadata": {},
   "source": [
    "### ไม่ต้องกดรันนะจ๊ะ"
   ]
  },
  {
   "cell_type": "code",
   "execution_count": 5,
   "metadata": {},
   "outputs": [],
   "source": [
    "import seaborn as sns\n",
    "import datetime as dt\n",
    "import matplotlib.pyplot as plt"
   ]
  },
  {
   "cell_type": "code",
   "execution_count": 6,
   "metadata": {
    "scrolled": false
   },
   "outputs": [
    {
     "data": {
      "text/plain": [
       "dict"
      ]
     },
     "execution_count": 6,
     "metadata": {},
     "output_type": "execute_result"
    }
   ],
   "source": [
    "type(j) #ตรวจสอบ type "
   ]
  },
  {
   "cell_type": "code",
   "execution_count": 7,
   "metadata": {
    "scrolled": true
   },
   "outputs": [],
   "source": [
    "#ดึงข้อมูลเพื่อแสดงค่าใน dict มาใส่ใน DataFrame โดยอ้างอิงจาก key:result และ key:records \n",
    "df = pd.DataFrame(j)\n",
    "df = pd.DataFrame(j[\"result\"][\"records\"])"
   ]
  },
  {
   "cell_type": "code",
   "execution_count": 8,
   "metadata": {},
   "outputs": [],
   "source": [
    "#การ save pandas DataFrame เป็นไฟล์ CSV ด้วย to_csv\n",
    "df.to_csv(\"Data/Road_Crash_location.csv\",index=False)"
   ]
  },
  {
   "cell_type": "code",
   "execution_count": 9,
   "metadata": {},
   "outputs": [
    {
     "data": {
      "text/html": [
       "<div>\n",
       "<style scoped>\n",
       "    .dataframe tbody tr th:only-of-type {\n",
       "        vertical-align: middle;\n",
       "    }\n",
       "\n",
       "    .dataframe tbody tr th {\n",
       "        vertical-align: top;\n",
       "    }\n",
       "\n",
       "    .dataframe thead th {\n",
       "        text-align: right;\n",
       "    }\n",
       "</style>\n",
       "<table border=\"1\" class=\"dataframe\">\n",
       "  <thead>\n",
       "    <tr style=\"text-align: right;\">\n",
       "      <th></th>\n",
       "      <th>Crash_Ref_Number</th>\n",
       "      <th>Crash_Severity</th>\n",
       "      <th>Crash_Year</th>\n",
       "      <th>Crash_Month</th>\n",
       "      <th>Crash_Day_Of_Week</th>\n",
       "      <th>Crash_Hour</th>\n",
       "      <th>Crash_Nature</th>\n",
       "      <th>Crash_Type</th>\n",
       "      <th>Crash_Longitude_GDA94</th>\n",
       "      <th>Crash_Latitude_GDA94</th>\n",
       "      <th>...</th>\n",
       "      <th>Count_Casualty_MedicallyTreated</th>\n",
       "      <th>Count_Casualty_MinorInjury</th>\n",
       "      <th>Count_Casualty_Total</th>\n",
       "      <th>Count_Unit_Car</th>\n",
       "      <th>Count_Unit_Motorcycle_Moped</th>\n",
       "      <th>Count_Unit_Truck</th>\n",
       "      <th>Count_Unit_Bus</th>\n",
       "      <th>Count_Unit_Bicycle</th>\n",
       "      <th>Count_Unit_Pedestrian</th>\n",
       "      <th>Count_Unit_Other</th>\n",
       "    </tr>\n",
       "    <tr>\n",
       "      <th>_id</th>\n",
       "      <th></th>\n",
       "      <th></th>\n",
       "      <th></th>\n",
       "      <th></th>\n",
       "      <th></th>\n",
       "      <th></th>\n",
       "      <th></th>\n",
       "      <th></th>\n",
       "      <th></th>\n",
       "      <th></th>\n",
       "      <th></th>\n",
       "      <th></th>\n",
       "      <th></th>\n",
       "      <th></th>\n",
       "      <th></th>\n",
       "      <th></th>\n",
       "      <th></th>\n",
       "      <th></th>\n",
       "      <th></th>\n",
       "      <th></th>\n",
       "      <th></th>\n",
       "    </tr>\n",
       "  </thead>\n",
       "  <tbody>\n",
       "    <tr>\n",
       "      <th>1</th>\n",
       "      <td>1</td>\n",
       "      <td>Property damage only</td>\n",
       "      <td>2001</td>\n",
       "      <td>January</td>\n",
       "      <td>Monday</td>\n",
       "      <td>9</td>\n",
       "      <td>Angle</td>\n",
       "      <td>Multi-Vehicle</td>\n",
       "      <td>152.960485</td>\n",
       "      <td>-26.685052</td>\n",
       "      <td>...</td>\n",
       "      <td>0</td>\n",
       "      <td>0</td>\n",
       "      <td>0</td>\n",
       "      <td>2</td>\n",
       "      <td>0</td>\n",
       "      <td>0</td>\n",
       "      <td>0</td>\n",
       "      <td>0</td>\n",
       "      <td>0</td>\n",
       "      <td>0</td>\n",
       "    </tr>\n",
       "    <tr>\n",
       "      <th>2</th>\n",
       "      <td>2</td>\n",
       "      <td>Property damage only</td>\n",
       "      <td>2001</td>\n",
       "      <td>January</td>\n",
       "      <td>Tuesday</td>\n",
       "      <td>23</td>\n",
       "      <td>Hit object</td>\n",
       "      <td>Single Vehicle</td>\n",
       "      <td>153.038263</td>\n",
       "      <td>-27.550776</td>\n",
       "      <td>...</td>\n",
       "      <td>0</td>\n",
       "      <td>0</td>\n",
       "      <td>0</td>\n",
       "      <td>1</td>\n",
       "      <td>0</td>\n",
       "      <td>0</td>\n",
       "      <td>0</td>\n",
       "      <td>0</td>\n",
       "      <td>0</td>\n",
       "      <td>0</td>\n",
       "    </tr>\n",
       "    <tr>\n",
       "      <th>3</th>\n",
       "      <td>3</td>\n",
       "      <td>Medical treatment</td>\n",
       "      <td>2001</td>\n",
       "      <td>January</td>\n",
       "      <td>Tuesday</td>\n",
       "      <td>16</td>\n",
       "      <td>Angle</td>\n",
       "      <td>Multi-Vehicle</td>\n",
       "      <td>153.116342</td>\n",
       "      <td>-27.545153</td>\n",
       "      <td>...</td>\n",
       "      <td>1</td>\n",
       "      <td>0</td>\n",
       "      <td>1</td>\n",
       "      <td>2</td>\n",
       "      <td>0</td>\n",
       "      <td>0</td>\n",
       "      <td>0</td>\n",
       "      <td>0</td>\n",
       "      <td>0</td>\n",
       "      <td>0</td>\n",
       "    </tr>\n",
       "    <tr>\n",
       "      <th>4</th>\n",
       "      <td>4</td>\n",
       "      <td>Property damage only</td>\n",
       "      <td>2001</td>\n",
       "      <td>January</td>\n",
       "      <td>Tuesday</td>\n",
       "      <td>12</td>\n",
       "      <td>Rear-end</td>\n",
       "      <td>Multi-Vehicle</td>\n",
       "      <td>153.021629</td>\n",
       "      <td>-27.384448</td>\n",
       "      <td>...</td>\n",
       "      <td>0</td>\n",
       "      <td>0</td>\n",
       "      <td>0</td>\n",
       "      <td>2</td>\n",
       "      <td>0</td>\n",
       "      <td>0</td>\n",
       "      <td>0</td>\n",
       "      <td>0</td>\n",
       "      <td>0</td>\n",
       "      <td>0</td>\n",
       "    </tr>\n",
       "    <tr>\n",
       "      <th>5</th>\n",
       "      <td>5</td>\n",
       "      <td>Property damage only</td>\n",
       "      <td>2001</td>\n",
       "      <td>January</td>\n",
       "      <td>Tuesday</td>\n",
       "      <td>10</td>\n",
       "      <td>Rear-end</td>\n",
       "      <td>Multi-Vehicle</td>\n",
       "      <td>152.937497</td>\n",
       "      <td>-27.083184</td>\n",
       "      <td>...</td>\n",
       "      <td>0</td>\n",
       "      <td>0</td>\n",
       "      <td>0</td>\n",
       "      <td>3</td>\n",
       "      <td>0</td>\n",
       "      <td>0</td>\n",
       "      <td>0</td>\n",
       "      <td>0</td>\n",
       "      <td>0</td>\n",
       "      <td>0</td>\n",
       "    </tr>\n",
       "    <tr>\n",
       "      <th>...</th>\n",
       "      <td>...</td>\n",
       "      <td>...</td>\n",
       "      <td>...</td>\n",
       "      <td>...</td>\n",
       "      <td>...</td>\n",
       "      <td>...</td>\n",
       "      <td>...</td>\n",
       "      <td>...</td>\n",
       "      <td>...</td>\n",
       "      <td>...</td>\n",
       "      <td>...</td>\n",
       "      <td>...</td>\n",
       "      <td>...</td>\n",
       "      <td>...</td>\n",
       "      <td>...</td>\n",
       "      <td>...</td>\n",
       "      <td>...</td>\n",
       "      <td>...</td>\n",
       "      <td>...</td>\n",
       "      <td>...</td>\n",
       "      <td>...</td>\n",
       "    </tr>\n",
       "    <tr>\n",
       "      <th>25994</th>\n",
       "      <td>25994</td>\n",
       "      <td>Hospitalisation</td>\n",
       "      <td>2012</td>\n",
       "      <td>May</td>\n",
       "      <td>Monday</td>\n",
       "      <td>21</td>\n",
       "      <td>Hit object</td>\n",
       "      <td>Single Vehicle</td>\n",
       "      <td>152.096283</td>\n",
       "      <td>-24.953020</td>\n",
       "      <td>...</td>\n",
       "      <td>0</td>\n",
       "      <td>0</td>\n",
       "      <td>1</td>\n",
       "      <td>1</td>\n",
       "      <td>0</td>\n",
       "      <td>0</td>\n",
       "      <td>0</td>\n",
       "      <td>0</td>\n",
       "      <td>0</td>\n",
       "      <td>0</td>\n",
       "    </tr>\n",
       "    <tr>\n",
       "      <th>25995</th>\n",
       "      <td>25995</td>\n",
       "      <td>Hospitalisation</td>\n",
       "      <td>2012</td>\n",
       "      <td>May</td>\n",
       "      <td>Monday</td>\n",
       "      <td>7</td>\n",
       "      <td>Angle</td>\n",
       "      <td>Multi-Vehicle</td>\n",
       "      <td>152.582484</td>\n",
       "      <td>-25.732604</td>\n",
       "      <td>...</td>\n",
       "      <td>0</td>\n",
       "      <td>0</td>\n",
       "      <td>1</td>\n",
       "      <td>1</td>\n",
       "      <td>1</td>\n",
       "      <td>0</td>\n",
       "      <td>0</td>\n",
       "      <td>0</td>\n",
       "      <td>0</td>\n",
       "      <td>0</td>\n",
       "    </tr>\n",
       "    <tr>\n",
       "      <th>25996</th>\n",
       "      <td>25996</td>\n",
       "      <td>Hospitalisation</td>\n",
       "      <td>2012</td>\n",
       "      <td>May</td>\n",
       "      <td>Monday</td>\n",
       "      <td>14</td>\n",
       "      <td>Overturned</td>\n",
       "      <td>Single Vehicle</td>\n",
       "      <td>151.869054</td>\n",
       "      <td>-27.527029</td>\n",
       "      <td>...</td>\n",
       "      <td>0</td>\n",
       "      <td>0</td>\n",
       "      <td>1</td>\n",
       "      <td>1</td>\n",
       "      <td>0</td>\n",
       "      <td>0</td>\n",
       "      <td>0</td>\n",
       "      <td>0</td>\n",
       "      <td>0</td>\n",
       "      <td>0</td>\n",
       "    </tr>\n",
       "    <tr>\n",
       "      <th>25997</th>\n",
       "      <td>25997</td>\n",
       "      <td>Medical treatment</td>\n",
       "      <td>2012</td>\n",
       "      <td>May</td>\n",
       "      <td>Monday</td>\n",
       "      <td>18</td>\n",
       "      <td>Hit object</td>\n",
       "      <td>Single Vehicle</td>\n",
       "      <td>151.029288</td>\n",
       "      <td>-23.831839</td>\n",
       "      <td>...</td>\n",
       "      <td>2</td>\n",
       "      <td>0</td>\n",
       "      <td>2</td>\n",
       "      <td>1</td>\n",
       "      <td>0</td>\n",
       "      <td>0</td>\n",
       "      <td>0</td>\n",
       "      <td>0</td>\n",
       "      <td>0</td>\n",
       "      <td>0</td>\n",
       "    </tr>\n",
       "    <tr>\n",
       "      <th>25998</th>\n",
       "      <td>25998</td>\n",
       "      <td>Medical treatment</td>\n",
       "      <td>2012</td>\n",
       "      <td>May</td>\n",
       "      <td>Tuesday</td>\n",
       "      <td>13</td>\n",
       "      <td>Rear-end</td>\n",
       "      <td>Multi-Vehicle</td>\n",
       "      <td>153.128770</td>\n",
       "      <td>-27.731010</td>\n",
       "      <td>...</td>\n",
       "      <td>1</td>\n",
       "      <td>0</td>\n",
       "      <td>1</td>\n",
       "      <td>2</td>\n",
       "      <td>0</td>\n",
       "      <td>0</td>\n",
       "      <td>0</td>\n",
       "      <td>0</td>\n",
       "      <td>0</td>\n",
       "      <td>0</td>\n",
       "    </tr>\n",
       "  </tbody>\n",
       "</table>\n",
       "<p>26000 rows × 52 columns</p>\n",
       "</div>"
      ],
      "text/plain": [
       "       Crash_Ref_Number        Crash_Severity  Crash_Year Crash_Month  \\\n",
       "_id                                                                     \n",
       "1                     1  Property damage only        2001     January   \n",
       "2                     2  Property damage only        2001     January   \n",
       "3                     3     Medical treatment        2001     January   \n",
       "4                     4  Property damage only        2001     January   \n",
       "5                     5  Property damage only        2001     January   \n",
       "...                 ...                   ...         ...         ...   \n",
       "25994             25994       Hospitalisation        2012         May   \n",
       "25995             25995       Hospitalisation        2012         May   \n",
       "25996             25996       Hospitalisation        2012         May   \n",
       "25997             25997     Medical treatment        2012         May   \n",
       "25998             25998     Medical treatment        2012         May   \n",
       "\n",
       "      Crash_Day_Of_Week  Crash_Hour Crash_Nature      Crash_Type  \\\n",
       "_id                                                                \n",
       "1                Monday           9        Angle   Multi-Vehicle   \n",
       "2               Tuesday          23   Hit object  Single Vehicle   \n",
       "3               Tuesday          16        Angle   Multi-Vehicle   \n",
       "4               Tuesday          12     Rear-end   Multi-Vehicle   \n",
       "5               Tuesday          10     Rear-end   Multi-Vehicle   \n",
       "...                 ...         ...          ...             ...   \n",
       "25994            Monday          21   Hit object  Single Vehicle   \n",
       "25995            Monday           7        Angle   Multi-Vehicle   \n",
       "25996            Monday          14   Overturned  Single Vehicle   \n",
       "25997            Monday          18   Hit object  Single Vehicle   \n",
       "25998           Tuesday          13     Rear-end   Multi-Vehicle   \n",
       "\n",
       "       Crash_Longitude_GDA94  Crash_Latitude_GDA94  ...  \\\n",
       "_id                                                 ...   \n",
       "1                 152.960485            -26.685052  ...   \n",
       "2                 153.038263            -27.550776  ...   \n",
       "3                 153.116342            -27.545153  ...   \n",
       "4                 153.021629            -27.384448  ...   \n",
       "5                 152.937497            -27.083184  ...   \n",
       "...                      ...                   ...  ...   \n",
       "25994             152.096283            -24.953020  ...   \n",
       "25995             152.582484            -25.732604  ...   \n",
       "25996             151.869054            -27.527029  ...   \n",
       "25997             151.029288            -23.831839  ...   \n",
       "25998             153.128770            -27.731010  ...   \n",
       "\n",
       "      Count_Casualty_MedicallyTreated Count_Casualty_MinorInjury  \\\n",
       "_id                                                                \n",
       "1                                   0                          0   \n",
       "2                                   0                          0   \n",
       "3                                   1                          0   \n",
       "4                                   0                          0   \n",
       "5                                   0                          0   \n",
       "...                               ...                        ...   \n",
       "25994                               0                          0   \n",
       "25995                               0                          0   \n",
       "25996                               0                          0   \n",
       "25997                               2                          0   \n",
       "25998                               1                          0   \n",
       "\n",
       "      Count_Casualty_Total Count_Unit_Car Count_Unit_Motorcycle_Moped  \\\n",
       "_id                                                                     \n",
       "1                        0              2                           0   \n",
       "2                        0              1                           0   \n",
       "3                        1              2                           0   \n",
       "4                        0              2                           0   \n",
       "5                        0              3                           0   \n",
       "...                    ...            ...                         ...   \n",
       "25994                    1              1                           0   \n",
       "25995                    1              1                           1   \n",
       "25996                    1              1                           0   \n",
       "25997                    2              1                           0   \n",
       "25998                    1              2                           0   \n",
       "\n",
       "      Count_Unit_Truck Count_Unit_Bus Count_Unit_Bicycle  \\\n",
       "_id                                                        \n",
       "1                    0              0                  0   \n",
       "2                    0              0                  0   \n",
       "3                    0              0                  0   \n",
       "4                    0              0                  0   \n",
       "5                    0              0                  0   \n",
       "...                ...            ...                ...   \n",
       "25994                0              0                  0   \n",
       "25995                0              0                  0   \n",
       "25996                0              0                  0   \n",
       "25997                0              0                  0   \n",
       "25998                0              0                  0   \n",
       "\n",
       "      Count_Unit_Pedestrian Count_Unit_Other  \n",
       "_id                                           \n",
       "1                         0                0  \n",
       "2                         0                0  \n",
       "3                         0                0  \n",
       "4                         0                0  \n",
       "5                         0                0  \n",
       "...                     ...              ...  \n",
       "25994                     0                0  \n",
       "25995                     0                0  \n",
       "25996                     0                0  \n",
       "25997                     0                0  \n",
       "25998                     0                0  \n",
       "\n",
       "[26000 rows x 52 columns]"
      ]
     },
     "execution_count": 9,
     "metadata": {},
     "output_type": "execute_result"
    }
   ],
   "source": [
    "#ทำการอ่านไฟล์ข้อมูลที่ดาวน์โหลดเก็บไว้ใน Folder เข้ามาใน pandas และเรียกดูข้อมูลโดยใช้ ชื่อของข้อมูลที่เรากำหนด ซึ่งในที่นี้ เรากำหนดชื่อว่า roaddata\n",
    "roaddata = pd.read_csv(\"Data/Road_Crash_location.csv\",index_col=\"_id\")\n",
    "roaddata"
   ]
  },
  {
   "cell_type": "code",
   "execution_count": 10,
   "metadata": {},
   "outputs": [
    {
     "data": {
      "text/plain": [
       "(26000, 52)"
      ]
     },
     "execution_count": 10,
     "metadata": {},
     "output_type": "execute_result"
    }
   ],
   "source": [
    "roaddata.shape #เช็คจำนวนแถว และจำนวนคอลัมน์\n",
    "#roaddata.info()"
   ]
  },
  {
   "cell_type": "code",
   "execution_count": 11,
   "metadata": {},
   "outputs": [
    {
     "data": {
      "text/plain": [
       "Crash_Ref_Number                       0\n",
       "Crash_Severity                         0\n",
       "Crash_Year                             0\n",
       "Crash_Month                            0\n",
       "Crash_Day_Of_Week                      0\n",
       "Crash_Hour                             0\n",
       "Crash_Nature                           0\n",
       "Crash_Type                             0\n",
       "Crash_Longitude_GDA94                  0\n",
       "Crash_Latitude_GDA94                   0\n",
       "Crash_Street                           2\n",
       "Crash_Street_Intersecting          14519\n",
       "State_Road_Name                    14486\n",
       "Loc_Suburb                             0\n",
       "Loc_Local_Government_Area              0\n",
       "Loc_Post_Code                          0\n",
       "Loc_Police_Division                    0\n",
       "Loc_Police_District                    0\n",
       "Loc_Police_Region                      0\n",
       "Loc_Queensland_Transport_Region        0\n",
       "Loc_Main_Roads_Region                  0\n",
       "Loc_ABS_Statistical_Area_2             0\n",
       "Loc_ABS_Statistical_Area_3             0\n",
       "Loc_ABS_Statistical_Area_4             0\n",
       "Loc_ABS_Remoteness                     0\n",
       "Loc_State_Electorate                   0\n",
       "Loc_Federal_Electorate                 0\n",
       "Crash_Controlling_Authority            0\n",
       "Crash_Roadway_Feature                  0\n",
       "Crash_Traffic_Control                  0\n",
       "Crash_Speed_Limit                      0\n",
       "Crash_Road_Surface_Condition           0\n",
       "Crash_Atmospheric_Condition            0\n",
       "Crash_Lighting_Condition               0\n",
       "Crash_Road_Horiz_Align                 0\n",
       "Crash_Road_Vert_Align                  0\n",
       "Crash_DCA_Code                         8\n",
       "Crash_DCA_Description                  8\n",
       "Crash_DCA_Group_Description            0\n",
       "DCA_Key_Approach_Dir                 287\n",
       "Count_Casualty_Fatality                0\n",
       "Count_Casualty_Hospitalised            0\n",
       "Count_Casualty_MedicallyTreated        0\n",
       "Count_Casualty_MinorInjury             0\n",
       "Count_Casualty_Total                   0\n",
       "Count_Unit_Car                         0\n",
       "Count_Unit_Motorcycle_Moped            0\n",
       "Count_Unit_Truck                       0\n",
       "Count_Unit_Bus                         0\n",
       "Count_Unit_Bicycle                     0\n",
       "Count_Unit_Pedestrian                  0\n",
       "Count_Unit_Other                       0\n",
       "dtype: int64"
      ]
     },
     "execution_count": 11,
     "metadata": {},
     "output_type": "execute_result"
    }
   ],
   "source": [
    "roaddata.isnull().sum() #Check missing value"
   ]
  },
  {
   "cell_type": "code",
   "execution_count": 12,
   "metadata": {},
   "outputs": [],
   "source": [
    "#ลบแถวที่มี Missing Value\n",
    "roaddata.drop('State_Road_Name', axis='columns', inplace=True)\n",
    "roaddata.drop('DCA_Key_Approach_Dir', axis='columns', inplace=True)\n",
    "roaddata.drop('Crash_Street_Intersecting', axis='columns', inplace=True)"
   ]
  },
  {
   "cell_type": "code",
   "execution_count": 13,
   "metadata": {},
   "outputs": [],
   "source": [
    "#เพิ่มข้อมูลในแถวที่มี Missing Value \n",
    "#ใน coulumn Crash_Street โดยการแทน \"NON-VALUES\" ใน Row ที่เป็นค่า null\n",
    "roaddata[\"Crash_Street\"] = roaddata[\"Crash_Street\"].fillna(\"NON-VALUES\")"
   ]
  },
  {
   "cell_type": "code",
   "execution_count": 14,
   "metadata": {},
   "outputs": [
    {
     "data": {
      "text/plain": [
       "Crash_Ref_Number                   0\n",
       "Crash_Severity                     0\n",
       "Crash_Year                         0\n",
       "Crash_Month                        0\n",
       "Crash_Day_Of_Week                  0\n",
       "Crash_Hour                         0\n",
       "Crash_Nature                       0\n",
       "Crash_Type                         0\n",
       "Crash_Longitude_GDA94              0\n",
       "Crash_Latitude_GDA94               0\n",
       "Crash_Street                       0\n",
       "Loc_Suburb                         0\n",
       "Loc_Local_Government_Area          0\n",
       "Loc_Post_Code                      0\n",
       "Loc_Police_Division                0\n",
       "Loc_Police_District                0\n",
       "Loc_Police_Region                  0\n",
       "Loc_Queensland_Transport_Region    0\n",
       "Loc_Main_Roads_Region              0\n",
       "Loc_ABS_Statistical_Area_2         0\n",
       "Loc_ABS_Statistical_Area_3         0\n",
       "Loc_ABS_Statistical_Area_4         0\n",
       "Loc_ABS_Remoteness                 0\n",
       "Loc_State_Electorate               0\n",
       "Loc_Federal_Electorate             0\n",
       "Crash_Controlling_Authority        0\n",
       "Crash_Roadway_Feature              0\n",
       "Crash_Traffic_Control              0\n",
       "Crash_Speed_Limit                  0\n",
       "Crash_Road_Surface_Condition       0\n",
       "Crash_Atmospheric_Condition        0\n",
       "Crash_Lighting_Condition           0\n",
       "Crash_Road_Horiz_Align             0\n",
       "Crash_Road_Vert_Align              0\n",
       "Crash_DCA_Code                     0\n",
       "Crash_DCA_Description              0\n",
       "Crash_DCA_Group_Description        0\n",
       "Count_Casualty_Fatality            0\n",
       "Count_Casualty_Hospitalised        0\n",
       "Count_Casualty_MedicallyTreated    0\n",
       "Count_Casualty_MinorInjury         0\n",
       "Count_Casualty_Total               0\n",
       "Count_Unit_Car                     0\n",
       "Count_Unit_Motorcycle_Moped        0\n",
       "Count_Unit_Truck                   0\n",
       "Count_Unit_Bus                     0\n",
       "Count_Unit_Bicycle                 0\n",
       "Count_Unit_Pedestrian              0\n",
       "Count_Unit_Other                   0\n",
       "dtype: int64"
      ]
     },
     "execution_count": 14,
     "metadata": {},
     "output_type": "execute_result"
    }
   ],
   "source": [
    "roaddata.dropna(subset=['Crash_DCA_Code'], inplace =True)\n",
    "roaddata.dropna(subset=['Crash_DCA_Description'], inplace =True)\n",
    "roaddata.shape\n",
    "roaddata.isnull().sum()"
   ]
  },
  {
   "cell_type": "markdown",
   "metadata": {},
   "source": [
    "#### การ Handling Outliers เป็นวิธีที่จัดการกับข้อมูลที่มีค่าสูงหรือค่าต่ำกว่าข้อมูลส่วนใหญ่โดยค่านั้นเรียกว่า Outlier"
   ]
  },
  {
   "cell_type": "code",
   "execution_count": 15,
   "metadata": {},
   "outputs": [
    {
     "data": {
      "image/png": "[encoded data removed]",
      "text/plain": [
       "<Figure size 648x288 with 1 Axes>"
      ]
     },
     "metadata": {
      "needs_background": "light"
     },
     "output_type": "display_data"
    }
   ],
   "source": [
    "import seaborn as sns\n",
    "from matplotlib import pyplot as plt\n",
    "\n",
    "fig = plt.figure(figsize=(9,4))\n",
    "sns.boxplot(x=roaddata[\"Crash_Year\"], color=\"#5b8ba3\")\n",
    "plt.xlabel(\"Crash_Year\", fontsize=15)\n",
    "plt.title('Handling Outliers', size = 20)\n",
    "plt.show()"
   ]
  },
  {
   "cell_type": "code",
   "execution_count": 16,
   "metadata": {},
   "outputs": [
    {
     "data": {
      "text/plain": [
       "count    25992.000000\n",
       "mean      2005.921745\n",
       "std          3.133634\n",
       "min       2001.000000\n",
       "25%       2003.000000\n",
       "50%       2006.000000\n",
       "75%       2009.000000\n",
       "max       2015.000000\n",
       "Name: Crash_Year, dtype: float64"
      ]
     },
     "execution_count": 16,
     "metadata": {},
     "output_type": "execute_result"
    }
   ],
   "source": [
    "roaddata[\"Crash_Year\"].describe() #ใช้ Function describe() เพื่อดูข้อมูลทางสถิติต่างๆ"
   ]
  },
  {
   "cell_type": "code",
   "execution_count": 17,
   "metadata": {},
   "outputs": [
    {
     "name": "stdout",
     "output_type": "stream",
     "text": [
      "(26000, 53)\n",
      "(21764, 49)\n"
     ]
    }
   ],
   "source": [
    "print(df.shape)\n",
    "upper_lim = roaddata[\"Crash_Year\"].quantile(.95)\n",
    "lower_lim = roaddata[\"Crash_Year\"].quantile(.05)\n",
    "drop_outlier = roaddata[(roaddata[\"Crash_Year\"] < upper_lim) & (roaddata[\"Crash_Year\"] > lower_lim)]\n",
    "print(drop_outlier.shape)"
   ]
  },
  {
   "cell_type": "code",
   "execution_count": 18,
   "metadata": {},
   "outputs": [
    {
     "data": {
      "image/png": "[encoded data removed]",
      "text/plain": [
       "<Figure size 648x288 with 1 Axes>"
      ]
     },
     "metadata": {
      "needs_background": "light"
     },
     "output_type": "display_data"
    }
   ],
   "source": [
    "fig = plt.figure(figsize=(9,4))\n",
    "sns.boxplot(x=drop_outlier[\"Crash_Year\"], color=\"#5b8ba3\")\n",
    "plt.xlabel(\"Crash_Year\", fontsize=15)\n",
    "plt.title('Handling Outliers', size = 20)\n",
    "plt.show()"
   ]
  },
  {
   "cell_type": "code",
   "execution_count": 19,
   "metadata": {},
   "outputs": [
    {
     "data": {
      "text/plain": [
       "count    21764.000000\n",
       "mean      2005.997059\n",
       "std          2.569887\n",
       "min       2002.000000\n",
       "25%       2004.000000\n",
       "50%       2006.000000\n",
       "75%       2008.000000\n",
       "max       2010.000000\n",
       "Name: Crash_Year, dtype: float64"
      ]
     },
     "execution_count": 19,
     "metadata": {},
     "output_type": "execute_result"
    }
   ],
   "source": [
    "drop_outlier[\"Crash_Year\"].describe()"
   ]
  },
  {
   "cell_type": "code",
   "execution_count": 20,
   "metadata": {},
   "outputs": [
    {
     "data": {
      "text/plain": [
       "(21764, 49)"
      ]
     },
     "execution_count": 20,
     "metadata": {},
     "output_type": "execute_result"
    }
   ],
   "source": [
    "roaddata = pd.DataFrame(drop_outlier)\n",
    "roaddata.shape "
   ]
  },
  {
   "cell_type": "markdown",
   "metadata": {},
   "source": [
    "--------------------------------------------------------------------------------------------------------------------------------"
   ]
  },
  {
   "cell_type": "markdown",
   "metadata": {},
   "source": [
    "## ระดับความรุนแรงของการเกิดอุบัติเหตุประเภทใดมีอัตราการเกิดมากที่สุด?"
   ]
  },
  {
   "cell_type": "code",
   "execution_count": 22,
   "metadata": {},
   "outputs": [
    {
     "data": {
      "text/plain": [
       "Property damage only    8385\n",
       "Medical treatment       5390\n",
       "Hospitalisation         4757\n",
       "Minor injury            2964\n",
       "Fatal                    268\n",
       "Name: Crash_Severity, dtype: int64"
      ]
     },
     "execution_count": 22,
     "metadata": {},
     "output_type": "execute_result"
    }
   ],
   "source": [
    "roaddata.Crash_Severity.value_counts() #Crash_Severity counts "
   ]
  },
  {
   "cell_type": "code",
   "execution_count": 23,
   "metadata": {},
   "outputs": [
    {
     "data": {
      "image/svg+xml": [
       "<svg class=\"main-svg\" xmlns=\"http://www.w3.org/2000/svg\" xmlns:xlink=\"http://www.w3.org/1999/xlink\" width=\"700\" height=\"450\" style=\"\" viewBox=\"0 0 700 450\"><rect x=\"0\" y=\"0\" width=\"700\" height=\"450\" style=\"fill: rgb(255, 255, 255); fill-opacity: 1;\"/><defs id=\"defs-05bd0f\"><g class=\"clips\"/><g class=\"gradients\"/></defs><g class=\"bglayer\"/><g class=\"layer-below\"><g class=\"imagelayer\"/><g class=\"shapelayer\"/></g><g class=\"cartesianlayer\"/><g class=\"polarlayer\"/><g class=\"ternarylayer\"/><g class=\"geolayer\"/><g class=\"funnelarealayer\"/><g class=\"pielayer\"><g class=\"trace\" stroke-linejoin=\"round\" style=\"opacity: 1;\"><g class=\"slice\"><path class=\"surface\" d=\"M310.0154887435694,232.732749288624l0,-128.57142857142856a128.57142857142856,128.57142857142856 0 0 1 84.86253149504317,225.15798557161756Z\" style=\"pointer-events: all; stroke-width: 0; fill: rgb(255, 102, 102); fill-opacity: 1; stroke: rgb(68, 68, 68); stroke-opacity: 1;\"/><g class=\"slicetext\"><text data-notex=\"1\" class=\"slicetext\" transform=\"translate(372.1047278558216,213.97168696129447)\" text-anchor=\"middle\" x=\"0\" y=\"0\" style=\"font-family: 'Open Sans', verdana, arial, sans-serif; font-size: 12px; fill: rgb(68, 68, 68); fill-opacity: 1; white-space: pre;\">38.5%</text></g></g><g class=\"slice\"><path class=\"surface\" d=\"M304,235l-128.55749285557428,-1.8929541956751619a128.57142857142856,128.57142857142856 0 0 1 128.55749285557428,-126.6784743757534Z\" style=\"pointer-events: all; stroke-width: 0; fill: rgb(102, 153, 255); fill-opacity: 1; stroke: rgb(68, 68, 68); stroke-opacity: 1;\"/><g class=\"slicetext\"><text data-notex=\"1\" class=\"slicetext\" transform=\"translate(250.91268361873085,185.85273041146098)\" text-anchor=\"middle\" x=\"0\" y=\"0\" style=\"font-family: 'Open Sans', verdana, arial, sans-serif; font-size: 12px; fill: rgb(68, 68, 68); fill-opacity: 1; white-space: pre;\">24.8%</text></g></g><g class=\"slice\"><path class=\"surface\" d=\"M304,235l-27.07752787903573,125.68778671318067a128.57142857142856,128.57142857142856 0 0 1 -101.47996497653855,-127.58074090885583Z\" style=\"pointer-events: all; stroke-width: 0; fill: rgb(106, 212, 155); fill-opacity: 1; stroke: rgb(68, 68, 68); stroke-opacity: 1;\"/><g class=\"slicetext\"><text data-notex=\"1\" class=\"slicetext\" transform=\"translate(242.3558836130403,288.6471631594626)\" text-anchor=\"middle\" x=\"0\" y=\"0\" style=\"font-family: 'Open Sans', verdana, arial, sans-serif; font-size: 12px; fill: rgb(68, 68, 68); fill-opacity: 1; white-space: pre;\">21.9%</text></g></g><g class=\"slice\"><path class=\"surface\" d=\"M304,235l77.1431497680268,102.8569233876152a128.57142857142856,128.57142857142856 0 0 1 -104.22067764706253,22.830863325565474Z\" style=\"pointer-events: all; stroke-width: 0; fill: rgb(166, 120, 222); fill-opacity: 1; stroke: rgb(68, 68, 68); stroke-opacity: 1;\"/><g class=\"slicetext\"><text data-notex=\"1\" class=\"slicetext\" transform=\"translate(323.38235618933527,328.4279458408857)\" text-anchor=\"middle\" x=\"0\" y=\"0\" style=\"font-family: 'Open Sans', verdana, arial, sans-serif; font-size: 12px; fill: rgb(68, 68, 68); fill-opacity: 1; white-space: pre;\">13.6%</text></g></g><g class=\"slice\"><path class=\"surface\" d=\"M304,235l84.86253149504324,96.58655700018895a128.57142857142856,128.57142857142856 0 0 1 -7.71938172701644,6.27036638742625Z\" style=\"pointer-events: all; stroke-width: 0; fill: rgb(255, 255, 128); fill-opacity: 1; stroke: rgb(68, 68, 68); stroke-opacity: 1;\"/><g class=\"slicetext\"><text data-notex=\"1\" class=\"slicetext\" transform=\"translate(405.89552219404953,344.2849958669878)\" text-anchor=\"middle\" x=\"0\" y=\"0\" style=\"font-family: 'Open Sans', verdana, arial, sans-serif; font-size: 12px; fill: rgb(42, 63, 95); fill-opacity: 1; white-space: pre;\">1.23%</text></g></g></g></g><g class=\"treemaplayer\"/><g class=\"sunburstlayer\"/><g class=\"glimages\"/><defs id=\"topdefs-05bd0f\"><g class=\"clips\"/><clipPath id=\"legend05bd0f\"><rect width=\"170\" height=\"105\" x=\"0\" y=\"0\"/></clipPath></defs><g class=\"layer-above\"><g class=\"imagelayer\"/><g class=\"shapelayer\"/></g><g class=\"infolayer\"><g class=\"legend\" pointer-events=\"all\" transform=\"translate(518, 182.5)\"><rect class=\"bg\" shape-rendering=\"crispEdges\" style=\"stroke: rgb(68, 68, 68); stroke-opacity: 1; fill: rgb(255, 255, 255); fill-opacity: 1; stroke-width: 0px;\" width=\"170\" height=\"105\" x=\"0\" y=\"0\"/><g class=\"scrollbox\" transform=\"translate(0, 0)\" clip-path=\"url('#legend05bd0f')\"><g class=\"groups\"><g class=\"traces\" style=\"opacity: 1;\" transform=\"translate(0, 14.5)\"><text class=\"legendtext user-select-none\" text-anchor=\"start\" x=\"40\" y=\"4.680000000000001\" style=\"font-family: 'Open Sans', verdana, arial, sans-serif; font-size: 12px; fill: rgb(42, 63, 95); fill-opacity: 1; white-space: pre;\">Property damage only</text><g class=\"layers\" style=\"opacity: 1;\"><g class=\"legendfill\"/><g class=\"legendlines\"/><g class=\"legendsymbols\"><g class=\"legendpoints\"><path class=\"legendpie\" d=\"M6,6H-6V-6H6Z\" transform=\"translate(20,0)\" style=\"stroke-width: 0; fill: rgb(255, 102, 102); fill-opacity: 1; stroke: rgb(68, 68, 68); stroke-opacity: 1;\"/></g></g></g><rect class=\"legendtoggle\" pointer-events=\"all\" x=\"0\" y=\"-9.5\" width=\"164.359375\" height=\"19\" style=\"cursor: pointer; fill: rgb(0, 0, 0); fill-opacity: 0;\"/></g><g class=\"traces\" style=\"opacity: 1;\" transform=\"translate(0, 33.5)\"><text class=\"legendtext user-select-none\" text-anchor=\"start\" x=\"40\" y=\"4.680000000000001\" style=\"font-family: 'Open Sans', verdana, arial, sans-serif; font-size: 12px; fill: rgb(42, 63, 95); fill-opacity: 1; white-space: pre;\">Medical treatment</text><g class=\"layers\" style=\"opacity: 1;\"><g class=\"legendfill\"/><g class=\"legendlines\"/><g class=\"legendsymbols\"><g class=\"legendpoints\"><path class=\"legendpie\" d=\"M6,6H-6V-6H6Z\" transform=\"translate(20,0)\" style=\"stroke-width: 0; fill: rgb(102, 153, 255); fill-opacity: 1; stroke: rgb(68, 68, 68); stroke-opacity: 1;\"/></g></g></g><rect class=\"legendtoggle\" pointer-events=\"all\" x=\"0\" y=\"-9.5\" width=\"164.359375\" height=\"19\" style=\"cursor: pointer; fill: rgb(0, 0, 0); fill-opacity: 0;\"/></g><g class=\"traces\" style=\"opacity: 1;\" transform=\"translate(0, 52.5)\"><text class=\"legendtext user-select-none\" text-anchor=\"start\" x=\"40\" y=\"4.680000000000001\" style=\"font-family: 'Open Sans', verdana, arial, sans-serif; font-size: 12px; fill: rgb(42, 63, 95); fill-opacity: 1; white-space: pre;\">Hospitalisation</text><g class=\"layers\" style=\"opacity: 1;\"><g class=\"legendfill\"/><g class=\"legendlines\"/><g class=\"legendsymbols\"><g class=\"legendpoints\"><path class=\"legendpie\" d=\"M6,6H-6V-6H6Z\" transform=\"translate(20,0)\" style=\"stroke-width: 0; fill: rgb(106, 212, 155); fill-opacity: 1; stroke: rgb(68, 68, 68); stroke-opacity: 1;\"/></g></g></g><rect class=\"legendtoggle\" pointer-events=\"all\" x=\"0\" y=\"-9.5\" width=\"164.359375\" height=\"19\" style=\"cursor: pointer; fill: rgb(0, 0, 0); fill-opacity: 0;\"/></g><g class=\"traces\" style=\"opacity: 1;\" transform=\"translate(0, 71.5)\"><text class=\"legendtext user-select-none\" text-anchor=\"start\" x=\"40\" y=\"4.680000000000001\" style=\"font-family: 'Open Sans', verdana, arial, sans-serif; font-size: 12px; fill: rgb(42, 63, 95); fill-opacity: 1; white-space: pre;\">Minor injury</text><g class=\"layers\" style=\"opacity: 1;\"><g class=\"legendfill\"/><g class=\"legendlines\"/><g class=\"legendsymbols\"><g class=\"legendpoints\"><path class=\"legendpie\" d=\"M6,6H-6V-6H6Z\" transform=\"translate(20,0)\" style=\"stroke-width: 0; fill: rgb(166, 120, 222); fill-opacity: 1; stroke: rgb(68, 68, 68); stroke-opacity: 1;\"/></g></g></g><rect class=\"legendtoggle\" pointer-events=\"all\" x=\"0\" y=\"-9.5\" width=\"164.359375\" height=\"19\" style=\"cursor: pointer; fill: rgb(0, 0, 0); fill-opacity: 0;\"/></g><g class=\"traces\" style=\"opacity: 1;\" transform=\"translate(0, 90.5)\"><text class=\"legendtext user-select-none\" text-anchor=\"start\" x=\"40\" y=\"4.680000000000001\" style=\"font-family: 'Open Sans', verdana, arial, sans-serif; font-size: 12px; fill: rgb(42, 63, 95); fill-opacity: 1; white-space: pre;\">Fatal</text><g class=\"layers\" style=\"opacity: 1;\"><g class=\"legendfill\"/><g class=\"legendlines\"/><g class=\"legendsymbols\"><g class=\"legendpoints\"><path class=\"legendpie\" d=\"M6,6H-6V-6H6Z\" transform=\"translate(20,0)\" style=\"stroke-width: 0; fill: rgb(255, 255, 128); fill-opacity: 1; stroke: rgb(68, 68, 68); stroke-opacity: 1;\"/></g></g></g><rect class=\"legendtoggle\" pointer-events=\"all\" x=\"0\" y=\"-9.5\" width=\"164.359375\" height=\"19\" style=\"cursor: pointer; fill: rgb(0, 0, 0); fill-opacity: 0;\"/></g></g></g><rect class=\"scrollbar\" rx=\"20\" ry=\"3\" width=\"0\" height=\"0\" style=\"fill: rgb(128, 139, 164); fill-opacity: 1;\" x=\"0\" y=\"0\"/></g><g class=\"g-gtitle\"><text class=\"gtitle\" x=\"35\" y=\"50\" text-anchor=\"start\" dy=\"0em\" style=\"font-family: 'Open Sans', verdana, arial, sans-serif; font-size: 17px; fill: rgb(42, 63, 95); opacity: 1; font-weight: normal; white-space: pre;\">Crash Severity</text></g></g></svg>"
      ]
     },
     "metadata": {},
     "output_type": "display_data"
    }
   ],
   "source": [
    "import plotly.io as pio\n",
    "pio.renderers.default = \"svg\"\n",
    "import plotly.graph_objects as go\n",
    "from plotly.offline import init_notebook_mode, iplot\n",
    "\n",
    "#ทำ data visualization ด้วยการ import plotly\n",
    "#เลือก column ที่จะทำการวิเคราะห์ ในการวิเคราะห์นี้เลือกเป็น Crash_Severity \n",
    "## เพื่อวิเคราะห์หาว่าประเภทระดับความรุนแรงในการเกิดอุบัติเหตุประเภทไหนมีอัตราเกิดมากที่สุด\n",
    "\n",
    "col = \"Crash_Severity\" \n",
    "grouped = roaddata[col].value_counts().reset_index() # ทำการ count value ใน column \"Crash_Severity\"\n",
    "grouped = grouped.rename(columns = {col : \"count\", \"index\" : col}) \n",
    "\n",
    "## ส่วนของ plot ระดับความรุนแรงในการเกิดอุบัติเหตุ\n",
    "\n",
    "trace = go.Pie(labels=grouped[col], values=grouped['count'], pull=[0.05, 0], marker=dict(colors=[\"#ff6666\",\"#6699ff\",\"#6ad49b\", \"#a678de\",\"#ffff80\"])) \n",
    "layout = go.Layout(title=\"Crash Severity \", height=400, legend=dict(x=1, y=0.5, font_size=12))\n",
    "fig = go.Figure(data = [trace], layout = layout)\n",
    "fig.show(renderer='svg')\n"
   ]
  },
  {
   "cell_type": "markdown",
   "metadata": {},
   "source": [
    "### สรุปผล\n",
    "ระดับความรุนแรงของการเกิดอุบัติเหตุส่วนใหญ่เป็นประเภท Property damage only คิดเป็นร้อยละ 34.4% "
   ]
  },
  {
   "cell_type": "code",
   "execution_count": 24,
   "metadata": {},
   "outputs": [
    {
     "data": {
      "image/svg+xml": [
       "<svg class=\"main-svg\" xmlns=\"http://www.w3.org/2000/svg\" xmlns:xlink=\"http://www.w3.org/1999/xlink\" width=\"700\" height=\"450\" style=\"\" viewBox=\"0 0 700 450\"><rect x=\"0\" y=\"0\" width=\"700\" height=\"450\" style=\"fill: rgb(255, 255, 255); fill-opacity: 1;\"/><defs id=\"defs-491c94\"><g class=\"clips\"><clipPath id=\"clip491c94xyplot\" class=\"plotclip\"><rect width=\"540\" height=\"270\"/></clipPath><clipPath class=\"axesclip\" id=\"clip491c94x\"><rect x=\"80\" y=\"0\" width=\"540\" height=\"450\"/></clipPath><clipPath class=\"axesclip\" id=\"clip491c94y\"><rect x=\"0\" y=\"100\" width=\"700\" height=\"270\"/></clipPath><clipPath class=\"axesclip\" id=\"clip491c94xy\"><rect x=\"80\" y=\"100\" width=\"540\" height=\"270\"/></clipPath></g><g class=\"gradients\"/></defs><g class=\"bglayer\"><rect class=\"bg\" x=\"80\" y=\"100\" width=\"540\" height=\"270\" style=\"fill: rgb(229, 236, 246); fill-opacity: 1; stroke-width: 0;\"/></g><g class=\"layer-below\"><g class=\"imagelayer\"/><g class=\"shapelayer\"/></g><g class=\"cartesianlayer\"><g class=\"subplot xy\"><g class=\"layer-subplot\"><g class=\"shapelayer\"/><g class=\"imagelayer\"/></g><g class=\"gridlayer\"><g class=\"x\"><path class=\"xgrid crisp\" transform=\"translate(110.75,0)\" d=\"M0,100v270\" style=\"stroke: rgb(255, 255, 255); stroke-opacity: 1; stroke-width: 1px;\"/><path class=\"xgrid crisp\" transform=\"translate(230.38,0)\" d=\"M0,100v270\" style=\"stroke: rgb(255, 255, 255); stroke-opacity: 1; stroke-width: 1px;\"/><path class=\"xgrid crisp\" transform=\"translate(350,0)\" d=\"M0,100v270\" style=\"stroke: rgb(255, 255, 255); stroke-opacity: 1; stroke-width: 1px;\"/><path class=\"xgrid crisp\" transform=\"translate(469.63,0)\" d=\"M0,100v270\" style=\"stroke: rgb(255, 255, 255); stroke-opacity: 1; stroke-width: 1px;\"/><path class=\"xgrid crisp\" transform=\"translate(589.25,0)\" d=\"M0,100v270\" style=\"stroke: rgb(255, 255, 255); stroke-opacity: 1; stroke-width: 1px;\"/></g><g class=\"y\"><path class=\"ygrid crisp\" transform=\"translate(0,310.56)\" d=\"M80,0h540\" style=\"stroke: rgb(255, 255, 255); stroke-opacity: 1; stroke-width: 1px;\"/><path class=\"ygrid crisp\" transform=\"translate(0,247.59)\" d=\"M80,0h540\" style=\"stroke: rgb(255, 255, 255); stroke-opacity: 1; stroke-width: 1px;\"/><path class=\"ygrid crisp\" transform=\"translate(0,184.63)\" d=\"M80,0h540\" style=\"stroke: rgb(255, 255, 255); stroke-opacity: 1; stroke-width: 1px;\"/><path class=\"ygrid crisp\" transform=\"translate(0,121.66)\" d=\"M80,0h540\" style=\"stroke: rgb(255, 255, 255); stroke-opacity: 1; stroke-width: 1px;\"/></g></g><g class=\"zerolinelayer\"/><path class=\"xlines-below\"/><path class=\"ylines-below\"/><g class=\"overlines-below\"/><g class=\"xaxislayer-below\"/><g class=\"yaxislayer-below\"/><g class=\"overaxes-below\"/><g class=\"plot\" transform=\"translate(80, 100)\" clip-path=\"url('#clip491c94xyplot')\"><g class=\"scatterlayer mlayer\"><g class=\"trace scatter trace1b35a0\" style=\"stroke-miterlimit: 2; opacity: 1;\"><g class=\"fills\"/><g class=\"errorbars\"/><g class=\"lines\"><path class=\"js-line\" d=\"M30.75,58.81L90.56,33.62L150.38,17.25L210.19,19.77L270,54.09L329.81,64.16L389.63,49.99L449.44,45.27L509.25,45.59\" style=\"vector-effect: non-scaling-stroke; fill: none; stroke: rgb(255, 102, 102); stroke-opacity: 1; stroke-width: 2px; opacity: 1;\"/></g><g class=\"points\"><path class=\"point\" transform=\"translate(30.75,58.81)\" d=\"M3,0A3,3 0 1,1 0,-3A3,3 0 0,1 3,0Z\" style=\"opacity: 1; stroke-width: 0px; fill: rgb(255, 102, 102); fill-opacity: 1;\"/><path class=\"point\" transform=\"translate(90.56,33.62)\" d=\"M3,0A3,3 0 1,1 0,-3A3,3 0 0,1 3,0Z\" style=\"opacity: 1; stroke-width: 0px; fill: rgb(255, 102, 102); fill-opacity: 1;\"/><path class=\"point\" transform=\"translate(150.38,17.25)\" d=\"M3,0A3,3 0 1,1 0,-3A3,3 0 0,1 3,0Z\" style=\"opacity: 1; stroke-width: 0px; fill: rgb(255, 102, 102); fill-opacity: 1;\"/><path class=\"point\" transform=\"translate(210.19,19.77)\" d=\"M3,0A3,3 0 1,1 0,-3A3,3 0 0,1 3,0Z\" style=\"opacity: 1; stroke-width: 0px; fill: rgb(255, 102, 102); fill-opacity: 1;\"/><path class=\"point\" transform=\"translate(270,54.09)\" d=\"M3,0A3,3 0 1,1 0,-3A3,3 0 0,1 3,0Z\" style=\"opacity: 1; stroke-width: 0px; fill: rgb(255, 102, 102); fill-opacity: 1;\"/><path class=\"point\" transform=\"translate(329.81,64.16)\" d=\"M3,0A3,3 0 1,1 0,-3A3,3 0 0,1 3,0Z\" style=\"opacity: 1; stroke-width: 0px; fill: rgb(255, 102, 102); fill-opacity: 1;\"/><path class=\"point\" transform=\"translate(389.63,49.99)\" d=\"M3,0A3,3 0 1,1 0,-3A3,3 0 0,1 3,0Z\" style=\"opacity: 1; stroke-width: 0px; fill: rgb(255, 102, 102); fill-opacity: 1;\"/><path class=\"point\" transform=\"translate(449.44,45.27)\" d=\"M3,0A3,3 0 1,1 0,-3A3,3 0 0,1 3,0Z\" style=\"opacity: 1; stroke-width: 0px; fill: rgb(255, 102, 102); fill-opacity: 1;\"/><path class=\"point\" transform=\"translate(509.25,45.59)\" d=\"M3,0A3,3 0 1,1 0,-3A3,3 0 0,1 3,0Z\" style=\"opacity: 1; stroke-width: 0px; fill: rgb(255, 102, 102); fill-opacity: 1;\"/></g><g class=\"text\"/></g><g class=\"trace scatter tracea5e4f5\" style=\"stroke-miterlimit: 2; opacity: 1;\"><g class=\"fills\"/><g class=\"errorbars\"/><g class=\"lines\"><path class=\"js-line\" d=\"M30.75,139.41L90.56,152.63L150.38,154.21L210.19,139.09L270,156.09L389.63,142.24L449.44,142.24L509.25,156.72\" style=\"vector-effect: non-scaling-stroke; fill: none; stroke: rgb(102, 153, 255); stroke-opacity: 1; stroke-width: 2px; opacity: 1;\"/></g><g class=\"points\"><path class=\"point\" transform=\"translate(30.75,139.41)\" d=\"M3,0A3,3 0 1,1 0,-3A3,3 0 0,1 3,0Z\" style=\"opacity: 1; stroke-width: 0px; fill: rgb(102, 153, 255); fill-opacity: 1;\"/><path class=\"point\" transform=\"translate(90.56,152.63)\" d=\"M3,0A3,3 0 1,1 0,-3A3,3 0 0,1 3,0Z\" style=\"opacity: 1; stroke-width: 0px; fill: rgb(102, 153, 255); fill-opacity: 1;\"/><path class=\"point\" transform=\"translate(150.38,154.21)\" d=\"M3,0A3,3 0 1,1 0,-3A3,3 0 0,1 3,0Z\" style=\"opacity: 1; stroke-width: 0px; fill: rgb(102, 153, 255); fill-opacity: 1;\"/><path class=\"point\" transform=\"translate(210.19,139.09)\" d=\"M3,0A3,3 0 1,1 0,-3A3,3 0 0,1 3,0Z\" style=\"opacity: 1; stroke-width: 0px; fill: rgb(102, 153, 255); fill-opacity: 1;\"/><path class=\"point\" transform=\"translate(270,156.09)\" d=\"M3,0A3,3 0 1,1 0,-3A3,3 0 0,1 3,0Z\" style=\"opacity: 1; stroke-width: 0px; fill: rgb(102, 153, 255); fill-opacity: 1;\"/><path class=\"point\" transform=\"translate(329.81,148.85)\" d=\"M3,0A3,3 0 1,1 0,-3A3,3 0 0,1 3,0Z\" style=\"opacity: 1; stroke-width: 0px; fill: rgb(102, 153, 255); fill-opacity: 1;\"/><path class=\"point\" transform=\"translate(389.63,142.24)\" d=\"M3,0A3,3 0 1,1 0,-3A3,3 0 0,1 3,0Z\" style=\"opacity: 1; stroke-width: 0px; fill: rgb(102, 153, 255); fill-opacity: 1;\"/><path class=\"point\" transform=\"translate(449.44,142.24)\" d=\"M3,0A3,3 0 1,1 0,-3A3,3 0 0,1 3,0Z\" style=\"opacity: 1; stroke-width: 0px; fill: rgb(102, 153, 255); fill-opacity: 1;\"/><path class=\"point\" transform=\"translate(509.25,156.72)\" d=\"M3,0A3,3 0 1,1 0,-3A3,3 0 0,1 3,0Z\" style=\"opacity: 1; stroke-width: 0px; fill: rgb(102, 153, 255); fill-opacity: 1;\"/></g><g class=\"text\"/></g><g class=\"trace scatter tracee1446a\" style=\"stroke-miterlimit: 2; opacity: 1;\"><g class=\"fills\"/><g class=\"errorbars\"/><g class=\"lines\"><path class=\"js-line\" d=\"M30.75,197.02L90.56,181.6L150.38,173.73L210.19,163.34L270,187.26L329.81,167.74L389.63,153.58L449.44,148.22L509.25,158.3\" style=\"vector-effect: non-scaling-stroke; fill: none; stroke: rgb(106, 212, 155); stroke-opacity: 1; stroke-width: 2px; opacity: 1;\"/></g><g class=\"points\"><path class=\"point\" transform=\"translate(30.75,197.02)\" d=\"M3,0A3,3 0 1,1 0,-3A3,3 0 0,1 3,0Z\" style=\"opacity: 1; stroke-width: 0px; fill: rgb(106, 212, 155); fill-opacity: 1;\"/><path class=\"point\" transform=\"translate(90.56,181.6)\" d=\"M3,0A3,3 0 1,1 0,-3A3,3 0 0,1 3,0Z\" style=\"opacity: 1; stroke-width: 0px; fill: rgb(106, 212, 155); fill-opacity: 1;\"/><path class=\"point\" transform=\"translate(150.38,173.73)\" d=\"M3,0A3,3 0 1,1 0,-3A3,3 0 0,1 3,0Z\" style=\"opacity: 1; stroke-width: 0px; fill: rgb(106, 212, 155); fill-opacity: 1;\"/><path class=\"point\" transform=\"translate(210.19,163.34)\" d=\"M3,0A3,3 0 1,1 0,-3A3,3 0 0,1 3,0Z\" style=\"opacity: 1; stroke-width: 0px; fill: rgb(106, 212, 155); fill-opacity: 1;\"/><path class=\"point\" transform=\"translate(270,187.26)\" d=\"M3,0A3,3 0 1,1 0,-3A3,3 0 0,1 3,0Z\" style=\"opacity: 1; stroke-width: 0px; fill: rgb(106, 212, 155); fill-opacity: 1;\"/><path class=\"point\" transform=\"translate(329.81,167.74)\" d=\"M3,0A3,3 0 1,1 0,-3A3,3 0 0,1 3,0Z\" style=\"opacity: 1; stroke-width: 0px; fill: rgb(106, 212, 155); fill-opacity: 1;\"/><path class=\"point\" transform=\"translate(389.63,153.58)\" d=\"M3,0A3,3 0 1,1 0,-3A3,3 0 0,1 3,0Z\" style=\"opacity: 1; stroke-width: 0px; fill: rgb(106, 212, 155); fill-opacity: 1;\"/><path class=\"point\" transform=\"translate(449.44,148.22)\" d=\"M3,0A3,3 0 1,1 0,-3A3,3 0 0,1 3,0Z\" style=\"opacity: 1; stroke-width: 0px; fill: rgb(106, 212, 155); fill-opacity: 1;\"/><path class=\"point\" transform=\"translate(509.25,158.3)\" d=\"M3,0A3,3 0 1,1 0,-3A3,3 0 0,1 3,0Z\" style=\"opacity: 1; stroke-width: 0px; fill: rgb(106, 212, 155); fill-opacity: 1;\"/></g><g class=\"text\"/></g><g class=\"trace scatter tracebb0494\" style=\"stroke-miterlimit: 2; opacity: 1;\"><g class=\"fills\"/><g class=\"errorbars\"/><g class=\"lines\"><path class=\"js-line\" d=\"M30.75,223.47L90.56,217.8L150.38,237.64L210.19,238.27L270,224.1L329.81,213.71L389.63,237.64L449.44,249.92L509.25,252.75\" style=\"vector-effect: non-scaling-stroke; fill: none; stroke: rgb(166, 120, 222); stroke-opacity: 1; stroke-width: 2px; opacity: 1;\"/></g><g class=\"points\"><path class=\"point\" transform=\"translate(30.75,223.47)\" d=\"M3,0A3,3 0 1,1 0,-3A3,3 0 0,1 3,0Z\" style=\"opacity: 1; stroke-width: 0px; fill: rgb(166, 120, 222); fill-opacity: 1;\"/><path class=\"point\" transform=\"translate(90.56,217.8)\" d=\"M3,0A3,3 0 1,1 0,-3A3,3 0 0,1 3,0Z\" style=\"opacity: 1; stroke-width: 0px; fill: rgb(166, 120, 222); fill-opacity: 1;\"/><path class=\"point\" transform=\"translate(150.38,237.64)\" d=\"M3,0A3,3 0 1,1 0,-3A3,3 0 0,1 3,0Z\" style=\"opacity: 1; stroke-width: 0px; fill: rgb(166, 120, 222); fill-opacity: 1;\"/><path class=\"point\" transform=\"translate(210.19,238.27)\" d=\"M3,0A3,3 0 1,1 0,-3A3,3 0 0,1 3,0Z\" style=\"opacity: 1; stroke-width: 0px; fill: rgb(166, 120, 222); fill-opacity: 1;\"/><path class=\"point\" transform=\"translate(270,224.1)\" d=\"M3,0A3,3 0 1,1 0,-3A3,3 0 0,1 3,0Z\" style=\"opacity: 1; stroke-width: 0px; fill: rgb(166, 120, 222); fill-opacity: 1;\"/><path class=\"point\" transform=\"translate(329.81,213.71)\" d=\"M3,0A3,3 0 1,1 0,-3A3,3 0 0,1 3,0Z\" style=\"opacity: 1; stroke-width: 0px; fill: rgb(166, 120, 222); fill-opacity: 1;\"/><path class=\"point\" transform=\"translate(389.63,237.64)\" d=\"M3,0A3,3 0 1,1 0,-3A3,3 0 0,1 3,0Z\" style=\"opacity: 1; stroke-width: 0px; fill: rgb(166, 120, 222); fill-opacity: 1;\"/><path class=\"point\" transform=\"translate(449.44,249.92)\" d=\"M3,0A3,3 0 1,1 0,-3A3,3 0 0,1 3,0Z\" style=\"opacity: 1; stroke-width: 0px; fill: rgb(166, 120, 222); fill-opacity: 1;\"/><path class=\"point\" transform=\"translate(509.25,252.75)\" d=\"M3,0A3,3 0 1,1 0,-3A3,3 0 0,1 3,0Z\" style=\"opacity: 1; stroke-width: 0px; fill: rgb(166, 120, 222); fill-opacity: 1;\"/></g><g class=\"text\"/></g></g></g><g class=\"overplot\"/><path class=\"xlines-above crisp\" style=\"fill: none;\" d=\"M0,0\"/><path class=\"ylines-above crisp\" style=\"fill: none;\" d=\"M0,0\"/><g class=\"overlines-above\"/><g class=\"xaxislayer-above\"><g class=\"xtick\"><text text-anchor=\"middle\" x=\"0\" y=\"383\" transform=\"translate(110.75,0)\" style=\"font-family: 'Open Sans', verdana, arial, sans-serif; font-size: 12px; fill: rgb(42, 63, 95); fill-opacity: 1; white-space: pre;\">2002</text></g><g class=\"xtick\"><text text-anchor=\"middle\" x=\"0\" y=\"383\" transform=\"translate(230.38,0)\" style=\"font-family: 'Open Sans', verdana, arial, sans-serif; font-size: 12px; fill: rgb(42, 63, 95); fill-opacity: 1; white-space: pre;\">2004</text></g><g class=\"xtick\"><text text-anchor=\"middle\" x=\"0\" y=\"383\" transform=\"translate(350,0)\" style=\"font-family: 'Open Sans', verdana, arial, sans-serif; font-size: 12px; fill: rgb(42, 63, 95); fill-opacity: 1; white-space: pre;\">2006</text></g><g class=\"xtick\"><text text-anchor=\"middle\" x=\"0\" y=\"383\" transform=\"translate(469.63,0)\" style=\"font-family: 'Open Sans', verdana, arial, sans-serif; font-size: 12px; fill: rgb(42, 63, 95); fill-opacity: 1; white-space: pre;\">2008</text></g><g class=\"xtick\"><text text-anchor=\"middle\" x=\"0\" y=\"383\" transform=\"translate(589.25,0)\" style=\"font-family: 'Open Sans', verdana, arial, sans-serif; font-size: 12px; fill: rgb(42, 63, 95); fill-opacity: 1; white-space: pre;\">2010</text></g></g><g class=\"yaxislayer-above\"><g class=\"ytick\"><text text-anchor=\"end\" x=\"79\" y=\"4.199999999999999\" transform=\"translate(0,310.56)\" style=\"font-family: 'Open Sans', verdana, arial, sans-serif; font-size: 12px; fill: rgb(42, 63, 95); fill-opacity: 1; white-space: pre;\">400</text></g><g class=\"ytick\"><text text-anchor=\"end\" x=\"79\" y=\"4.199999999999999\" transform=\"translate(0,247.59)\" style=\"font-family: 'Open Sans', verdana, arial, sans-serif; font-size: 12px; fill: rgb(42, 63, 95); fill-opacity: 1; white-space: pre;\">600</text></g><g class=\"ytick\"><text text-anchor=\"end\" x=\"79\" y=\"4.199999999999999\" transform=\"translate(0,184.63)\" style=\"font-family: 'Open Sans', verdana, arial, sans-serif; font-size: 12px; fill: rgb(42, 63, 95); fill-opacity: 1; white-space: pre;\">800</text></g><g class=\"ytick\"><text text-anchor=\"end\" x=\"79\" y=\"4.199999999999999\" transform=\"translate(0,121.66)\" style=\"font-family: 'Open Sans', verdana, arial, sans-serif; font-size: 12px; fill: rgb(42, 63, 95); fill-opacity: 1; white-space: pre;\">1000</text></g></g><g class=\"overaxes-above\"/></g></g><g class=\"polarlayer\"/><g class=\"ternarylayer\"/><g class=\"geolayer\"/><g class=\"funnelarealayer\"/><g class=\"pielayer\"/><g class=\"treemaplayer\"/><g class=\"sunburstlayer\"/><g class=\"glimages\"/><defs id=\"topdefs-491c94\"><g class=\"clips\"/><clipPath id=\"legend491c94\"><rect width=\"497\" height=\"29\" x=\"0\" y=\"0\"/></clipPath></defs><g class=\"layer-above\"><g class=\"imagelayer\"/><g class=\"shapelayer\"/></g><g class=\"infolayer\"><g class=\"legend\" pointer-events=\"all\" transform=\"translate(107, 59.50000000000002)\"><rect class=\"bg\" shape-rendering=\"crispEdges\" style=\"stroke: rgb(68, 68, 68); stroke-opacity: 1; fill: rgb(255, 255, 255); fill-opacity: 1; stroke-width: 0px;\" width=\"497\" height=\"29\" x=\"0\" y=\"0\"/><g class=\"scrollbox\" transform=\"translate(0, 0)\" clip-path=\"url('#legend491c94')\"><g class=\"groups\"><g class=\"traces\" style=\"opacity: 1;\" transform=\"translate(0, 14.5)\"><text class=\"legendtext user-select-none\" text-anchor=\"start\" x=\"40\" y=\"3.9\" style=\"font-family: 'Open Sans', verdana, arial, sans-serif; font-size: 10px; fill: rgb(42, 63, 95); fill-opacity: 1; white-space: pre;\">Property damage only</text><g class=\"layers\" style=\"opacity: 1;\"><g class=\"legendfill\"/><g class=\"legendlines\"><path class=\"js-line\" d=\"M5,0h30\" style=\"fill: none; stroke: rgb(255, 102, 102); stroke-opacity: 1; stroke-width: 2px;\"/></g><g class=\"legendsymbols\"><g class=\"legendpoints\"><path class=\"scatterpts\" transform=\"translate(20,0)\" d=\"M3,0A3,3 0 1,1 0,-3A3,3 0 0,1 3,0Z\" style=\"opacity: 1; stroke-width: 0px; fill: rgb(255, 102, 102); fill-opacity: 1;\"/></g></g></g><rect class=\"legendtoggle\" pointer-events=\"all\" x=\"0\" y=\"-9.5\" width=\"145.921875\" height=\"19\" style=\"cursor: pointer; fill: rgb(0, 0, 0); fill-opacity: 0;\"/></g><g class=\"traces\" style=\"opacity: 1;\" transform=\"translate(148.421875, 14.5)\"><text class=\"legendtext user-select-none\" text-anchor=\"start\" x=\"40\" y=\"3.9\" style=\"font-family: 'Open Sans', verdana, arial, sans-serif; font-size: 10px; fill: rgb(42, 63, 95); fill-opacity: 1; white-space: pre;\">Medical treatment</text><g class=\"layers\" style=\"opacity: 1;\"><g class=\"legendfill\"/><g class=\"legendlines\"><path class=\"js-line\" d=\"M5,0h30\" style=\"fill: none; stroke: rgb(102, 153, 255); stroke-opacity: 1; stroke-width: 2px;\"/></g><g class=\"legendsymbols\"><g class=\"legendpoints\"><path class=\"scatterpts\" transform=\"translate(20,0)\" d=\"M3,0A3,3 0 1,1 0,-3A3,3 0 0,1 3,0Z\" style=\"opacity: 1; stroke-width: 0px; fill: rgb(102, 153, 255); fill-opacity: 1;\"/></g></g></g><rect class=\"legendtoggle\" pointer-events=\"all\" x=\"0\" y=\"-9.5\" width=\"128.609375\" height=\"19\" style=\"cursor: pointer; fill: rgb(0, 0, 0); fill-opacity: 0;\"/></g><g class=\"traces\" style=\"opacity: 1;\" transform=\"translate(279.53125, 14.5)\"><text class=\"legendtext user-select-none\" text-anchor=\"start\" x=\"40\" y=\"3.9\" style=\"font-family: 'Open Sans', verdana, arial, sans-serif; font-size: 10px; fill: rgb(42, 63, 95); fill-opacity: 1; white-space: pre;\">Hospitalisation</text><g class=\"layers\" style=\"opacity: 1;\"><g class=\"legendfill\"/><g class=\"legendlines\"><path class=\"js-line\" d=\"M5,0h30\" style=\"fill: none; stroke: rgb(106, 212, 155); stroke-opacity: 1; stroke-width: 2px;\"/></g><g class=\"legendsymbols\"><g class=\"legendpoints\"><path class=\"scatterpts\" transform=\"translate(20,0)\" d=\"M3,0A3,3 0 1,1 0,-3A3,3 0 0,1 3,0Z\" style=\"opacity: 1; stroke-width: 0px; fill: rgb(106, 212, 155); fill-opacity: 1;\"/></g></g></g><rect class=\"legendtoggle\" pointer-events=\"all\" x=\"0\" y=\"-9.5\" width=\"112.078125\" height=\"19\" style=\"cursor: pointer; fill: rgb(0, 0, 0); fill-opacity: 0;\"/></g><g class=\"traces\" style=\"opacity: 1;\" transform=\"translate(394.109375, 14.5)\"><text class=\"legendtext user-select-none\" text-anchor=\"start\" x=\"40\" y=\"3.9\" style=\"font-family: 'Open Sans', verdana, arial, sans-serif; font-size: 10px; fill: rgb(42, 63, 95); fill-opacity: 1; white-space: pre;\">Minor injury</text><g class=\"layers\" style=\"opacity: 1;\"><g class=\"legendfill\"/><g class=\"legendlines\"><path class=\"js-line\" d=\"M5,0h30\" style=\"fill: none; stroke: rgb(166, 120, 222); stroke-opacity: 1; stroke-width: 2px;\"/></g><g class=\"legendsymbols\"><g class=\"legendpoints\"><path class=\"scatterpts\" transform=\"translate(20,0)\" d=\"M3,0A3,3 0 1,1 0,-3A3,3 0 0,1 3,0Z\" style=\"opacity: 1; stroke-width: 0px; fill: rgb(166, 120, 222); fill-opacity: 1;\"/></g></g></g><rect class=\"legendtoggle\" pointer-events=\"all\" x=\"0\" y=\"-9.5\" width=\"99.671875\" height=\"19\" style=\"cursor: pointer; fill: rgb(0, 0, 0); fill-opacity: 0;\"/></g></g></g><rect class=\"scrollbar\" rx=\"20\" ry=\"3\" width=\"0\" height=\"0\" style=\"fill: rgb(128, 139, 164); fill-opacity: 1;\" x=\"0\" y=\"0\"/></g><g class=\"g-gtitle\"><text class=\"gtitle\" x=\"35\" y=\"50\" text-anchor=\"start\" dy=\"0em\" style=\"font-family: 'Open Sans', verdana, arial, sans-serif; font-size: 17px; fill: rgb(42, 63, 95); opacity: 1; font-weight: normal; white-space: pre;\">จำนวนประเภทความรุนแรงของการเกิดอุบัติเหตุในแต่ละปี</text></g><g class=\"g-xtitle\"><text class=\"xtitle\" x=\"350\" y=\"411.14375\" text-anchor=\"middle\" style=\"font-family: 'Open Sans', verdana, arial, sans-serif; font-size: 14px; fill: rgb(42, 63, 95); opacity: 1; font-weight: normal; white-space: pre;\">ปี</text></g><g class=\"g-ytitle\"><text class=\"ytitle\" transform=\"rotate(-90,26.746875000000003,235)\" x=\"26.746875000000003\" y=\"235\" text-anchor=\"middle\" style=\"font-family: 'Open Sans', verdana, arial, sans-serif; font-size: 14px; fill: rgb(42, 63, 95); opacity: 1; font-weight: normal; white-space: pre;\">จำนวน</text></g></g></svg>"
      ]
     },
     "metadata": {},
     "output_type": "display_data"
    }
   ],
   "source": [
    "d1 = roaddata[roaddata[\"Crash_Severity\"] == \"Property damage only\"]\n",
    "d2 = roaddata[roaddata[\"Crash_Severity\"] == \"Medical treatment\"]\n",
    "d3 = roaddata[roaddata[\"Crash_Severity\"] == \"Hospitalisation\"]\n",
    "d4 = roaddata[roaddata[\"Crash_Severity\"] == \"Minor injury\"]\n",
    "\n",
    "col = \"Crash_Year\"\n",
    "\n",
    "vc1 = d1[col].value_counts().reset_index()\n",
    "vc1 = vc1.rename(columns = {col : \"count\", \"index\" : col})\n",
    "vc1['percent'] = vc1['count'].apply(lambda x : 100*x/sum(vc1['count']))\n",
    "vc1 = vc1.sort_values(col)\n",
    "\n",
    "vc2 = d2[col].value_counts().reset_index()\n",
    "vc2 = vc2.rename(columns = {col : \"count\", \"index\" : col})\n",
    "vc2['percent'] = vc2['count'].apply(lambda x : 100*x/sum(vc2['count']))\n",
    "vc2 = vc2.sort_values(col)\n",
    "\n",
    "vc3 = d3[col].value_counts().reset_index()\n",
    "vc3 = vc3.rename(columns = {col : \"count\", \"index\" : col})\n",
    "vc3['percent'] = vc3['count'].apply(lambda x : 100*x/sum(vc3['count']))\n",
    "vc3 = vc3.sort_values(col)\n",
    "\n",
    "vc4 = d4[col].value_counts().reset_index()\n",
    "vc4 = vc4.rename(columns = {col : \"count\", \"index\" : col})\n",
    "vc4['percent'] = vc4['count'].apply(lambda x : 100*x/sum(vc4['count']))\n",
    "vc4 = vc4.sort_values(col)\n",
    "\n",
    "\n",
    "trace1 = go.Scatter(x=vc1[col], y=vc1[\"count\"], name=\"Property damage only\", marker=dict(color=\"#ff6666\"))\n",
    "trace2 = go.Scatter(x=vc2[col], y=vc2[\"count\"], name=\"Medical treatment\", marker=dict(color=\"#6699ff\"))\n",
    "trace3 = go.Scatter(x=vc3[col], y=vc3[\"count\"], name=\"Hospitalisation\", marker=dict(color=\"#6ad49b\"))\n",
    "trace4 = go.Scatter(x=vc4[col], y=vc4[\"count\"], name=\"Minor injury\", marker=dict(color=\"#a678de\"))\n",
    "data = [trace1, trace2, trace3,trace4]\n",
    "\n",
    "\n",
    "layout = go.Layout(title=\"จำนวนประเภทความรุนแรงของการเกิดอุบัติเหตุในแต่ละปี\",    xaxis_title=\"ปี\",\n",
    "    yaxis_title=\"จำนวน\",legend=dict(x=0.05, y=1.15, orientation=\"h\" , font_size=10))\n",
    "fig = go.Figure(data, layout=layout )\n",
    "fig.show(renderer='svg')"
   ]
  },
  {
   "cell_type": "markdown",
   "metadata": {},
   "source": [
    "หมายเหตุ\n",
    "- ความเสียหายต่อทรัพย์สินเท่านั้น เก็บข้อมูลถึงวันที่ 31 ธันวาคม 2553"
   ]
  },
  {
   "cell_type": "code",
   "execution_count": 25,
   "metadata": {},
   "outputs": [
    {
     "data": {
      "text/html": [
       "<div>\n",
       "<style scoped>\n",
       "    .dataframe tbody tr th:only-of-type {\n",
       "        vertical-align: middle;\n",
       "    }\n",
       "\n",
       "    .dataframe tbody tr th {\n",
       "        vertical-align: top;\n",
       "    }\n",
       "\n",
       "    .dataframe thead th {\n",
       "        text-align: right;\n",
       "    }\n",
       "</style>\n",
       "<table border=\"1\" class=\"dataframe\">\n",
       "  <thead>\n",
       "    <tr style=\"text-align: right;\">\n",
       "      <th></th>\n",
       "      <th>Crash_Month</th>\n",
       "      <th>count</th>\n",
       "      <th>percent</th>\n",
       "    </tr>\n",
       "  </thead>\n",
       "  <tbody>\n",
       "    <tr>\n",
       "      <th>0</th>\n",
       "      <td>March</td>\n",
       "      <td>103</td>\n",
       "      <td>10.157791</td>\n",
       "    </tr>\n",
       "    <tr>\n",
       "      <th>1</th>\n",
       "      <td>October</td>\n",
       "      <td>96</td>\n",
       "      <td>9.467456</td>\n",
       "    </tr>\n",
       "    <tr>\n",
       "      <th>2</th>\n",
       "      <td>April</td>\n",
       "      <td>93</td>\n",
       "      <td>9.171598</td>\n",
       "    </tr>\n",
       "    <tr>\n",
       "      <th>3</th>\n",
       "      <td>August</td>\n",
       "      <td>92</td>\n",
       "      <td>9.072978</td>\n",
       "    </tr>\n",
       "    <tr>\n",
       "      <th>4</th>\n",
       "      <td>July</td>\n",
       "      <td>91</td>\n",
       "      <td>8.974359</td>\n",
       "    </tr>\n",
       "    <tr>\n",
       "      <th>5</th>\n",
       "      <td>May</td>\n",
       "      <td>89</td>\n",
       "      <td>8.777120</td>\n",
       "    </tr>\n",
       "    <tr>\n",
       "      <th>6</th>\n",
       "      <td>December</td>\n",
       "      <td>82</td>\n",
       "      <td>8.086785</td>\n",
       "    </tr>\n",
       "    <tr>\n",
       "      <th>7</th>\n",
       "      <td>September</td>\n",
       "      <td>81</td>\n",
       "      <td>7.988166</td>\n",
       "    </tr>\n",
       "    <tr>\n",
       "      <th>8</th>\n",
       "      <td>November</td>\n",
       "      <td>76</td>\n",
       "      <td>7.495069</td>\n",
       "    </tr>\n",
       "    <tr>\n",
       "      <th>9</th>\n",
       "      <td>January</td>\n",
       "      <td>76</td>\n",
       "      <td>7.495069</td>\n",
       "    </tr>\n",
       "    <tr>\n",
       "      <th>10</th>\n",
       "      <td>June</td>\n",
       "      <td>72</td>\n",
       "      <td>7.100592</td>\n",
       "    </tr>\n",
       "    <tr>\n",
       "      <th>11</th>\n",
       "      <td>February</td>\n",
       "      <td>63</td>\n",
       "      <td>6.213018</td>\n",
       "    </tr>\n",
       "  </tbody>\n",
       "</table>\n",
       "</div>"
      ],
      "text/plain": [
       "   Crash_Month  count    percent\n",
       "0        March    103  10.157791\n",
       "1      October     96   9.467456\n",
       "2        April     93   9.171598\n",
       "3       August     92   9.072978\n",
       "4         July     91   8.974359\n",
       "5          May     89   8.777120\n",
       "6     December     82   8.086785\n",
       "7    September     81   7.988166\n",
       "8     November     76   7.495069\n",
       "9      January     76   7.495069\n",
       "10        June     72   7.100592\n",
       "11    February     63   6.213018"
      ]
     },
     "execution_count": 25,
     "metadata": {},
     "output_type": "execute_result"
    }
   ],
   "source": [
    "roaddata_y = roaddata[(roaddata['Crash_Year'] == 2004)].reset_index(drop=True)\n",
    "d1 = roaddata_y[roaddata_y[\"Crash_Severity\"] == \"Property damage only\"]\n",
    "\n",
    "col = \"Crash_Month\"\n",
    "\n",
    "vc1 = d1[col].value_counts().reset_index()\n",
    "vc1 = vc1.rename(columns = {col : \"count\", \"index\" : col})\n",
    "vc1['percent'] = vc1['count'].apply(lambda x : 100*x/sum(vc1['count']))\n",
    "vc1"
   ]
  },
  {
   "cell_type": "code",
   "execution_count": null,
   "metadata": {},
   "outputs": [],
   "source": [
    "\n",
    "d1 = roaddata_y[roaddata_y[\"Crash_Severity\"] == \"Property damage only\"]\n",
    "\n",
    "col = \"Crash_Month\"\n",
    "\n",
    "\n",
    "vc1 = d1[col].value_counts().reset_index()\n",
    "vc1 = vc1.rename(columns = {col : \"count\", \"index\" : col})\n",
    "vc1['percent'] = vc1['count'].apply(lambda x : 100*x/sum(vc1['count']))\n",
    "\n",
    "\n",
    "trace1 = go.Scatter(x=vc1[col], y=vc1[\"count\"], name=\"Property damage only\", marker=dict(color=\"#ff6666\"))\n",
    "\n",
    "data = [trace1]\n",
    "\n",
    "\n",
    "layout = go.Layout(title=\"จำนวนความรุนแรงประเภท Property damage only ในปี 2004\",    xaxis_title= \"เดือน\",\n",
    "    yaxis_title=\"จำนวน\",legend=dict(x=0.05, y=1.15, orientation=\"h\" , font_size=10))\n",
    "fig = go.Figure(data, layout=layout )\n",
    "fig.show(renderer='svg')"
   ]
  },
  {
   "cell_type": "code",
   "execution_count": null,
   "metadata": {},
   "outputs": [],
   "source": []
  },
  {
   "cell_type": "code",
   "execution_count": null,
   "metadata": {},
   "outputs": [],
   "source": []
  }
 ],
 "metadata": {
  "kernelspec": {
   "display_name": "Python 3",
   "language": "python",
   "name": "python3"
  },
  "language_info": {
   "codemirror_mode": {
    "name": "ipython",
    "version": 3
   },
   "file_extension": ".py",
   "mimetype": "text/x-python",
   "name": "python",
   "nbconvert_exporter": "python",
   "pygments_lexer": "ipython3",
   "version": "3.8.3"
  }
 },
 "nbformat": 4,
 "nbformat_minor": 4
}
