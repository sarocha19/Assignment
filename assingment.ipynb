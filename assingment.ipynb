{
 "cells": [
  {
   "cell_type": "markdown",
   "metadata": {},
   "source": [
    "# Assignment 1\n",
    "## Data Collection & Preparation\n",
    "\n",
    "####  API ที่เลือก :\n",
    "\n",
    "Crash data from Queensland roads\n",
    "\n",
    "Road crash locations เป็นข้อมูลเกี่ยวกับสถานที่และลักษณะของการขัดข้องภายในประเทศควีนส์แลนด์ สำหรับการจราจรบนถนนที่รายงานทั้งหมด --- 1 มกราคม 2544 ถึง 31 ธันวาคม 2561---\n",
    "\n",
    "\n",
    "#### หมายเหตุ :\n",
    "- อุบัติเหตุจราจรทางถนนร้ายแรง เก็บข้อมูลถึงวันที่ 31 ธันวาคม 2561 \n",
    "- การรักษาในโรงพยาบาลการรักษาพยาบาลและการบาดเจ็บเล็กน้อย เก็บข้อมูลถึง 31 ธันวาคม 2561\n",
    "- ความเสียหายต่อทรัพย์สินเท่านั้น เก็บข้อมูลถึงวันที่ 31 ธันวาคม 2553\n",
    "\n",
    "link API : https://www.data.qld.gov.au/dataset/crash-data-from-queensland-roads/resource/e88943c0-5968-4972-a15f-38e120d72ec0?truncate=30&inner_span=True"
   ]
  },
  {
   "cell_type": "markdown",
   "metadata": {},
   "source": [
    "### ไม่ต้องกดรันนะจ๊ะ"
   ]
  },
  {
   "cell_type": "code",
   "execution_count": 1,
   "metadata": {},
   "outputs": [],
   "source": [
    "import urllib\n",
    "import requests\n",
    "from pandas.io.json import json_normalize\n",
    "import json\n",
    "import pandas as pd\n",
    "import numpy as np\n",
    "import requests\n",
    "\n",
    "#Request API\n",
    "url = 'https://www.data.qld.gov.au/api/3/action/datastore_search?resource_id=e88943c0-5968-4972-a15f-38e120d72ec0&limit=29000'\n",
    "r = requests.get(url) #แปลง API Request ตัวแปร r ให้เป็น dict\n",
    "j = r.json() \n",
    "\n",
    "###ไม่ต้องกดรันนะจ๊ะ"
   ]
  },
  {
   "cell_type": "markdown",
   "metadata": {},
   "source": [
    "### ไม่ต้องกดรันนะจ๊ะ"
   ]
  },
  {
   "cell_type": "code",
   "execution_count": 3,
   "metadata": {
    "scrolled": false
   },
   "outputs": [
    {
     "data": {
      "text/plain": [
       "dict"
      ]
     },
     "execution_count": 3,
     "metadata": {},
     "output_type": "execute_result"
    }
   ],
   "source": [
    "type(j) #ตรวจสอบ type "
   ]
  },
  {
   "cell_type": "code",
   "execution_count": 22,
   "metadata": {
    "scrolled": true
   },
   "outputs": [],
   "source": [
    "#ดึงข้อมูลเพื่อแสดงค่าใน dict มาใส่ใน DataFrame โดยอ้างอิงจาก key:result และ key:records \n",
    "df = pd.DataFrame(j)\n",
    "df = pd.DataFrame(j[\"result\"][\"records\"])"
   ]
  },
  {
   "cell_type": "code",
   "execution_count": 23,
   "metadata": {},
   "outputs": [],
   "source": [
    "#การ save DataFrame เป็นไฟล์ CSV ด้วย to_csv\n",
    "df.to_csv(\"Data/Road_Crash_location.csv\",index=False)"
   ]
  },
  {
   "cell_type": "markdown",
   "metadata": {},
   "source": [
    "## เริ่มตรงนี้"
   ]
  },
  {
   "cell_type": "code",
   "execution_count": 250,
   "metadata": {},
   "outputs": [
    {
     "data": {
      "text/html": [
       "<div>\n",
       "<style scoped>\n",
       "    .dataframe tbody tr th:only-of-type {\n",
       "        vertical-align: middle;\n",
       "    }\n",
       "\n",
       "    .dataframe tbody tr th {\n",
       "        vertical-align: top;\n",
       "    }\n",
       "\n",
       "    .dataframe thead th {\n",
       "        text-align: right;\n",
       "    }\n",
       "</style>\n",
       "<table border=\"1\" class=\"dataframe\">\n",
       "  <thead>\n",
       "    <tr style=\"text-align: right;\">\n",
       "      <th></th>\n",
       "      <th>Crash_Ref_Number</th>\n",
       "      <th>Crash_Severity</th>\n",
       "      <th>Crash_Year</th>\n",
       "      <th>Crash_Month</th>\n",
       "      <th>Crash_Day_Of_Week</th>\n",
       "      <th>Crash_Hour</th>\n",
       "      <th>Crash_Nature</th>\n",
       "      <th>Crash_Type</th>\n",
       "      <th>Crash_Longitude_GDA94</th>\n",
       "      <th>Crash_Latitude_GDA94</th>\n",
       "      <th>...</th>\n",
       "      <th>Count_Casualty_MedicallyTreated</th>\n",
       "      <th>Count_Casualty_MinorInjury</th>\n",
       "      <th>Count_Casualty_Total</th>\n",
       "      <th>Count_Unit_Car</th>\n",
       "      <th>Count_Unit_Motorcycle_Moped</th>\n",
       "      <th>Count_Unit_Truck</th>\n",
       "      <th>Count_Unit_Bus</th>\n",
       "      <th>Count_Unit_Bicycle</th>\n",
       "      <th>Count_Unit_Pedestrian</th>\n",
       "      <th>Count_Unit_Other</th>\n",
       "    </tr>\n",
       "    <tr>\n",
       "      <th>_id</th>\n",
       "      <th></th>\n",
       "      <th></th>\n",
       "      <th></th>\n",
       "      <th></th>\n",
       "      <th></th>\n",
       "      <th></th>\n",
       "      <th></th>\n",
       "      <th></th>\n",
       "      <th></th>\n",
       "      <th></th>\n",
       "      <th></th>\n",
       "      <th></th>\n",
       "      <th></th>\n",
       "      <th></th>\n",
       "      <th></th>\n",
       "      <th></th>\n",
       "      <th></th>\n",
       "      <th></th>\n",
       "      <th></th>\n",
       "      <th></th>\n",
       "      <th></th>\n",
       "    </tr>\n",
       "  </thead>\n",
       "  <tbody>\n",
       "    <tr>\n",
       "      <th>1</th>\n",
       "      <td>1</td>\n",
       "      <td>Property damage only</td>\n",
       "      <td>2001</td>\n",
       "      <td>January</td>\n",
       "      <td>Monday</td>\n",
       "      <td>9</td>\n",
       "      <td>Angle</td>\n",
       "      <td>Multi-Vehicle</td>\n",
       "      <td>152.960485</td>\n",
       "      <td>-26.685052</td>\n",
       "      <td>...</td>\n",
       "      <td>0</td>\n",
       "      <td>0</td>\n",
       "      <td>0</td>\n",
       "      <td>2</td>\n",
       "      <td>0</td>\n",
       "      <td>0</td>\n",
       "      <td>0</td>\n",
       "      <td>0</td>\n",
       "      <td>0</td>\n",
       "      <td>0</td>\n",
       "    </tr>\n",
       "    <tr>\n",
       "      <th>2</th>\n",
       "      <td>2</td>\n",
       "      <td>Property damage only</td>\n",
       "      <td>2001</td>\n",
       "      <td>January</td>\n",
       "      <td>Tuesday</td>\n",
       "      <td>23</td>\n",
       "      <td>Hit object</td>\n",
       "      <td>Single Vehicle</td>\n",
       "      <td>153.038263</td>\n",
       "      <td>-27.550776</td>\n",
       "      <td>...</td>\n",
       "      <td>0</td>\n",
       "      <td>0</td>\n",
       "      <td>0</td>\n",
       "      <td>1</td>\n",
       "      <td>0</td>\n",
       "      <td>0</td>\n",
       "      <td>0</td>\n",
       "      <td>0</td>\n",
       "      <td>0</td>\n",
       "      <td>0</td>\n",
       "    </tr>\n",
       "    <tr>\n",
       "      <th>3</th>\n",
       "      <td>3</td>\n",
       "      <td>Medical treatment</td>\n",
       "      <td>2001</td>\n",
       "      <td>January</td>\n",
       "      <td>Tuesday</td>\n",
       "      <td>16</td>\n",
       "      <td>Angle</td>\n",
       "      <td>Multi-Vehicle</td>\n",
       "      <td>153.116342</td>\n",
       "      <td>-27.545153</td>\n",
       "      <td>...</td>\n",
       "      <td>1</td>\n",
       "      <td>0</td>\n",
       "      <td>1</td>\n",
       "      <td>2</td>\n",
       "      <td>0</td>\n",
       "      <td>0</td>\n",
       "      <td>0</td>\n",
       "      <td>0</td>\n",
       "      <td>0</td>\n",
       "      <td>0</td>\n",
       "    </tr>\n",
       "    <tr>\n",
       "      <th>4</th>\n",
       "      <td>4</td>\n",
       "      <td>Property damage only</td>\n",
       "      <td>2001</td>\n",
       "      <td>January</td>\n",
       "      <td>Tuesday</td>\n",
       "      <td>12</td>\n",
       "      <td>Rear-end</td>\n",
       "      <td>Multi-Vehicle</td>\n",
       "      <td>153.021629</td>\n",
       "      <td>-27.384448</td>\n",
       "      <td>...</td>\n",
       "      <td>0</td>\n",
       "      <td>0</td>\n",
       "      <td>0</td>\n",
       "      <td>2</td>\n",
       "      <td>0</td>\n",
       "      <td>0</td>\n",
       "      <td>0</td>\n",
       "      <td>0</td>\n",
       "      <td>0</td>\n",
       "      <td>0</td>\n",
       "    </tr>\n",
       "    <tr>\n",
       "      <th>5</th>\n",
       "      <td>5</td>\n",
       "      <td>Property damage only</td>\n",
       "      <td>2001</td>\n",
       "      <td>January</td>\n",
       "      <td>Tuesday</td>\n",
       "      <td>10</td>\n",
       "      <td>Rear-end</td>\n",
       "      <td>Multi-Vehicle</td>\n",
       "      <td>152.937497</td>\n",
       "      <td>-27.083184</td>\n",
       "      <td>...</td>\n",
       "      <td>0</td>\n",
       "      <td>0</td>\n",
       "      <td>0</td>\n",
       "      <td>3</td>\n",
       "      <td>0</td>\n",
       "      <td>0</td>\n",
       "      <td>0</td>\n",
       "      <td>0</td>\n",
       "      <td>0</td>\n",
       "      <td>0</td>\n",
       "    </tr>\n",
       "    <tr>\n",
       "      <th>...</th>\n",
       "      <td>...</td>\n",
       "      <td>...</td>\n",
       "      <td>...</td>\n",
       "      <td>...</td>\n",
       "      <td>...</td>\n",
       "      <td>...</td>\n",
       "      <td>...</td>\n",
       "      <td>...</td>\n",
       "      <td>...</td>\n",
       "      <td>...</td>\n",
       "      <td>...</td>\n",
       "      <td>...</td>\n",
       "      <td>...</td>\n",
       "      <td>...</td>\n",
       "      <td>...</td>\n",
       "      <td>...</td>\n",
       "      <td>...</td>\n",
       "      <td>...</td>\n",
       "      <td>...</td>\n",
       "      <td>...</td>\n",
       "      <td>...</td>\n",
       "    </tr>\n",
       "    <tr>\n",
       "      <th>28993</th>\n",
       "      <td>28993</td>\n",
       "      <td>Minor injury</td>\n",
       "      <td>2014</td>\n",
       "      <td>August</td>\n",
       "      <td>Tuesday</td>\n",
       "      <td>16</td>\n",
       "      <td>Angle</td>\n",
       "      <td>Multi-Vehicle</td>\n",
       "      <td>153.041664</td>\n",
       "      <td>-27.414289</td>\n",
       "      <td>...</td>\n",
       "      <td>0</td>\n",
       "      <td>1</td>\n",
       "      <td>1</td>\n",
       "      <td>2</td>\n",
       "      <td>0</td>\n",
       "      <td>0</td>\n",
       "      <td>0</td>\n",
       "      <td>0</td>\n",
       "      <td>0</td>\n",
       "      <td>0</td>\n",
       "    </tr>\n",
       "    <tr>\n",
       "      <th>28994</th>\n",
       "      <td>28994</td>\n",
       "      <td>Hospitalisation</td>\n",
       "      <td>2014</td>\n",
       "      <td>August</td>\n",
       "      <td>Tuesday</td>\n",
       "      <td>7</td>\n",
       "      <td>Angle</td>\n",
       "      <td>Multi-Vehicle</td>\n",
       "      <td>153.012600</td>\n",
       "      <td>-27.777425</td>\n",
       "      <td>...</td>\n",
       "      <td>0</td>\n",
       "      <td>0</td>\n",
       "      <td>1</td>\n",
       "      <td>2</td>\n",
       "      <td>0</td>\n",
       "      <td>0</td>\n",
       "      <td>0</td>\n",
       "      <td>0</td>\n",
       "      <td>0</td>\n",
       "      <td>1</td>\n",
       "    </tr>\n",
       "    <tr>\n",
       "      <th>28995</th>\n",
       "      <td>28995</td>\n",
       "      <td>Hospitalisation</td>\n",
       "      <td>2014</td>\n",
       "      <td>August</td>\n",
       "      <td>Wednesday</td>\n",
       "      <td>17</td>\n",
       "      <td>Angle</td>\n",
       "      <td>Multi-Vehicle</td>\n",
       "      <td>152.927540</td>\n",
       "      <td>-27.176794</td>\n",
       "      <td>...</td>\n",
       "      <td>0</td>\n",
       "      <td>0</td>\n",
       "      <td>1</td>\n",
       "      <td>1</td>\n",
       "      <td>0</td>\n",
       "      <td>0</td>\n",
       "      <td>0</td>\n",
       "      <td>0</td>\n",
       "      <td>0</td>\n",
       "      <td>0</td>\n",
       "    </tr>\n",
       "    <tr>\n",
       "      <th>28996</th>\n",
       "      <td>28996</td>\n",
       "      <td>Hospitalisation</td>\n",
       "      <td>2014</td>\n",
       "      <td>August</td>\n",
       "      <td>Wednesday</td>\n",
       "      <td>14</td>\n",
       "      <td>Rear-end</td>\n",
       "      <td>Multi-Vehicle</td>\n",
       "      <td>153.047282</td>\n",
       "      <td>-27.388325</td>\n",
       "      <td>...</td>\n",
       "      <td>0</td>\n",
       "      <td>0</td>\n",
       "      <td>1</td>\n",
       "      <td>1</td>\n",
       "      <td>1</td>\n",
       "      <td>0</td>\n",
       "      <td>0</td>\n",
       "      <td>0</td>\n",
       "      <td>0</td>\n",
       "      <td>0</td>\n",
       "    </tr>\n",
       "    <tr>\n",
       "      <th>28997</th>\n",
       "      <td>28997</td>\n",
       "      <td>Minor injury</td>\n",
       "      <td>2014</td>\n",
       "      <td>August</td>\n",
       "      <td>Thursday</td>\n",
       "      <td>16</td>\n",
       "      <td>Angle</td>\n",
       "      <td>Multi-Vehicle</td>\n",
       "      <td>153.040318</td>\n",
       "      <td>-27.497721</td>\n",
       "      <td>...</td>\n",
       "      <td>0</td>\n",
       "      <td>1</td>\n",
       "      <td>1</td>\n",
       "      <td>1</td>\n",
       "      <td>0</td>\n",
       "      <td>0</td>\n",
       "      <td>0</td>\n",
       "      <td>1</td>\n",
       "      <td>0</td>\n",
       "      <td>0</td>\n",
       "    </tr>\n",
       "  </tbody>\n",
       "</table>\n",
       "<p>29000 rows × 52 columns</p>\n",
       "</div>"
      ],
      "text/plain": [
       "       Crash_Ref_Number        Crash_Severity  Crash_Year Crash_Month  \\\n",
       "_id                                                                     \n",
       "1                     1  Property damage only        2001     January   \n",
       "2                     2  Property damage only        2001     January   \n",
       "3                     3     Medical treatment        2001     January   \n",
       "4                     4  Property damage only        2001     January   \n",
       "5                     5  Property damage only        2001     January   \n",
       "...                 ...                   ...         ...         ...   \n",
       "28993             28993          Minor injury        2014      August   \n",
       "28994             28994       Hospitalisation        2014      August   \n",
       "28995             28995       Hospitalisation        2014      August   \n",
       "28996             28996       Hospitalisation        2014      August   \n",
       "28997             28997          Minor injury        2014      August   \n",
       "\n",
       "      Crash_Day_Of_Week  Crash_Hour Crash_Nature      Crash_Type  \\\n",
       "_id                                                                \n",
       "1                Monday           9        Angle   Multi-Vehicle   \n",
       "2               Tuesday          23   Hit object  Single Vehicle   \n",
       "3               Tuesday          16        Angle   Multi-Vehicle   \n",
       "4               Tuesday          12     Rear-end   Multi-Vehicle   \n",
       "5               Tuesday          10     Rear-end   Multi-Vehicle   \n",
       "...                 ...         ...          ...             ...   \n",
       "28993           Tuesday          16        Angle   Multi-Vehicle   \n",
       "28994           Tuesday           7        Angle   Multi-Vehicle   \n",
       "28995         Wednesday          17        Angle   Multi-Vehicle   \n",
       "28996         Wednesday          14     Rear-end   Multi-Vehicle   \n",
       "28997          Thursday          16        Angle   Multi-Vehicle   \n",
       "\n",
       "       Crash_Longitude_GDA94  Crash_Latitude_GDA94  ...  \\\n",
       "_id                                                 ...   \n",
       "1                 152.960485            -26.685052  ...   \n",
       "2                 153.038263            -27.550776  ...   \n",
       "3                 153.116342            -27.545153  ...   \n",
       "4                 153.021629            -27.384448  ...   \n",
       "5                 152.937497            -27.083184  ...   \n",
       "...                      ...                   ...  ...   \n",
       "28993             153.041664            -27.414289  ...   \n",
       "28994             153.012600            -27.777425  ...   \n",
       "28995             152.927540            -27.176794  ...   \n",
       "28996             153.047282            -27.388325  ...   \n",
       "28997             153.040318            -27.497721  ...   \n",
       "\n",
       "      Count_Casualty_MedicallyTreated Count_Casualty_MinorInjury  \\\n",
       "_id                                                                \n",
       "1                                   0                          0   \n",
       "2                                   0                          0   \n",
       "3                                   1                          0   \n",
       "4                                   0                          0   \n",
       "5                                   0                          0   \n",
       "...                               ...                        ...   \n",
       "28993                               0                          1   \n",
       "28994                               0                          0   \n",
       "28995                               0                          0   \n",
       "28996                               0                          0   \n",
       "28997                               0                          1   \n",
       "\n",
       "      Count_Casualty_Total Count_Unit_Car Count_Unit_Motorcycle_Moped  \\\n",
       "_id                                                                     \n",
       "1                        0              2                           0   \n",
       "2                        0              1                           0   \n",
       "3                        1              2                           0   \n",
       "4                        0              2                           0   \n",
       "5                        0              3                           0   \n",
       "...                    ...            ...                         ...   \n",
       "28993                    1              2                           0   \n",
       "28994                    1              2                           0   \n",
       "28995                    1              1                           0   \n",
       "28996                    1              1                           1   \n",
       "28997                    1              1                           0   \n",
       "\n",
       "      Count_Unit_Truck Count_Unit_Bus Count_Unit_Bicycle  \\\n",
       "_id                                                        \n",
       "1                    0              0                  0   \n",
       "2                    0              0                  0   \n",
       "3                    0              0                  0   \n",
       "4                    0              0                  0   \n",
       "5                    0              0                  0   \n",
       "...                ...            ...                ...   \n",
       "28993                0              0                  0   \n",
       "28994                0              0                  0   \n",
       "28995                0              0                  0   \n",
       "28996                0              0                  0   \n",
       "28997                0              0                  1   \n",
       "\n",
       "      Count_Unit_Pedestrian Count_Unit_Other  \n",
       "_id                                           \n",
       "1                         0                0  \n",
       "2                         0                0  \n",
       "3                         0                0  \n",
       "4                         0                0  \n",
       "5                         0                0  \n",
       "...                     ...              ...  \n",
       "28993                     0                0  \n",
       "28994                     0                1  \n",
       "28995                     0                0  \n",
       "28996                     0                0  \n",
       "28997                     0                0  \n",
       "\n",
       "[29000 rows x 52 columns]"
      ]
     },
     "execution_count": 250,
     "metadata": {},
     "output_type": "execute_result"
    }
   ],
   "source": [
    "#ทำการอ่านไฟล์ข้อมูลที่ดาวน์โหลดเก็บไว้ใน Folder เข้ามาใน pandas และเรียกดูข้อมูลโดยใช้ ชื่อของข้อมูลที่เรากำหนด ซึ่งในที่นี้ เรากำหนดชื่อว่า roaddata\n",
    "roaddata = pd.read_csv(\"Data/Road_Crash_location.csv\",index_col=\"_id\")\n",
    "roaddata"
   ]
  },
  {
   "cell_type": "code",
   "execution_count": 251,
   "metadata": {},
   "outputs": [
    {
     "data": {
      "text/plain": [
       "(29000, 52)"
      ]
     },
     "execution_count": 251,
     "metadata": {},
     "output_type": "execute_result"
    }
   ],
   "source": [
    "roaddata.shape #เช็คจำนวนแถว และจำนวนคอลัมน์"
   ]
  },
  {
   "cell_type": "code",
   "execution_count": 252,
   "metadata": {},
   "outputs": [
    {
     "data": {
      "text/plain": [
       "Crash_Ref_Number                       0\n",
       "Crash_Severity                         0\n",
       "Crash_Year                             0\n",
       "Crash_Month                            0\n",
       "Crash_Day_Of_Week                      0\n",
       "Crash_Hour                             0\n",
       "Crash_Nature                           0\n",
       "Crash_Type                             0\n",
       "Crash_Longitude_GDA94                  0\n",
       "Crash_Latitude_GDA94                   0\n",
       "Crash_Street                           2\n",
       "Crash_Street_Intersecting          16220\n",
       "State_Road_Name                    16113\n",
       "Loc_Suburb                             0\n",
       "Loc_Local_Government_Area              0\n",
       "Loc_Post_Code                          0\n",
       "Loc_Police_Division                    0\n",
       "Loc_Police_District                    0\n",
       "Loc_Police_Region                      0\n",
       "Loc_Queensland_Transport_Region        0\n",
       "Loc_Main_Roads_Region                  0\n",
       "Loc_ABS_Statistical_Area_2             0\n",
       "Loc_ABS_Statistical_Area_3             0\n",
       "Loc_ABS_Statistical_Area_4             0\n",
       "Loc_ABS_Remoteness                     0\n",
       "Loc_State_Electorate                   0\n",
       "Loc_Federal_Electorate                 0\n",
       "Crash_Controlling_Authority            0\n",
       "Crash_Roadway_Feature                  0\n",
       "Crash_Traffic_Control                  0\n",
       "Crash_Speed_Limit                      0\n",
       "Crash_Road_Surface_Condition           0\n",
       "Crash_Atmospheric_Condition            0\n",
       "Crash_Lighting_Condition               0\n",
       "Crash_Road_Horiz_Align                 0\n",
       "Crash_Road_Vert_Align                  0\n",
       "Crash_DCA_Code                         8\n",
       "Crash_DCA_Description                  8\n",
       "Crash_DCA_Group_Description            0\n",
       "DCA_Key_Approach_Dir                 339\n",
       "Count_Casualty_Fatality                0\n",
       "Count_Casualty_Hospitalised            0\n",
       "Count_Casualty_MedicallyTreated        0\n",
       "Count_Casualty_MinorInjury             0\n",
       "Count_Casualty_Total                   0\n",
       "Count_Unit_Car                         0\n",
       "Count_Unit_Motorcycle_Moped            0\n",
       "Count_Unit_Truck                       0\n",
       "Count_Unit_Bus                         0\n",
       "Count_Unit_Bicycle                     0\n",
       "Count_Unit_Pedestrian                  0\n",
       "Count_Unit_Other                       0\n",
       "dtype: int64"
      ]
     },
     "execution_count": 252,
     "metadata": {},
     "output_type": "execute_result"
    }
   ],
   "source": [
    "roaddata.isnull().sum() #Check missing value"
   ]
  },
  {
   "cell_type": "markdown",
   "metadata": {},
   "source": [
    "#### ทำการจัดการกับ column ที่มี Missing Value "
   ]
  },
  {
   "cell_type": "code",
   "execution_count": 253,
   "metadata": {},
   "outputs": [],
   "source": [
    "#ลบ column ที่มี Missing Value \n",
    "roaddata.drop('DCA_Key_Approach_Dir', axis='columns', inplace=True)\n",
    "roaddata.drop('Crash_Street_Intersecting', axis='columns', inplace=True)"
   ]
  },
  {
   "cell_type": "code",
   "execution_count": 254,
   "metadata": {},
   "outputs": [],
   "source": [
    "#เพิ่มข้อมูลในแถวที่มี Missing Value ใน coulumn Crash_Streetและ State_Road_Name โดยการแทน \"NON-VALUES\" ใน Row ที่มีค่า null\n",
    "roaddata[\"Crash_Street\"] = roaddata[\"Crash_Street\"].fillna(\"NON-VALUES\")\n",
    "roaddata[\"State_Road_Name\"] = roaddata[\"Crash_Street\"].fillna(\"NON-VALUES\")"
   ]
  },
  {
   "cell_type": "code",
   "execution_count": 255,
   "metadata": {},
   "outputs": [
    {
     "data": {
      "text/plain": [
       "Crash_Ref_Number                   0\n",
       "Crash_Severity                     0\n",
       "Crash_Year                         0\n",
       "Crash_Month                        0\n",
       "Crash_Day_Of_Week                  0\n",
       "Crash_Hour                         0\n",
       "Crash_Nature                       0\n",
       "Crash_Type                         0\n",
       "Crash_Longitude_GDA94              0\n",
       "Crash_Latitude_GDA94               0\n",
       "Crash_Street                       0\n",
       "State_Road_Name                    0\n",
       "Loc_Suburb                         0\n",
       "Loc_Local_Government_Area          0\n",
       "Loc_Post_Code                      0\n",
       "Loc_Police_Division                0\n",
       "Loc_Police_District                0\n",
       "Loc_Police_Region                  0\n",
       "Loc_Queensland_Transport_Region    0\n",
       "Loc_Main_Roads_Region              0\n",
       "Loc_ABS_Statistical_Area_2         0\n",
       "Loc_ABS_Statistical_Area_3         0\n",
       "Loc_ABS_Statistical_Area_4         0\n",
       "Loc_ABS_Remoteness                 0\n",
       "Loc_State_Electorate               0\n",
       "Loc_Federal_Electorate             0\n",
       "Crash_Controlling_Authority        0\n",
       "Crash_Roadway_Feature              0\n",
       "Crash_Traffic_Control              0\n",
       "Crash_Speed_Limit                  0\n",
       "Crash_Road_Surface_Condition       0\n",
       "Crash_Atmospheric_Condition        0\n",
       "Crash_Lighting_Condition           0\n",
       "Crash_Road_Horiz_Align             0\n",
       "Crash_Road_Vert_Align              0\n",
       "Crash_DCA_Code                     0\n",
       "Crash_DCA_Description              0\n",
       "Crash_DCA_Group_Description        0\n",
       "Count_Casualty_Fatality            0\n",
       "Count_Casualty_Hospitalised        0\n",
       "Count_Casualty_MedicallyTreated    0\n",
       "Count_Casualty_MinorInjury         0\n",
       "Count_Casualty_Total               0\n",
       "Count_Unit_Car                     0\n",
       "Count_Unit_Motorcycle_Moped        0\n",
       "Count_Unit_Truck                   0\n",
       "Count_Unit_Bus                     0\n",
       "Count_Unit_Bicycle                 0\n",
       "Count_Unit_Pedestrian              0\n",
       "Count_Unit_Other                   0\n",
       "dtype: int64"
      ]
     },
     "execution_count": 255,
     "metadata": {},
     "output_type": "execute_result"
    }
   ],
   "source": [
    "#ลบค่า Null ออกจากข้อมูล ลบออกจาก column Crash_DCA_Code และ Crash_DCA_Description\n",
    "roaddata.dropna(subset=['Crash_DCA_Code'], inplace =True)\n",
    "roaddata.dropna(subset=['Crash_DCA_Description'], inplace =True)\n",
    "roaddata.isnull().sum()"
   ]
  },
  {
   "cell_type": "markdown",
   "metadata": {},
   "source": [
    "#### การ Handling Outliers \n",
    "เป็นวิธีที่จัดการกับข้อมูลที่มีค่าสูงหรือค่าต่ำกว่าข้อมูลส่วนใหญ่\n"
   ]
  },
  {
   "cell_type": "code",
   "execution_count": 256,
   "metadata": {},
   "outputs": [
    {
     "data": {
      "image/png": "[encoded data removed]",
      "text/plain": [
       "<Figure size 648x288 with 1 Axes>"
      ]
     },
     "metadata": {
      "needs_background": "light"
     },
     "output_type": "display_data"
    }
   ],
   "source": [
    "import seaborn as sns #import Library ที่จำเป็นต้องใช้ก่อน\n",
    "from matplotlib import pyplot as plt \n",
    "\n",
    "#ทำ Data Visualization เพื่อดูการกระจายข้อมูล\n",
    "fig = plt.figure(figsize=(9,4)) \n",
    "sns.boxplot(x=roaddata[\"Crash_Year\"], color=\"#5b8ba3\") #เรียกดูการกระจายข้อมูล ใน column : \"Crash_Year\"\n",
    "plt.xlabel(\"Crash_Year\", fontsize=10) \n",
    "plt.title('Handling Outliers', size = 20)\n",
    "plt.show()"
   ]
  },
  {
   "cell_type": "code",
   "execution_count": 257,
   "metadata": {},
   "outputs": [
    {
     "data": {
      "text/plain": [
       "count    28992.000000\n",
       "mean      2006.654870\n",
       "std          3.676431\n",
       "min       2001.000000\n",
       "25%       2004.000000\n",
       "50%       2007.000000\n",
       "75%       2009.000000\n",
       "max       2015.000000\n",
       "Name: Crash_Year, dtype: float64"
      ]
     },
     "execution_count": 257,
     "metadata": {},
     "output_type": "execute_result"
    }
   ],
   "source": [
    "roaddata[\"Crash_Year\"].describe() #ใช้ Function describe() เพื่อดูข้อมูลทางสถิติต่างๆ"
   ]
  },
  {
   "cell_type": "code",
   "execution_count": 258,
   "metadata": {},
   "outputs": [
    {
     "name": "stdout",
     "output_type": "stream",
     "text": [
      "(23412, 4)\n",
      "(24423, 50)\n"
     ]
    }
   ],
   "source": [
    "# ลบแถวที่พบ Outlier ใน Column Crash_Year ที่น้อยกว่าหรือเท่ากับ Quantile 0.5 และมากกว่าหรือเท่ากับ Quantile 0.95 ด้วยเทคนิค Drop with Percentiles  \n",
    "print(df.shape)\n",
    "upper_lim = roaddata[\"Crash_Year\"].quantile(.95)\n",
    "lower_lim = roaddata[\"Crash_Year\"].quantile(.05)\n",
    "drop_outlier = roaddata[(roaddata[\"Crash_Year\"] < upper_lim) & (roaddata[\"Crash_Year\"] > lower_lim)]\n",
    "print(drop_outlier.shape)"
   ]
  },
  {
   "cell_type": "code",
   "execution_count": 259,
   "metadata": {},
   "outputs": [
    {
     "data": {
      "image/png": "[encoded data removed]",
      "text/plain": [
       "<Figure size 648x288 with 1 Axes>"
      ]
     },
     "metadata": {
      "needs_background": "light"
     },
     "output_type": "display_data"
    }
   ],
   "source": [
    "#ดู Data Visualization อีกรอบ\n",
    "fig = plt.figure(figsize=(9,4))\n",
    "sns.boxplot(x=drop_outlier[\"Crash_Year\"], color=\"#5b8ba3\")\n",
    "plt.xlabel(\"Crash_Year\", fontsize=10)\n",
    "plt.title('Handling Outliers', size = 20)\n",
    "plt.show()"
   ]
  },
  {
   "cell_type": "code",
   "execution_count": 260,
   "metadata": {},
   "outputs": [
    {
     "data": {
      "text/plain": [
       "count    24423.000000\n",
       "mean      2006.596323\n",
       "std          2.975228\n",
       "min       2002.000000\n",
       "25%       2004.000000\n",
       "50%       2007.000000\n",
       "75%       2009.000000\n",
       "max       2012.000000\n",
       "Name: Crash_Year, dtype: float64"
      ]
     },
     "execution_count": 260,
     "metadata": {},
     "output_type": "execute_result"
    }
   ],
   "source": [
    "drop_outlier[\"Crash_Year\"].describe() #ดูข้อมูลทางสถิติต่างๆอีกรอบ"
   ]
  },
  {
   "cell_type": "markdown",
   "metadata": {},
   "source": [
    "หลังจาก drop outlier แล้วผลลัพธ์ออกไม่พบ Outlier และค่าเฉลี่ยลดลงเพียงเล็กน้อยจาก 2006.65 ลดลงมา 2006.59 แต่ปีที่มากที่สุดลดลงจาก 2015 เหลือเพียง 2012"
   ]
  },
  {
   "cell_type": "code",
   "execution_count": 261,
   "metadata": {},
   "outputs": [
    {
     "data": {
      "text/plain": [
       "(24423, 50)"
      ]
     },
     "execution_count": 261,
     "metadata": {},
     "output_type": "execute_result"
    }
   ],
   "source": [
    "#หลังจากทำการลบแถวที่มี Outlier แล้วก็นำมาใส่ใน DataFrame เพื่อการวิเคราะห์ต่อไป\n",
    "roaddata = pd.DataFrame(drop_outlier)\n",
    "roaddata.shape "
   ]
  },
  {
   "cell_type": "markdown",
   "metadata": {},
   "source": [
    "-------------------------------------------------------------------------------------------------------------------------------"
   ]
  },
  {
   "cell_type": "markdown",
   "metadata": {},
   "source": [
    "### ระดับความรุนแรงของการเกิดอุบัติเหตุประเภทใดมีอัตราการเกิดมากที่สุด?"
   ]
  },
  {
   "cell_type": "code",
   "execution_count": 262,
   "metadata": {},
   "outputs": [
    {
     "data": {
      "text/plain": [
       "Property damage only    8385\n",
       "Medical treatment       6472\n",
       "Hospitalisation         5875\n",
       "Minor injury            3380\n",
       "Fatal                    311\n",
       "Name: Crash_Severity, dtype: int64"
      ]
     },
     "execution_count": 262,
     "metadata": {},
     "output_type": "execute_result"
    }
   ],
   "source": [
    "roaddata.Crash_Severity.value_counts() #เรียกดูข้อมูล Crash Severity และ count ออกมาดูจำนวนในแต่ประเภท"
   ]
  },
  {
   "cell_type": "code",
   "execution_count": 263,
   "metadata": {},
   "outputs": [
    {
     "data": {
      "image/svg+xml": [
       "<svg class=\"main-svg\" xmlns=\"http://www.w3.org/2000/svg\" xmlns:xlink=\"http://www.w3.org/1999/xlink\" width=\"700\" height=\"450\" style=\"\" viewBox=\"0 0 700 450\"><rect x=\"0\" y=\"0\" width=\"700\" height=\"450\" style=\"fill: rgb(255, 255, 255); fill-opacity: 1;\"/><defs id=\"defs-76d816\"><g class=\"clips\"/><g class=\"gradients\"/></defs><g class=\"bglayer\"/><g class=\"layer-below\"><g class=\"imagelayer\"/><g class=\"shapelayer\"/></g><g class=\"cartesianlayer\"/><g class=\"polarlayer\"/><g class=\"ternarylayer\"/><g class=\"geolayer\"/><g class=\"funnelarealayer\"/><g class=\"pielayer\"><g class=\"trace\" stroke-linejoin=\"round\" style=\"opacity: 1;\"><g class=\"slice\"><path class=\"surface\" d=\"M309.66543231379984,231.96200603851858l0,-128.57142857142856a128.57142857142856,128.57142857142856 0 0 1 107.09408365292394,199.71543388064967Z\" style=\"pointer-events: all; stroke-width: 0; fill: rgb(255, 102, 102); fill-opacity: 1; stroke: rgb(68, 68, 68); stroke-opacity: 1;\"/><g class=\"slicetext\"><text data-notex=\"1\" class=\"slicetext\" transform=\"translate(369.83217827541546,204.32913594781834)\" text-anchor=\"middle\" x=\"0\" y=\"0\" style=\"font-family: 'Open Sans', verdana, arial, sans-serif; font-size: 12px; fill: rgb(68, 68, 68); fill-opacity: 1; white-space: pre;\">34.3%</text></g></g><g class=\"slice\"><path class=\"surface\" d=\"M304,235l-128.00111969959715,12.09651191655494a128.57142857142856,128.57142857142856 0 0 1 128.00111969959715,-140.6679404879835Z\" style=\"pointer-events: all; stroke-width: 0; fill: rgb(102, 153, 255); fill-opacity: 1; stroke: rgb(68, 68, 68); stroke-opacity: 1;\"/><g class=\"slicetext\"><text data-notex=\"1\" class=\"slicetext\" transform=\"translate(249.2737158615776,189.9226249523815)\" text-anchor=\"middle\" x=\"0\" y=\"0\" style=\"font-family: 'Open Sans', verdana, arial, sans-serif; font-size: 12px; fill: rgb(68, 68, 68); fill-opacity: 1; white-space: pre;\">26.5%</text></g></g><g class=\"slice\"><path class=\"surface\" d=\"M304,235l4.481017730858608,128.49331782234313a128.57142857142856,128.57142857142856 0 0 1 -132.48213743045577,-116.39680590578818Z\" style=\"pointer-events: all; stroke-width: 0; fill: rgb(106, 212, 155); fill-opacity: 1; stroke: rgb(68, 68, 68); stroke-opacity: 1;\"/><g class=\"slicetext\"><text data-notex=\"1\" class=\"slicetext\" transform=\"translate(253.59919896099032,296.958810962974)\" text-anchor=\"middle\" x=\"0\" y=\"0\" style=\"font-family: 'Open Sans', verdana, arial, sans-serif; font-size: 12px; fill: rgb(68, 68, 68); fill-opacity: 1; white-space: pre;\">24.1%</text></g></g><g class=\"slice\"><path class=\"surface\" d=\"M304,235l101.06536340905892,79.47581118738461a128.57142857142856,128.57142857142856 0 0 1 -96.58434567820031,49.01750663495852Z\" style=\"pointer-events: all; stroke-width: 0; fill: rgb(166, 120, 222); fill-opacity: 1; stroke: rgb(68, 68, 68); stroke-opacity: 1;\"/><g class=\"slicetext\"><text data-notex=\"1\" class=\"slicetext\" transform=\"translate(344.8791685098062,320.3357354482371)\" text-anchor=\"middle\" x=\"0\" y=\"0\" style=\"font-family: 'Open Sans', verdana, arial, sans-serif; font-size: 12px; fill: rgb(68, 68, 68); fill-opacity: 1; white-space: pre;\">13.8%</text></g></g><g class=\"slice\"><path class=\"surface\" d=\"M304,235l107.09408365292396,71.14400530922109a128.57142857142856,128.57142857142856 0 0 1 -6.028720243865038,8.331805878163522Z\" style=\"pointer-events: all; stroke-width: 0; fill: rgb(255, 255, 128); fill-opacity: 1; stroke: rgb(68, 68, 68); stroke-opacity: 1;\"/><g class=\"slicetext\"><text data-notex=\"1\" class=\"slicetext\" transform=\"translate(428.99509378939285,317.7861209374884)\" text-anchor=\"middle\" x=\"0\" y=\"0\" style=\"font-family: 'Open Sans', verdana, arial, sans-serif; font-size: 12px; fill: rgb(42, 63, 95); fill-opacity: 1; white-space: pre;\">1.27%</text></g></g></g></g><g class=\"treemaplayer\"/><g class=\"sunburstlayer\"/><g class=\"glimages\"/><defs id=\"topdefs-76d816\"><g class=\"clips\"/><clipPath id=\"legend76d816\"><rect width=\"170\" height=\"105\" x=\"0\" y=\"0\"/></clipPath></defs><g class=\"layer-above\"><g class=\"imagelayer\"/><g class=\"shapelayer\"/></g><g class=\"infolayer\"><g class=\"legend\" pointer-events=\"all\" transform=\"translate(518, 182.5)\"><rect class=\"bg\" shape-rendering=\"crispEdges\" width=\"170\" height=\"105\" x=\"0\" y=\"0\" style=\"stroke: rgb(68, 68, 68); stroke-opacity: 1; fill: rgb(255, 255, 255); fill-opacity: 1; stroke-width: 0px;\"/><g class=\"scrollbox\" transform=\"translate(0, 0)\" clip-path=\"url('#legend76d816')\"><g class=\"groups\"><g class=\"traces\" transform=\"translate(0, 14.5)\" style=\"opacity: 1;\"><text class=\"legendtext user-select-none\" text-anchor=\"start\" x=\"40\" y=\"4.680000000000001\" style=\"font-family: 'Open Sans', verdana, arial, sans-serif; font-size: 12px; fill: rgb(42, 63, 95); fill-opacity: 1; white-space: pre;\">Property damage only</text><g class=\"layers\" style=\"opacity: 1;\"><g class=\"legendfill\"/><g class=\"legendlines\"/><g class=\"legendsymbols\"><g class=\"legendpoints\"><path class=\"legendpie\" d=\"M6,6H-6V-6H6Z\" transform=\"translate(20,0)\" style=\"stroke-width: 0; fill: rgb(255, 102, 102); fill-opacity: 1; stroke: rgb(68, 68, 68); stroke-opacity: 1;\"/></g></g></g><rect class=\"legendtoggle\" pointer-events=\"all\" x=\"0\" y=\"-9.5\" width=\"164.359375\" height=\"19\" style=\"cursor: pointer; fill: rgb(0, 0, 0); fill-opacity: 0;\"/></g><g class=\"traces\" transform=\"translate(0, 33.5)\" style=\"opacity: 1;\"><text class=\"legendtext user-select-none\" text-anchor=\"start\" x=\"40\" y=\"4.680000000000001\" style=\"font-family: 'Open Sans', verdana, arial, sans-serif; font-size: 12px; fill: rgb(42, 63, 95); fill-opacity: 1; white-space: pre;\">Medical treatment</text><g class=\"layers\" style=\"opacity: 1;\"><g class=\"legendfill\"/><g class=\"legendlines\"/><g class=\"legendsymbols\"><g class=\"legendpoints\"><path class=\"legendpie\" d=\"M6,6H-6V-6H6Z\" transform=\"translate(20,0)\" style=\"stroke-width: 0; fill: rgb(102, 153, 255); fill-opacity: 1; stroke: rgb(68, 68, 68); stroke-opacity: 1;\"/></g></g></g><rect class=\"legendtoggle\" pointer-events=\"all\" x=\"0\" y=\"-9.5\" width=\"164.359375\" height=\"19\" style=\"cursor: pointer; fill: rgb(0, 0, 0); fill-opacity: 0;\"/></g><g class=\"traces\" transform=\"translate(0, 52.5)\" style=\"opacity: 1;\"><text class=\"legendtext user-select-none\" text-anchor=\"start\" x=\"40\" y=\"4.680000000000001\" style=\"font-family: 'Open Sans', verdana, arial, sans-serif; font-size: 12px; fill: rgb(42, 63, 95); fill-opacity: 1; white-space: pre;\">Hospitalisation</text><g class=\"layers\" style=\"opacity: 1;\"><g class=\"legendfill\"/><g class=\"legendlines\"/><g class=\"legendsymbols\"><g class=\"legendpoints\"><path class=\"legendpie\" d=\"M6,6H-6V-6H6Z\" transform=\"translate(20,0)\" style=\"stroke-width: 0; fill: rgb(106, 212, 155); fill-opacity: 1; stroke: rgb(68, 68, 68); stroke-opacity: 1;\"/></g></g></g><rect class=\"legendtoggle\" pointer-events=\"all\" x=\"0\" y=\"-9.5\" width=\"164.359375\" height=\"19\" style=\"cursor: pointer; fill: rgb(0, 0, 0); fill-opacity: 0;\"/></g><g class=\"traces\" transform=\"translate(0, 71.5)\" style=\"opacity: 1;\"><text class=\"legendtext user-select-none\" text-anchor=\"start\" x=\"40\" y=\"4.680000000000001\" style=\"font-family: 'Open Sans', verdana, arial, sans-serif; font-size: 12px; fill: rgb(42, 63, 95); fill-opacity: 1; white-space: pre;\">Minor injury</text><g class=\"layers\" style=\"opacity: 1;\"><g class=\"legendfill\"/><g class=\"legendlines\"/><g class=\"legendsymbols\"><g class=\"legendpoints\"><path class=\"legendpie\" d=\"M6,6H-6V-6H6Z\" transform=\"translate(20,0)\" style=\"stroke-width: 0; fill: rgb(166, 120, 222); fill-opacity: 1; stroke: rgb(68, 68, 68); stroke-opacity: 1;\"/></g></g></g><rect class=\"legendtoggle\" pointer-events=\"all\" x=\"0\" y=\"-9.5\" width=\"164.359375\" height=\"19\" style=\"cursor: pointer; fill: rgb(0, 0, 0); fill-opacity: 0;\"/></g><g class=\"traces\" transform=\"translate(0, 90.5)\" style=\"opacity: 1;\"><text class=\"legendtext user-select-none\" text-anchor=\"start\" x=\"40\" y=\"4.680000000000001\" style=\"font-family: 'Open Sans', verdana, arial, sans-serif; font-size: 12px; fill: rgb(42, 63, 95); fill-opacity: 1; white-space: pre;\">Fatal</text><g class=\"layers\" style=\"opacity: 1;\"><g class=\"legendfill\"/><g class=\"legendlines\"/><g class=\"legendsymbols\"><g class=\"legendpoints\"><path class=\"legendpie\" d=\"M6,6H-6V-6H6Z\" transform=\"translate(20,0)\" style=\"stroke-width: 0; fill: rgb(255, 255, 128); fill-opacity: 1; stroke: rgb(68, 68, 68); stroke-opacity: 1;\"/></g></g></g><rect class=\"legendtoggle\" pointer-events=\"all\" x=\"0\" y=\"-9.5\" width=\"164.359375\" height=\"19\" style=\"cursor: pointer; fill: rgb(0, 0, 0); fill-opacity: 0;\"/></g></g></g><rect class=\"scrollbar\" rx=\"20\" ry=\"3\" width=\"0\" height=\"0\" x=\"0\" y=\"0\" style=\"fill: rgb(128, 139, 164); fill-opacity: 1;\"/></g><g class=\"g-gtitle\"><text class=\"gtitle\" x=\"35\" y=\"50\" text-anchor=\"start\" dy=\"0em\" style=\"font-family: 'Open Sans', verdana, arial, sans-serif; font-size: 17px; fill: rgb(42, 63, 95); opacity: 1; font-weight: normal; white-space: pre;\">Crash Severity</text></g></g></svg>"
      ]
     },
     "metadata": {},
     "output_type": "display_data"
    }
   ],
   "source": [
    "import plotly.io as pio\n",
    "pio.renderers.default = \"svg\"\n",
    "import plotly.graph_objects as go\n",
    "from plotly.offline import init_notebook_mode, iplot\n",
    "\n",
    "# ทำ data visualization ด้วยการ import plotly\n",
    "## เลือก column ที่จะทำการวิเคราะห์ ในการวิเคราะห์นี้เลือกเป็น Crash_Severity \n",
    "### เพื่อวิเคราะห์หาว่าประเภทระดับความรุนแรงในการเกิดอุบัติเหตุประเภทไหนมีอัตราเกิดมากที่สุด\n",
    "\n",
    "col = \"Crash_Severity\" # กำหนดตัวแปร col เท่ากับ Crash Severity \n",
    "grouped = roaddata[col].value_counts().reset_index() # ทำการ count value ใน column \"Crash_Severity\"\n",
    "grouped = grouped.rename(columns = {col : \"count\", \"index\" : col}) \n",
    "\n",
    "# ส่วนของ plot \n",
    "\n",
    "trace = go.Pie(labels=grouped[col], values=grouped['count'], pull=[0.05, 0], marker=dict(colors=[\"#ff6666\",\"#6699ff\",\"#6ad49b\", \"#a678de\",\"#ffff80\"])) \n",
    "layout = go.Layout(title=\"Crash Severity \", height=400, legend=dict(x=1, y=0.5, font_size=12))\n",
    "fig = go.Figure(data = [trace], layout = layout)\n",
    "fig.show(renderer='svg')\n"
   ]
  },
  {
   "cell_type": "markdown",
   "metadata": {},
   "source": [
    "ระดับความรุนแรงของการเกิดอุบัติเหตุส่วนใหญ่เป็นประเภท Property damage only คิดเป็นร้อยละ 34.4% "
   ]
  },
  {
   "cell_type": "markdown",
   "metadata": {},
   "source": [
    "### ประเภทความรุนแรงของการเกิดอุบัติเหตุในแต่ละปี?\n",
    "ในส่วนนี้อยากวิเคราะห์ว่าปีและประเภทความรุนแรงใดเกิดมากที่สุด"
   ]
  },
  {
   "cell_type": "code",
   "execution_count": 264,
   "metadata": {
    "scrolled": false
   },
   "outputs": [
    {
     "data": {
      "image/svg+xml": [
       "<svg class=\"main-svg\" xmlns=\"http://www.w3.org/2000/svg\" xmlns:xlink=\"http://www.w3.org/1999/xlink\" width=\"700\" height=\"450\" style=\"\" viewBox=\"0 0 700 450\"><rect x=\"0\" y=\"0\" width=\"700\" height=\"450\" style=\"fill: rgb(255, 255, 255); fill-opacity: 1;\"/><defs id=\"defs-56fb35\"><g class=\"clips\"><clipPath id=\"clip56fb35xyplot\" class=\"plotclip\"><rect width=\"540\" height=\"270\"/></clipPath><clipPath class=\"axesclip\" id=\"clip56fb35x\"><rect x=\"80\" y=\"0\" width=\"540\" height=\"450\"/></clipPath><clipPath class=\"axesclip\" id=\"clip56fb35y\"><rect x=\"0\" y=\"100\" width=\"700\" height=\"270\"/></clipPath><clipPath class=\"axesclip\" id=\"clip56fb35xy\"><rect x=\"80\" y=\"100\" width=\"540\" height=\"270\"/></clipPath></g><g class=\"gradients\"/></defs><g class=\"bglayer\"><rect class=\"bg\" x=\"80\" y=\"100\" width=\"540\" height=\"270\" style=\"fill: rgb(229, 236, 246); fill-opacity: 1; stroke-width: 0;\"/></g><g class=\"layer-below\"><g class=\"imagelayer\"/><g class=\"shapelayer\"/></g><g class=\"cartesianlayer\"><g class=\"subplot xy\"><g class=\"layer-subplot\"><g class=\"shapelayer\"/><g class=\"imagelayer\"/></g><g class=\"gridlayer\"><g class=\"x\"><path class=\"xgrid crisp\" transform=\"translate(110.75,0)\" d=\"M0,100v270\" style=\"stroke: rgb(255, 255, 255); stroke-opacity: 1; stroke-width: 1px;\"/><path class=\"xgrid crisp\" transform=\"translate(206.45,0)\" d=\"M0,100v270\" style=\"stroke: rgb(255, 255, 255); stroke-opacity: 1; stroke-width: 1px;\"/><path class=\"xgrid crisp\" transform=\"translate(302.15,0)\" d=\"M0,100v270\" style=\"stroke: rgb(255, 255, 255); stroke-opacity: 1; stroke-width: 1px;\"/><path class=\"xgrid crisp\" transform=\"translate(397.85,0)\" d=\"M0,100v270\" style=\"stroke: rgb(255, 255, 255); stroke-opacity: 1; stroke-width: 1px;\"/><path class=\"xgrid crisp\" transform=\"translate(493.55,0)\" d=\"M0,100v270\" style=\"stroke: rgb(255, 255, 255); stroke-opacity: 1; stroke-width: 1px;\"/><path class=\"xgrid crisp\" transform=\"translate(589.25,0)\" d=\"M0,100v270\" style=\"stroke: rgb(255, 255, 255); stroke-opacity: 1; stroke-width: 1px;\"/></g><g class=\"y\"><path class=\"ygrid crisp\" transform=\"translate(0,348.49)\" d=\"M80,0h540\" style=\"stroke: rgb(255, 255, 255); stroke-opacity: 1; stroke-width: 1px;\"/><path class=\"ygrid crisp\" transform=\"translate(0,291.66999999999996)\" d=\"M80,0h540\" style=\"stroke: rgb(255, 255, 255); stroke-opacity: 1; stroke-width: 1px;\"/><path class=\"ygrid crisp\" transform=\"translate(0,234.86)\" d=\"M80,0h540\" style=\"stroke: rgb(255, 255, 255); stroke-opacity: 1; stroke-width: 1px;\"/><path class=\"ygrid crisp\" transform=\"translate(0,178.04000000000002)\" d=\"M80,0h540\" style=\"stroke: rgb(255, 255, 255); stroke-opacity: 1; stroke-width: 1px;\"/><path class=\"ygrid crisp\" transform=\"translate(0,121.23)\" d=\"M80,0h540\" style=\"stroke: rgb(255, 255, 255); stroke-opacity: 1; stroke-width: 1px;\"/></g></g><g class=\"zerolinelayer\"/><path class=\"xlines-below\"/><path class=\"ylines-below\"/><g class=\"overlines-below\"/><g class=\"xaxislayer-below\"/><g class=\"yaxislayer-below\"/><g class=\"overaxes-below\"/><g class=\"plot\" transform=\"translate(80, 100)\" clip-path=\"url('#clip56fb35xyplot')\"><g class=\"scatterlayer mlayer\"><g class=\"trace scatter trace5ef9b0\" style=\"stroke-miterlimit: 2; opacity: 1;\"><g class=\"fills\"/><g class=\"errorbars\"/><g class=\"lines\"><path class=\"js-line\" d=\"M30.75,54.75L78.6,32.02L126.45,17.25L174.3,19.52L222.15,50.49L270,59.58L317.85,46.79L365.7,42.53L413.55,42.82\" style=\"vector-effect: non-scaling-stroke; fill: none; stroke: rgb(255, 102, 102); stroke-opacity: 1; stroke-width: 2px; opacity: 1;\"/></g><g class=\"points\"><path class=\"point\" transform=\"translate(30.75,54.75)\" d=\"M3,0A3,3 0 1,1 0,-3A3,3 0 0,1 3,0Z\" style=\"opacity: 1; stroke-width: 0px; fill: rgb(255, 102, 102); fill-opacity: 1;\"/><path class=\"point\" transform=\"translate(78.6,32.02)\" d=\"M3,0A3,3 0 1,1 0,-3A3,3 0 0,1 3,0Z\" style=\"opacity: 1; stroke-width: 0px; fill: rgb(255, 102, 102); fill-opacity: 1;\"/><path class=\"point\" transform=\"translate(126.45,17.25)\" d=\"M3,0A3,3 0 1,1 0,-3A3,3 0 0,1 3,0Z\" style=\"opacity: 1; stroke-width: 0px; fill: rgb(255, 102, 102); fill-opacity: 1;\"/><path class=\"point\" transform=\"translate(174.3,19.52)\" d=\"M3,0A3,3 0 1,1 0,-3A3,3 0 0,1 3,0Z\" style=\"opacity: 1; stroke-width: 0px; fill: rgb(255, 102, 102); fill-opacity: 1;\"/><path class=\"point\" transform=\"translate(222.15,50.49)\" d=\"M3,0A3,3 0 1,1 0,-3A3,3 0 0,1 3,0Z\" style=\"opacity: 1; stroke-width: 0px; fill: rgb(255, 102, 102); fill-opacity: 1;\"/><path class=\"point\" transform=\"translate(270,59.58)\" d=\"M3,0A3,3 0 1,1 0,-3A3,3 0 0,1 3,0Z\" style=\"opacity: 1; stroke-width: 0px; fill: rgb(255, 102, 102); fill-opacity: 1;\"/><path class=\"point\" transform=\"translate(317.85,46.79)\" d=\"M3,0A3,3 0 1,1 0,-3A3,3 0 0,1 3,0Z\" style=\"opacity: 1; stroke-width: 0px; fill: rgb(255, 102, 102); fill-opacity: 1;\"/><path class=\"point\" transform=\"translate(365.7,42.53)\" d=\"M3,0A3,3 0 1,1 0,-3A3,3 0 0,1 3,0Z\" style=\"opacity: 1; stroke-width: 0px; fill: rgb(255, 102, 102); fill-opacity: 1;\"/><path class=\"point\" transform=\"translate(413.55,42.82)\" d=\"M3,0A3,3 0 1,1 0,-3A3,3 0 0,1 3,0Z\" style=\"opacity: 1; stroke-width: 0px; fill: rgb(255, 102, 102); fill-opacity: 1;\"/></g><g class=\"text\"/></g><g class=\"trace scatter trace4c5a18\" style=\"stroke-miterlimit: 2; opacity: 1;\"><g class=\"fills\"/><g class=\"errorbars\"/><g class=\"lines\"><path class=\"js-line\" d=\"M30.75,127.47L78.6,139.4L126.45,140.82L174.3,127.19L222.15,142.53L317.85,130.03L365.7,130.03L413.55,143.1L461.4,154.18L509.25,149.06\" style=\"vector-effect: non-scaling-stroke; fill: none; stroke: rgb(102, 153, 255); stroke-opacity: 1; stroke-width: 2px; opacity: 1;\"/></g><g class=\"points\"><path class=\"point\" transform=\"translate(30.75,127.47)\" d=\"M3,0A3,3 0 1,1 0,-3A3,3 0 0,1 3,0Z\" style=\"opacity: 1; stroke-width: 0px; fill: rgb(102, 153, 255); fill-opacity: 1;\"/><path class=\"point\" transform=\"translate(78.6,139.4)\" d=\"M3,0A3,3 0 1,1 0,-3A3,3 0 0,1 3,0Z\" style=\"opacity: 1; stroke-width: 0px; fill: rgb(102, 153, 255); fill-opacity: 1;\"/><path class=\"point\" transform=\"translate(126.45,140.82)\" d=\"M3,0A3,3 0 1,1 0,-3A3,3 0 0,1 3,0Z\" style=\"opacity: 1; stroke-width: 0px; fill: rgb(102, 153, 255); fill-opacity: 1;\"/><path class=\"point\" transform=\"translate(174.3,127.19)\" d=\"M3,0A3,3 0 1,1 0,-3A3,3 0 0,1 3,0Z\" style=\"opacity: 1; stroke-width: 0px; fill: rgb(102, 153, 255); fill-opacity: 1;\"/><path class=\"point\" transform=\"translate(222.15,142.53)\" d=\"M3,0A3,3 0 1,1 0,-3A3,3 0 0,1 3,0Z\" style=\"opacity: 1; stroke-width: 0px; fill: rgb(102, 153, 255); fill-opacity: 1;\"/><path class=\"point\" transform=\"translate(270,135.99)\" d=\"M3,0A3,3 0 1,1 0,-3A3,3 0 0,1 3,0Z\" style=\"opacity: 1; stroke-width: 0px; fill: rgb(102, 153, 255); fill-opacity: 1;\"/><path class=\"point\" transform=\"translate(317.85,130.03)\" d=\"M3,0A3,3 0 1,1 0,-3A3,3 0 0,1 3,0Z\" style=\"opacity: 1; stroke-width: 0px; fill: rgb(102, 153, 255); fill-opacity: 1;\"/><path class=\"point\" transform=\"translate(365.7,130.03)\" d=\"M3,0A3,3 0 1,1 0,-3A3,3 0 0,1 3,0Z\" style=\"opacity: 1; stroke-width: 0px; fill: rgb(102, 153, 255); fill-opacity: 1;\"/><path class=\"point\" transform=\"translate(413.55,143.1)\" d=\"M3,0A3,3 0 1,1 0,-3A3,3 0 0,1 3,0Z\" style=\"opacity: 1; stroke-width: 0px; fill: rgb(102, 153, 255); fill-opacity: 1;\"/><path class=\"point\" transform=\"translate(461.4,154.18)\" d=\"M3,0A3,3 0 1,1 0,-3A3,3 0 0,1 3,0Z\" style=\"opacity: 1; stroke-width: 0px; fill: rgb(102, 153, 255); fill-opacity: 1;\"/><path class=\"point\" transform=\"translate(509.25,149.06)\" d=\"M3,0A3,3 0 1,1 0,-3A3,3 0 0,1 3,0Z\" style=\"opacity: 1; stroke-width: 0px; fill: rgb(102, 153, 255); fill-opacity: 1;\"/></g><g class=\"text\"/></g><g class=\"trace scatter tracea7d727\" style=\"stroke-miterlimit: 2; opacity: 1;\"><g class=\"fills\"/><g class=\"errorbars\"/><g class=\"lines\"><path class=\"js-line\" d=\"M30.75,179.46L78.6,165.54L126.45,158.44L174.3,149.06L222.15,170.65L270,153.04L317.85,140.26L365.7,135.43L413.55,144.52L461.4,149.63L509.25,143.38\" style=\"vector-effect: non-scaling-stroke; fill: none; stroke: rgb(106, 212, 155); stroke-opacity: 1; stroke-width: 2px; opacity: 1;\"/></g><g class=\"points\"><path class=\"point\" transform=\"translate(30.75,179.46)\" d=\"M3,0A3,3 0 1,1 0,-3A3,3 0 0,1 3,0Z\" style=\"opacity: 1; stroke-width: 0px; fill: rgb(106, 212, 155); fill-opacity: 1;\"/><path class=\"point\" transform=\"translate(78.6,165.54)\" d=\"M3,0A3,3 0 1,1 0,-3A3,3 0 0,1 3,0Z\" style=\"opacity: 1; stroke-width: 0px; fill: rgb(106, 212, 155); fill-opacity: 1;\"/><path class=\"point\" transform=\"translate(126.45,158.44)\" d=\"M3,0A3,3 0 1,1 0,-3A3,3 0 0,1 3,0Z\" style=\"opacity: 1; stroke-width: 0px; fill: rgb(106, 212, 155); fill-opacity: 1;\"/><path class=\"point\" transform=\"translate(174.3,149.06)\" d=\"M3,0A3,3 0 1,1 0,-3A3,3 0 0,1 3,0Z\" style=\"opacity: 1; stroke-width: 0px; fill: rgb(106, 212, 155); fill-opacity: 1;\"/><path class=\"point\" transform=\"translate(222.15,170.65)\" d=\"M3,0A3,3 0 1,1 0,-3A3,3 0 0,1 3,0Z\" style=\"opacity: 1; stroke-width: 0px; fill: rgb(106, 212, 155); fill-opacity: 1;\"/><path class=\"point\" transform=\"translate(270,153.04)\" d=\"M3,0A3,3 0 1,1 0,-3A3,3 0 0,1 3,0Z\" style=\"opacity: 1; stroke-width: 0px; fill: rgb(106, 212, 155); fill-opacity: 1;\"/><path class=\"point\" transform=\"translate(317.85,140.26)\" d=\"M3,0A3,3 0 1,1 0,-3A3,3 0 0,1 3,0Z\" style=\"opacity: 1; stroke-width: 0px; fill: rgb(106, 212, 155); fill-opacity: 1;\"/><path class=\"point\" transform=\"translate(365.7,135.43)\" d=\"M3,0A3,3 0 1,1 0,-3A3,3 0 0,1 3,0Z\" style=\"opacity: 1; stroke-width: 0px; fill: rgb(106, 212, 155); fill-opacity: 1;\"/><path class=\"point\" transform=\"translate(413.55,144.52)\" d=\"M3,0A3,3 0 1,1 0,-3A3,3 0 0,1 3,0Z\" style=\"opacity: 1; stroke-width: 0px; fill: rgb(106, 212, 155); fill-opacity: 1;\"/><path class=\"point\" transform=\"translate(461.4,149.63)\" d=\"M3,0A3,3 0 1,1 0,-3A3,3 0 0,1 3,0Z\" style=\"opacity: 1; stroke-width: 0px; fill: rgb(106, 212, 155); fill-opacity: 1;\"/><path class=\"point\" transform=\"translate(509.25,143.38)\" d=\"M3,0A3,3 0 1,1 0,-3A3,3 0 0,1 3,0Z\" style=\"opacity: 1; stroke-width: 0px; fill: rgb(106, 212, 155); fill-opacity: 1;\"/></g><g class=\"text\"/></g><g class=\"trace scatter trace5502e3\" style=\"stroke-miterlimit: 2; opacity: 1;\"><g class=\"fills\"/><g class=\"errorbars\"/><g class=\"lines\"><path class=\"js-line\" d=\"M30.75,203.32L78.6,198.21L126.45,216.1L174.3,216.67L222.15,203.89L270,194.51L317.85,216.1L365.7,227.18L413.55,229.74L461.4,239.68L509.25,252.75\" style=\"vector-effect: non-scaling-stroke; fill: none; stroke: rgb(166, 120, 222); stroke-opacity: 1; stroke-width: 2px; opacity: 1;\"/></g><g class=\"points\"><path class=\"point\" transform=\"translate(30.75,203.32)\" d=\"M3,0A3,3 0 1,1 0,-3A3,3 0 0,1 3,0Z\" style=\"opacity: 1; stroke-width: 0px; fill: rgb(166, 120, 222); fill-opacity: 1;\"/><path class=\"point\" transform=\"translate(78.6,198.21)\" d=\"M3,0A3,3 0 1,1 0,-3A3,3 0 0,1 3,0Z\" style=\"opacity: 1; stroke-width: 0px; fill: rgb(166, 120, 222); fill-opacity: 1;\"/><path class=\"point\" transform=\"translate(126.45,216.1)\" d=\"M3,0A3,3 0 1,1 0,-3A3,3 0 0,1 3,0Z\" style=\"opacity: 1; stroke-width: 0px; fill: rgb(166, 120, 222); fill-opacity: 1;\"/><path class=\"point\" transform=\"translate(174.3,216.67)\" d=\"M3,0A3,3 0 1,1 0,-3A3,3 0 0,1 3,0Z\" style=\"opacity: 1; stroke-width: 0px; fill: rgb(166, 120, 222); fill-opacity: 1;\"/><path class=\"point\" transform=\"translate(222.15,203.89)\" d=\"M3,0A3,3 0 1,1 0,-3A3,3 0 0,1 3,0Z\" style=\"opacity: 1; stroke-width: 0px; fill: rgb(166, 120, 222); fill-opacity: 1;\"/><path class=\"point\" transform=\"translate(270,194.51)\" d=\"M3,0A3,3 0 1,1 0,-3A3,3 0 0,1 3,0Z\" style=\"opacity: 1; stroke-width: 0px; fill: rgb(166, 120, 222); fill-opacity: 1;\"/><path class=\"point\" transform=\"translate(317.85,216.1)\" d=\"M3,0A3,3 0 1,1 0,-3A3,3 0 0,1 3,0Z\" style=\"opacity: 1; stroke-width: 0px; fill: rgb(166, 120, 222); fill-opacity: 1;\"/><path class=\"point\" transform=\"translate(365.7,227.18)\" d=\"M3,0A3,3 0 1,1 0,-3A3,3 0 0,1 3,0Z\" style=\"opacity: 1; stroke-width: 0px; fill: rgb(166, 120, 222); fill-opacity: 1;\"/><path class=\"point\" transform=\"translate(413.55,229.74)\" d=\"M3,0A3,3 0 1,1 0,-3A3,3 0 0,1 3,0Z\" style=\"opacity: 1; stroke-width: 0px; fill: rgb(166, 120, 222); fill-opacity: 1;\"/><path class=\"point\" transform=\"translate(461.4,239.68)\" d=\"M3,0A3,3 0 1,1 0,-3A3,3 0 0,1 3,0Z\" style=\"opacity: 1; stroke-width: 0px; fill: rgb(166, 120, 222); fill-opacity: 1;\"/><path class=\"point\" transform=\"translate(509.25,252.75)\" d=\"M3,0A3,3 0 1,1 0,-3A3,3 0 0,1 3,0Z\" style=\"opacity: 1; stroke-width: 0px; fill: rgb(166, 120, 222); fill-opacity: 1;\"/></g><g class=\"text\"/></g></g></g><g class=\"overplot\"/><path class=\"xlines-above crisp\" d=\"M0,0\" style=\"fill: none;\"/><path class=\"ylines-above crisp\" d=\"M0,0\" style=\"fill: none;\"/><g class=\"overlines-above\"/><g class=\"xaxislayer-above\"><g class=\"xtick\"><text text-anchor=\"middle\" x=\"0\" y=\"383\" transform=\"translate(110.75,0)\" style=\"font-family: 'Open Sans', verdana, arial, sans-serif; font-size: 12px; fill: rgb(42, 63, 95); fill-opacity: 1; white-space: pre;\">2002</text></g><g class=\"xtick\"><text text-anchor=\"middle\" x=\"0\" y=\"383\" transform=\"translate(206.45,0)\" style=\"font-family: 'Open Sans', verdana, arial, sans-serif; font-size: 12px; fill: rgb(42, 63, 95); fill-opacity: 1; white-space: pre;\">2004</text></g><g class=\"xtick\"><text text-anchor=\"middle\" x=\"0\" y=\"383\" transform=\"translate(302.15,0)\" style=\"font-family: 'Open Sans', verdana, arial, sans-serif; font-size: 12px; fill: rgb(42, 63, 95); fill-opacity: 1; white-space: pre;\">2006</text></g><g class=\"xtick\"><text text-anchor=\"middle\" x=\"0\" y=\"383\" transform=\"translate(397.85,0)\" style=\"font-family: 'Open Sans', verdana, arial, sans-serif; font-size: 12px; fill: rgb(42, 63, 95); fill-opacity: 1; white-space: pre;\">2008</text></g><g class=\"xtick\"><text text-anchor=\"middle\" x=\"0\" y=\"383\" transform=\"translate(493.55,0)\" style=\"font-family: 'Open Sans', verdana, arial, sans-serif; font-size: 12px; fill: rgb(42, 63, 95); fill-opacity: 1; white-space: pre;\">2010</text></g><g class=\"xtick\"><text text-anchor=\"middle\" x=\"0\" y=\"383\" transform=\"translate(589.25,0)\" style=\"font-family: 'Open Sans', verdana, arial, sans-serif; font-size: 12px; fill: rgb(42, 63, 95); fill-opacity: 1; white-space: pre;\">2012</text></g></g><g class=\"yaxislayer-above\"><g class=\"ytick\"><text text-anchor=\"end\" x=\"79\" y=\"4.199999999999999\" transform=\"translate(0,348.49)\" style=\"font-family: 'Open Sans', verdana, arial, sans-serif; font-size: 12px; fill: rgb(42, 63, 95); fill-opacity: 1; white-space: pre;\">200</text></g><g class=\"ytick\"><text text-anchor=\"end\" x=\"79\" y=\"4.199999999999999\" transform=\"translate(0,291.66999999999996)\" style=\"font-family: 'Open Sans', verdana, arial, sans-serif; font-size: 12px; fill: rgb(42, 63, 95); fill-opacity: 1; white-space: pre;\">400</text></g><g class=\"ytick\"><text text-anchor=\"end\" x=\"79\" y=\"4.199999999999999\" transform=\"translate(0,234.86)\" style=\"font-family: 'Open Sans', verdana, arial, sans-serif; font-size: 12px; fill: rgb(42, 63, 95); fill-opacity: 1; white-space: pre;\">600</text></g><g class=\"ytick\"><text text-anchor=\"end\" x=\"79\" y=\"4.199999999999999\" transform=\"translate(0,178.04000000000002)\" style=\"font-family: 'Open Sans', verdana, arial, sans-serif; font-size: 12px; fill: rgb(42, 63, 95); fill-opacity: 1; white-space: pre;\">800</text></g><g class=\"ytick\"><text text-anchor=\"end\" x=\"79\" y=\"4.199999999999999\" transform=\"translate(0,121.23)\" style=\"font-family: 'Open Sans', verdana, arial, sans-serif; font-size: 12px; fill: rgb(42, 63, 95); fill-opacity: 1; white-space: pre;\">1000</text></g></g><g class=\"overaxes-above\"/></g></g><g class=\"polarlayer\"/><g class=\"ternarylayer\"/><g class=\"geolayer\"/><g class=\"funnelarealayer\"/><g class=\"pielayer\"/><g class=\"treemaplayer\"/><g class=\"sunburstlayer\"/><g class=\"glimages\"/><defs id=\"topdefs-56fb35\"><g class=\"clips\"/><clipPath id=\"legend56fb35\"><rect width=\"497\" height=\"29\" x=\"0\" y=\"0\"/></clipPath></defs><g class=\"layer-above\"><g class=\"imagelayer\"/><g class=\"shapelayer\"/></g><g class=\"infolayer\"><g class=\"legend\" pointer-events=\"all\" transform=\"translate(107, 59.50000000000002)\"><rect class=\"bg\" shape-rendering=\"crispEdges\" width=\"497\" height=\"29\" x=\"0\" y=\"0\" style=\"stroke: rgb(68, 68, 68); stroke-opacity: 1; fill: rgb(255, 255, 255); fill-opacity: 1; stroke-width: 0px;\"/><g class=\"scrollbox\" transform=\"translate(0, 0)\" clip-path=\"url('#legend56fb35')\"><g class=\"groups\"><g class=\"traces\" transform=\"translate(0, 14.5)\" style=\"opacity: 1;\"><text class=\"legendtext user-select-none\" text-anchor=\"start\" x=\"40\" y=\"3.9\" style=\"font-family: 'Open Sans', verdana, arial, sans-serif; font-size: 10px; fill: rgb(42, 63, 95); fill-opacity: 1; white-space: pre;\">Property damage only</text><g class=\"layers\" style=\"opacity: 1;\"><g class=\"legendfill\"/><g class=\"legendlines\"><path class=\"js-line\" d=\"M5,0h30\" style=\"fill: none; stroke: rgb(255, 102, 102); stroke-opacity: 1; stroke-width: 2px;\"/></g><g class=\"legendsymbols\"><g class=\"legendpoints\"><path class=\"scatterpts\" transform=\"translate(20,0)\" d=\"M3,0A3,3 0 1,1 0,-3A3,3 0 0,1 3,0Z\" style=\"opacity: 1; stroke-width: 0px; fill: rgb(255, 102, 102); fill-opacity: 1;\"/></g></g></g><rect class=\"legendtoggle\" pointer-events=\"all\" x=\"0\" y=\"-9.5\" width=\"145.921875\" height=\"19\" style=\"cursor: pointer; fill: rgb(0, 0, 0); fill-opacity: 0;\"/></g><g class=\"traces\" transform=\"translate(148.421875, 14.5)\" style=\"opacity: 1;\"><text class=\"legendtext user-select-none\" text-anchor=\"start\" x=\"40\" y=\"3.9\" style=\"font-family: 'Open Sans', verdana, arial, sans-serif; font-size: 10px; fill: rgb(42, 63, 95); fill-opacity: 1; white-space: pre;\">Medical treatment</text><g class=\"layers\" style=\"opacity: 1;\"><g class=\"legendfill\"/><g class=\"legendlines\"><path class=\"js-line\" d=\"M5,0h30\" style=\"fill: none; stroke: rgb(102, 153, 255); stroke-opacity: 1; stroke-width: 2px;\"/></g><g class=\"legendsymbols\"><g class=\"legendpoints\"><path class=\"scatterpts\" transform=\"translate(20,0)\" d=\"M3,0A3,3 0 1,1 0,-3A3,3 0 0,1 3,0Z\" style=\"opacity: 1; stroke-width: 0px; fill: rgb(102, 153, 255); fill-opacity: 1;\"/></g></g></g><rect class=\"legendtoggle\" pointer-events=\"all\" x=\"0\" y=\"-9.5\" width=\"128.609375\" height=\"19\" style=\"cursor: pointer; fill: rgb(0, 0, 0); fill-opacity: 0;\"/></g><g class=\"traces\" transform=\"translate(279.53125, 14.5)\" style=\"opacity: 1;\"><text class=\"legendtext user-select-none\" text-anchor=\"start\" x=\"40\" y=\"3.9\" style=\"font-family: 'Open Sans', verdana, arial, sans-serif; font-size: 10px; fill: rgb(42, 63, 95); fill-opacity: 1; white-space: pre;\">Hospitalisation</text><g class=\"layers\" style=\"opacity: 1;\"><g class=\"legendfill\"/><g class=\"legendlines\"><path class=\"js-line\" d=\"M5,0h30\" style=\"fill: none; stroke: rgb(106, 212, 155); stroke-opacity: 1; stroke-width: 2px;\"/></g><g class=\"legendsymbols\"><g class=\"legendpoints\"><path class=\"scatterpts\" transform=\"translate(20,0)\" d=\"M3,0A3,3 0 1,1 0,-3A3,3 0 0,1 3,0Z\" style=\"opacity: 1; stroke-width: 0px; fill: rgb(106, 212, 155); fill-opacity: 1;\"/></g></g></g><rect class=\"legendtoggle\" pointer-events=\"all\" x=\"0\" y=\"-9.5\" width=\"112.078125\" height=\"19\" style=\"cursor: pointer; fill: rgb(0, 0, 0); fill-opacity: 0;\"/></g><g class=\"traces\" transform=\"translate(394.109375, 14.5)\" style=\"opacity: 1;\"><text class=\"legendtext user-select-none\" text-anchor=\"start\" x=\"40\" y=\"3.9\" style=\"font-family: 'Open Sans', verdana, arial, sans-serif; font-size: 10px; fill: rgb(42, 63, 95); fill-opacity: 1; white-space: pre;\">Minor injury</text><g class=\"layers\" style=\"opacity: 1;\"><g class=\"legendfill\"/><g class=\"legendlines\"><path class=\"js-line\" d=\"M5,0h30\" style=\"fill: none; stroke: rgb(166, 120, 222); stroke-opacity: 1; stroke-width: 2px;\"/></g><g class=\"legendsymbols\"><g class=\"legendpoints\"><path class=\"scatterpts\" transform=\"translate(20,0)\" d=\"M3,0A3,3 0 1,1 0,-3A3,3 0 0,1 3,0Z\" style=\"opacity: 1; stroke-width: 0px; fill: rgb(166, 120, 222); fill-opacity: 1;\"/></g></g></g><rect class=\"legendtoggle\" pointer-events=\"all\" x=\"0\" y=\"-9.5\" width=\"99.671875\" height=\"19\" style=\"cursor: pointer; fill: rgb(0, 0, 0); fill-opacity: 0;\"/></g></g></g><rect class=\"scrollbar\" rx=\"20\" ry=\"3\" width=\"0\" height=\"0\" x=\"0\" y=\"0\" style=\"fill: rgb(128, 139, 164); fill-opacity: 1;\"/></g><g class=\"g-gtitle\"><text class=\"gtitle\" x=\"35\" y=\"50\" text-anchor=\"start\" dy=\"0em\" style=\"font-family: 'Open Sans', verdana, arial, sans-serif; font-size: 17px; fill: rgb(42, 63, 95); opacity: 1; font-weight: normal; white-space: pre;\">ประเภทความรุนแรงของการเกิดอุบัติเหตุในแต่ละปี</text></g><g class=\"g-xtitle\"><text class=\"xtitle\" x=\"350\" y=\"411.14375\" text-anchor=\"middle\" style=\"font-family: 'Open Sans', verdana, arial, sans-serif; font-size: 14px; fill: rgb(42, 63, 95); opacity: 1; font-weight: normal; white-space: pre;\">ปี</text></g><g class=\"g-ytitle\"><text class=\"ytitle\" transform=\"rotate(-90,26.746875000000003,235)\" x=\"26.746875000000003\" y=\"235\" text-anchor=\"middle\" style=\"font-family: 'Open Sans', verdana, arial, sans-serif; font-size: 14px; fill: rgb(42, 63, 95); opacity: 1; font-weight: normal; white-space: pre;\">จำนวน</text></g></g></svg>"
      ]
     },
     "metadata": {},
     "output_type": "display_data"
    }
   ],
   "source": [
    "#ตัวแปร d1 d2 d3 และ d4 คือเพื่อเก็บประเภทความรุนแรงแต่ละประเภท \n",
    "d1 = roaddata[roaddata[\"Crash_Severity\"] == \"Property damage only\"]\n",
    "d2 = roaddata[roaddata[\"Crash_Severity\"] == \"Medical treatment\"]\n",
    "d3 = roaddata[roaddata[\"Crash_Severity\"] == \"Hospitalisation\"]\n",
    "d4 = roaddata[roaddata[\"Crash_Severity\"] == \"Minor injury\"]\n",
    "\n",
    "#เก็บค่าตัวแปร Year\n",
    "col = \"Crash_Year\" \n",
    "\n",
    "# count value แต่ละปีและประเภท\n",
    "vc1 = d1[col].value_counts().reset_index() \n",
    "vc1 = vc1.rename(columns = {col : \"count\", \"index\" : col})\n",
    "vc1 = vc1.sort_values(col)\n",
    "\n",
    "vc2 = d2[col].value_counts().reset_index()\n",
    "vc2 = vc2.rename(columns = {col : \"count\", \"index\" : col})\n",
    "vc2 = vc2.sort_values(col)\n",
    "\n",
    "vc3 = d3[col].value_counts().reset_index()\n",
    "vc3 = vc3.rename(columns = {col : \"count\", \"index\" : col})\n",
    "vc3 = vc3.sort_values(col)\n",
    "\n",
    "vc4 = d4[col].value_counts().reset_index()\n",
    "vc4 = vc4.rename(columns = {col : \"count\", \"index\" : col})\n",
    "vc4 = vc4.sort_values(col)\n",
    "\n",
    "#Line Graph\n",
    "trace1 = go.Scatter(x=vc1[col], y=vc1[\"count\"], name=\"Property damage only\", marker=dict(color=\"#ff6666\"))\n",
    "trace2 = go.Scatter(x=vc2[col], y=vc2[\"count\"], name=\"Medical treatment\", marker=dict(color=\"#6699ff\"))\n",
    "trace3 = go.Scatter(x=vc3[col], y=vc3[\"count\"], name=\"Hospitalisation\", marker=dict(color=\"#6ad49b\"))\n",
    "trace4 = go.Scatter(x=vc4[col], y=vc4[\"count\"], name=\"Minor injury\", marker=dict(color=\"#a678de\"))\n",
    "data = [trace1, trace2, trace3,trace4]\n",
    "\n",
    "# layout แสดงผลใน Line Graph\n",
    "layout = go.Layout(title=\"ประเภทความรุนแรงของการเกิดอุบัติเหตุในแต่ละปี\", xaxis_title=\"ปี\",\n",
    "    yaxis_title=\"จำนวน\",legend=dict(x=0.05, y=1.15, orientation=\"h\" , font_size=10))\n",
    "fig = go.Figure(data, layout=layout )\n",
    "fig.show(renderer='svg') "
   ]
  },
  {
   "cell_type": "markdown",
   "metadata": {},
   "source": [
    "จากกราฟโดยรวมแล้วจะเห็นได้ว่า ในปี 2004 มีจำนวนความรุนแรงของการเกิดอุบัติเหตุในกรณีที่เป็น Property damage only (ทรัพย์สินเสียหายเท่านั้น ) มากที่สุด และ ความรุนแรงของการเกิดอุบัติเหตุในกรณีที่เป็น Property damage only ยังมีสถิติมากที่สุดในทุกๆปีอีกด้วย\n",
    "\n",
    "หมายเหตุ\n",
    "- ความเสียหายต่อทรัพย์สินเท่านั้น เก็บข้อมูลถึงวันที่ 31 ธันวาคม 2010\n",
    "\n",
    "จากการวิเคราะห์ข้างต้นที่ได้หาว่าปีและประเภทความรุนแรงใดเกิดมากที่สุดได้แล้วได้ ทำให้เกิดความสงสัยว่าในปี 2004 มีจำนวนการเกิดอุบัติเหตุในกรณีที่เป็น Property damage only เดือนใดเกิดอุบัติเหตุมากสุด?"
   ]
  },
  {
   "cell_type": "code",
   "execution_count": 265,
   "metadata": {},
   "outputs": [
    {
     "data": {
      "text/html": [
       "<div>\n",
       "<style scoped>\n",
       "    .dataframe tbody tr th:only-of-type {\n",
       "        vertical-align: middle;\n",
       "    }\n",
       "\n",
       "    .dataframe tbody tr th {\n",
       "        vertical-align: top;\n",
       "    }\n",
       "\n",
       "    .dataframe thead th {\n",
       "        text-align: right;\n",
       "    }\n",
       "</style>\n",
       "<table border=\"1\" class=\"dataframe\">\n",
       "  <thead>\n",
       "    <tr style=\"text-align: right;\">\n",
       "      <th></th>\n",
       "      <th>Crash_Month</th>\n",
       "      <th>count</th>\n",
       "      <th>percent</th>\n",
       "    </tr>\n",
       "  </thead>\n",
       "  <tbody>\n",
       "    <tr>\n",
       "      <th>0</th>\n",
       "      <td>March</td>\n",
       "      <td>103</td>\n",
       "      <td>10.157791</td>\n",
       "    </tr>\n",
       "    <tr>\n",
       "      <th>1</th>\n",
       "      <td>October</td>\n",
       "      <td>96</td>\n",
       "      <td>9.467456</td>\n",
       "    </tr>\n",
       "    <tr>\n",
       "      <th>2</th>\n",
       "      <td>April</td>\n",
       "      <td>93</td>\n",
       "      <td>9.171598</td>\n",
       "    </tr>\n",
       "    <tr>\n",
       "      <th>3</th>\n",
       "      <td>August</td>\n",
       "      <td>92</td>\n",
       "      <td>9.072978</td>\n",
       "    </tr>\n",
       "    <tr>\n",
       "      <th>4</th>\n",
       "      <td>July</td>\n",
       "      <td>91</td>\n",
       "      <td>8.974359</td>\n",
       "    </tr>\n",
       "    <tr>\n",
       "      <th>5</th>\n",
       "      <td>May</td>\n",
       "      <td>89</td>\n",
       "      <td>8.777120</td>\n",
       "    </tr>\n",
       "    <tr>\n",
       "      <th>6</th>\n",
       "      <td>December</td>\n",
       "      <td>82</td>\n",
       "      <td>8.086785</td>\n",
       "    </tr>\n",
       "    <tr>\n",
       "      <th>7</th>\n",
       "      <td>September</td>\n",
       "      <td>81</td>\n",
       "      <td>7.988166</td>\n",
       "    </tr>\n",
       "    <tr>\n",
       "      <th>8</th>\n",
       "      <td>January</td>\n",
       "      <td>76</td>\n",
       "      <td>7.495069</td>\n",
       "    </tr>\n",
       "    <tr>\n",
       "      <th>9</th>\n",
       "      <td>November</td>\n",
       "      <td>76</td>\n",
       "      <td>7.495069</td>\n",
       "    </tr>\n",
       "    <tr>\n",
       "      <th>10</th>\n",
       "      <td>June</td>\n",
       "      <td>72</td>\n",
       "      <td>7.100592</td>\n",
       "    </tr>\n",
       "    <tr>\n",
       "      <th>11</th>\n",
       "      <td>February</td>\n",
       "      <td>63</td>\n",
       "      <td>6.213018</td>\n",
       "    </tr>\n",
       "  </tbody>\n",
       "</table>\n",
       "</div>"
      ],
      "text/plain": [
       "   Crash_Month  count    percent\n",
       "0        March    103  10.157791\n",
       "1      October     96   9.467456\n",
       "2        April     93   9.171598\n",
       "3       August     92   9.072978\n",
       "4         July     91   8.974359\n",
       "5          May     89   8.777120\n",
       "6     December     82   8.086785\n",
       "7    September     81   7.988166\n",
       "8      January     76   7.495069\n",
       "9     November     76   7.495069\n",
       "10        June     72   7.100592\n",
       "11    February     63   6.213018"
      ]
     },
     "execution_count": 265,
     "metadata": {},
     "output_type": "execute_result"
    }
   ],
   "source": [
    "#กำหนดปี 2004 และ ประเภทของ Crash Severity = Property damage only ในตัวแปรก่อน\n",
    "roaddata_y = roaddata[(roaddata['Crash_Year'] == 2004)].reset_index(drop=True) \n",
    "d1 = roaddata_y[roaddata_y[\"Crash_Severity\"] == \"Property damage only\"]\n",
    "\n",
    "col = \"Crash_Month\"\n",
    "\n",
    "#หาจำนวนและเปอร์เซ็นต์\n",
    "vc1 = d1[col].value_counts().reset_index()\n",
    "vc1 = vc1.rename(columns = {col : \"count\", \"index\" : col})\n",
    "vc1['percent'] = vc1['count'].apply(lambda x : 100*x/sum(vc1['count']))\n",
    "vc1"
   ]
  },
  {
   "cell_type": "code",
   "execution_count": 266,
   "metadata": {},
   "outputs": [
    {
     "data": {
      "image/svg+xml": [
       "<svg class=\"main-svg\" xmlns=\"http://www.w3.org/2000/svg\" xmlns:xlink=\"http://www.w3.org/1999/xlink\" width=\"700\" height=\"450\" style=\"\" viewBox=\"0 0 700 450\"><rect x=\"0\" y=\"0\" width=\"700\" height=\"450\" style=\"fill: rgb(255, 255, 255); fill-opacity: 1;\"/><defs id=\"defs-387f70\"><g class=\"clips\"><clipPath id=\"clip387f70xyplot\" class=\"plotclip\"><rect width=\"540\" height=\"267\"/></clipPath><clipPath class=\"axesclip\" id=\"clip387f70x\"><rect x=\"80\" y=\"0\" width=\"540\" height=\"450\"/></clipPath><clipPath class=\"axesclip\" id=\"clip387f70y\"><rect x=\"0\" y=\"100\" width=\"700\" height=\"267\"/></clipPath><clipPath class=\"axesclip\" id=\"clip387f70xy\"><rect x=\"80\" y=\"100\" width=\"540\" height=\"267\"/></clipPath></g><g class=\"gradients\"/></defs><g class=\"bglayer\"><rect class=\"bg\" x=\"80\" y=\"100\" width=\"540\" height=\"267\" style=\"fill: rgb(229, 236, 246); fill-opacity: 1; stroke-width: 0;\"/></g><g class=\"layer-below\"><g class=\"imagelayer\"/><g class=\"shapelayer\"/></g><g class=\"cartesianlayer\"><g class=\"subplot xy\"><g class=\"layer-subplot\"><g class=\"shapelayer\"/><g class=\"imagelayer\"/></g><g class=\"gridlayer\"><g class=\"x\"><path class=\"xgrid crisp\" transform=\"translate(110.75,0)\" d=\"M0,100v267\" style=\"stroke: rgb(255, 255, 255); stroke-opacity: 1; stroke-width: 1px;\"/><path class=\"xgrid crisp\" transform=\"translate(154.25,0)\" d=\"M0,100v267\" style=\"stroke: rgb(255, 255, 255); stroke-opacity: 1; stroke-width: 1px;\"/><path class=\"xgrid crisp\" transform=\"translate(197.75,0)\" d=\"M0,100v267\" style=\"stroke: rgb(255, 255, 255); stroke-opacity: 1; stroke-width: 1px;\"/><path class=\"xgrid crisp\" transform=\"translate(241.25,0)\" d=\"M0,100v267\" style=\"stroke: rgb(255, 255, 255); stroke-opacity: 1; stroke-width: 1px;\"/><path class=\"xgrid crisp\" transform=\"translate(284.75,0)\" d=\"M0,100v267\" style=\"stroke: rgb(255, 255, 255); stroke-opacity: 1; stroke-width: 1px;\"/><path class=\"xgrid crisp\" transform=\"translate(328.25,0)\" d=\"M0,100v267\" style=\"stroke: rgb(255, 255, 255); stroke-opacity: 1; stroke-width: 1px;\"/><path class=\"xgrid crisp\" transform=\"translate(371.75,0)\" d=\"M0,100v267\" style=\"stroke: rgb(255, 255, 255); stroke-opacity: 1; stroke-width: 1px;\"/><path class=\"xgrid crisp\" transform=\"translate(415.25,0)\" d=\"M0,100v267\" style=\"stroke: rgb(255, 255, 255); stroke-opacity: 1; stroke-width: 1px;\"/><path class=\"xgrid crisp\" transform=\"translate(458.75,0)\" d=\"M0,100v267\" style=\"stroke: rgb(255, 255, 255); stroke-opacity: 1; stroke-width: 1px;\"/><path class=\"xgrid crisp\" transform=\"translate(502.25,0)\" d=\"M0,100v267\" style=\"stroke: rgb(255, 255, 255); stroke-opacity: 1; stroke-width: 1px;\"/><path class=\"xgrid crisp\" transform=\"translate(545.75,0)\" d=\"M0,100v267\" style=\"stroke: rgb(255, 255, 255); stroke-opacity: 1; stroke-width: 1px;\"/><path class=\"xgrid crisp\" transform=\"translate(589.25,0)\" d=\"M0,100v267\" style=\"stroke: rgb(255, 255, 255); stroke-opacity: 1; stroke-width: 1px;\"/></g><g class=\"y\"><path class=\"ygrid crisp\" transform=\"translate(0,309.15999999999997)\" d=\"M80,0h540\" style=\"stroke: rgb(255, 255, 255); stroke-opacity: 1; stroke-width: 1px;\"/><path class=\"ygrid crisp\" transform=\"translate(0,250.96)\" d=\"M80,0h540\" style=\"stroke: rgb(255, 255, 255); stroke-opacity: 1; stroke-width: 1px;\"/><path class=\"ygrid crisp\" transform=\"translate(0,192.76)\" d=\"M80,0h540\" style=\"stroke: rgb(255, 255, 255); stroke-opacity: 1; stroke-width: 1px;\"/><path class=\"ygrid crisp\" transform=\"translate(0,134.56)\" d=\"M80,0h540\" style=\"stroke: rgb(255, 255, 255); stroke-opacity: 1; stroke-width: 1px;\"/></g></g><g class=\"zerolinelayer\"/><path class=\"xlines-below\"/><path class=\"ylines-below\"/><g class=\"overlines-below\"/><g class=\"xaxislayer-below\"/><g class=\"yaxislayer-below\"/><g class=\"overaxes-below\"/><g class=\"plot\" transform=\"translate(80, 100)\" clip-path=\"url('#clip387f70xyplot')\"><g class=\"scatterlayer mlayer\"><g class=\"trace scatter trace0eaab0\" style=\"stroke-miterlimit: 2; opacity: 1;\"><g class=\"fills\"/><g class=\"errorbars\"/><g class=\"lines\"><path class=\"js-line\" d=\"M30.75,17.1L74.25,57.84L117.75,75.3L204.75,86.94L248.25,98.58L291.75,139.32L335.25,145.14L378.75,174.24L422.25,174.24L465.75,197.52L509.25,249.9\" style=\"vector-effect: non-scaling-stroke; fill: none; stroke: rgb(255, 102, 102); stroke-opacity: 1; stroke-width: 2px; opacity: 1;\"/></g><g class=\"points\"><path class=\"point\" transform=\"translate(30.75,17.1)\" d=\"M3,0A3,3 0 1,1 0,-3A3,3 0 0,1 3,0Z\" style=\"opacity: 1; stroke-width: 0px; fill: rgb(255, 102, 102); fill-opacity: 1;\"/><path class=\"point\" transform=\"translate(74.25,57.84)\" d=\"M3,0A3,3 0 1,1 0,-3A3,3 0 0,1 3,0Z\" style=\"opacity: 1; stroke-width: 0px; fill: rgb(255, 102, 102); fill-opacity: 1;\"/><path class=\"point\" transform=\"translate(117.75,75.3)\" d=\"M3,0A3,3 0 1,1 0,-3A3,3 0 0,1 3,0Z\" style=\"opacity: 1; stroke-width: 0px; fill: rgb(255, 102, 102); fill-opacity: 1;\"/><path class=\"point\" transform=\"translate(161.25,81.12)\" d=\"M3,0A3,3 0 1,1 0,-3A3,3 0 0,1 3,0Z\" style=\"opacity: 1; stroke-width: 0px; fill: rgb(255, 102, 102); fill-opacity: 1;\"/><path class=\"point\" transform=\"translate(204.75,86.94)\" d=\"M3,0A3,3 0 1,1 0,-3A3,3 0 0,1 3,0Z\" style=\"opacity: 1; stroke-width: 0px; fill: rgb(255, 102, 102); fill-opacity: 1;\"/><path class=\"point\" transform=\"translate(248.25,98.58)\" d=\"M3,0A3,3 0 1,1 0,-3A3,3 0 0,1 3,0Z\" style=\"opacity: 1; stroke-width: 0px; fill: rgb(255, 102, 102); fill-opacity: 1;\"/><path class=\"point\" transform=\"translate(291.75,139.32)\" d=\"M3,0A3,3 0 1,1 0,-3A3,3 0 0,1 3,0Z\" style=\"opacity: 1; stroke-width: 0px; fill: rgb(255, 102, 102); fill-opacity: 1;\"/><path class=\"point\" transform=\"translate(335.25,145.14)\" d=\"M3,0A3,3 0 1,1 0,-3A3,3 0 0,1 3,0Z\" style=\"opacity: 1; stroke-width: 0px; fill: rgb(255, 102, 102); fill-opacity: 1;\"/><path class=\"point\" transform=\"translate(378.75,174.24)\" d=\"M3,0A3,3 0 1,1 0,-3A3,3 0 0,1 3,0Z\" style=\"opacity: 1; stroke-width: 0px; fill: rgb(255, 102, 102); fill-opacity: 1;\"/><path class=\"point\" transform=\"translate(422.25,174.24)\" d=\"M3,0A3,3 0 1,1 0,-3A3,3 0 0,1 3,0Z\" style=\"opacity: 1; stroke-width: 0px; fill: rgb(255, 102, 102); fill-opacity: 1;\"/><path class=\"point\" transform=\"translate(465.75,197.52)\" d=\"M3,0A3,3 0 1,1 0,-3A3,3 0 0,1 3,0Z\" style=\"opacity: 1; stroke-width: 0px; fill: rgb(255, 102, 102); fill-opacity: 1;\"/><path class=\"point\" transform=\"translate(509.25,249.9)\" d=\"M3,0A3,3 0 1,1 0,-3A3,3 0 0,1 3,0Z\" style=\"opacity: 1; stroke-width: 0px; fill: rgb(255, 102, 102); fill-opacity: 1;\"/></g><g class=\"text\"/></g></g></g><g class=\"overplot\"/><path class=\"xlines-above crisp\" d=\"M0,0\" style=\"fill: none;\"/><path class=\"ylines-above crisp\" d=\"M0,0\" style=\"fill: none;\"/><g class=\"overlines-above\"/><g class=\"xaxislayer-above\"><g class=\"xtick\"><text text-anchor=\"start\" x=\"0\" y=\"380\" transform=\"translate(110.75,0) rotate(30,0,374)\" style=\"font-family: 'Open Sans', verdana, arial, sans-serif; font-size: 12px; fill: rgb(42, 63, 95); fill-opacity: 1; white-space: pre;\">March</text></g><g class=\"xtick\"><text text-anchor=\"start\" x=\"0\" y=\"380\" transform=\"translate(154.25,0) rotate(30,0,374)\" style=\"font-family: 'Open Sans', verdana, arial, sans-serif; font-size: 12px; fill: rgb(42, 63, 95); fill-opacity: 1; white-space: pre;\">October</text></g><g class=\"xtick\"><text text-anchor=\"start\" x=\"0\" y=\"380\" transform=\"translate(197.75,0) rotate(30,0,374)\" style=\"font-family: 'Open Sans', verdana, arial, sans-serif; font-size: 12px; fill: rgb(42, 63, 95); fill-opacity: 1; white-space: pre;\">April</text></g><g class=\"xtick\"><text text-anchor=\"start\" x=\"0\" y=\"380\" transform=\"translate(241.25,0) rotate(30,0,374)\" style=\"font-family: 'Open Sans', verdana, arial, sans-serif; font-size: 12px; fill: rgb(42, 63, 95); fill-opacity: 1; white-space: pre;\">August</text></g><g class=\"xtick\"><text text-anchor=\"start\" x=\"0\" y=\"380\" transform=\"translate(284.75,0) rotate(30,0,374)\" style=\"font-family: 'Open Sans', verdana, arial, sans-serif; font-size: 12px; fill: rgb(42, 63, 95); fill-opacity: 1; white-space: pre;\">July</text></g><g class=\"xtick\"><text text-anchor=\"start\" x=\"0\" y=\"380\" transform=\"translate(328.25,0) rotate(30,0,374)\" style=\"font-family: 'Open Sans', verdana, arial, sans-serif; font-size: 12px; fill: rgb(42, 63, 95); fill-opacity: 1; white-space: pre;\">May</text></g><g class=\"xtick\"><text text-anchor=\"start\" x=\"0\" y=\"380\" transform=\"translate(371.75,0) rotate(30,0,374)\" style=\"font-family: 'Open Sans', verdana, arial, sans-serif; font-size: 12px; fill: rgb(42, 63, 95); fill-opacity: 1; white-space: pre;\">December</text></g><g class=\"xtick\"><text text-anchor=\"start\" x=\"0\" y=\"380\" transform=\"translate(415.25,0) rotate(30,0,374)\" style=\"font-family: 'Open Sans', verdana, arial, sans-serif; font-size: 12px; fill: rgb(42, 63, 95); fill-opacity: 1; white-space: pre;\">September</text></g><g class=\"xtick\"><text text-anchor=\"start\" x=\"0\" y=\"380\" transform=\"translate(458.75,0) rotate(30,0,374)\" style=\"font-family: 'Open Sans', verdana, arial, sans-serif; font-size: 12px; fill: rgb(42, 63, 95); fill-opacity: 1; white-space: pre;\">January</text></g><g class=\"xtick\"><text text-anchor=\"start\" x=\"0\" y=\"380\" transform=\"translate(502.25,0) rotate(30,0,374)\" style=\"font-family: 'Open Sans', verdana, arial, sans-serif; font-size: 12px; fill: rgb(42, 63, 95); fill-opacity: 1; white-space: pre;\">November</text></g><g class=\"xtick\"><text text-anchor=\"start\" x=\"0\" y=\"380\" transform=\"translate(545.75,0) rotate(30,0,374)\" style=\"font-family: 'Open Sans', verdana, arial, sans-serif; font-size: 12px; fill: rgb(42, 63, 95); fill-opacity: 1; white-space: pre;\">June</text></g><g class=\"xtick\"><text text-anchor=\"start\" x=\"0\" y=\"380\" transform=\"translate(589.25,0) rotate(30,0,374)\" style=\"font-family: 'Open Sans', verdana, arial, sans-serif; font-size: 12px; fill: rgb(42, 63, 95); fill-opacity: 1; white-space: pre;\">February</text></g></g><g class=\"yaxislayer-above\"><g class=\"ytick\"><text text-anchor=\"end\" x=\"79\" y=\"4.199999999999999\" transform=\"translate(0,309.15999999999997)\" style=\"font-family: 'Open Sans', verdana, arial, sans-serif; font-size: 12px; fill: rgb(42, 63, 95); fill-opacity: 1; white-space: pre;\">70</text></g><g class=\"ytick\"><text text-anchor=\"end\" x=\"79\" y=\"4.199999999999999\" transform=\"translate(0,250.96)\" style=\"font-family: 'Open Sans', verdana, arial, sans-serif; font-size: 12px; fill: rgb(42, 63, 95); fill-opacity: 1; white-space: pre;\">80</text></g><g class=\"ytick\"><text text-anchor=\"end\" x=\"79\" y=\"4.199999999999999\" transform=\"translate(0,192.76)\" style=\"font-family: 'Open Sans', verdana, arial, sans-serif; font-size: 12px; fill: rgb(42, 63, 95); fill-opacity: 1; white-space: pre;\">90</text></g><g class=\"ytick\"><text text-anchor=\"end\" x=\"79\" y=\"4.199999999999999\" transform=\"translate(0,134.56)\" style=\"font-family: 'Open Sans', verdana, arial, sans-serif; font-size: 12px; fill: rgb(42, 63, 95); fill-opacity: 1; white-space: pre;\">100</text></g></g><g class=\"overaxes-above\"/></g></g><g class=\"polarlayer\"/><g class=\"ternarylayer\"/><g class=\"geolayer\"/><g class=\"funnelarealayer\"/><g class=\"pielayer\"/><g class=\"treemaplayer\"/><g class=\"sunburstlayer\"/><g class=\"glimages\"/><defs id=\"topdefs-387f70\"><g class=\"clips\"/></defs><g class=\"layer-above\"><g class=\"imagelayer\"/><g class=\"shapelayer\"/></g><g class=\"infolayer\"><g class=\"g-gtitle\"><text class=\"gtitle\" x=\"35\" y=\"50\" text-anchor=\"start\" dy=\"0em\" style=\"font-family: 'Open Sans', verdana, arial, sans-serif; font-size: 17px; fill: rgb(42, 63, 95); opacity: 1; font-weight: normal; white-space: pre;\">จำนวนความรุนแรงประเภท Property damage only ในปี 2004</text></g><g class=\"g-xtitle\"><text class=\"xtitle\" x=\"350\" y=\"438.00866012573243\" text-anchor=\"middle\" style=\"font-family: 'Open Sans', verdana, arial, sans-serif; font-size: 14px; fill: rgb(42, 63, 95); opacity: 1; font-weight: normal; white-space: pre;\">เดือน</text></g><g class=\"g-ytitle\"><text class=\"ytitle\" transform=\"rotate(-90,33.60625,233.5)\" x=\"33.60625\" y=\"233.5\" text-anchor=\"middle\" style=\"font-family: 'Open Sans', verdana, arial, sans-serif; font-size: 14px; fill: rgb(42, 63, 95); opacity: 1; font-weight: normal; white-space: pre;\">จำนวน</text></g></g></svg>"
      ]
     },
     "metadata": {},
     "output_type": "display_data"
    }
   ],
   "source": [
    "#ทำ Line Graph แสดงผล\n",
    "d1 = roaddata_y[roaddata_y[\"Crash_Severity\"] == \"Property damage only\"]\n",
    "\n",
    "col = \"Crash_Month\"\n",
    "\n",
    "\n",
    "vc1 = d1[col].value_counts().reset_index()\n",
    "vc1 = vc1.rename(columns = {col : \"count\", \"index\" : col})\n",
    "vc1['percent'] = vc1['count'].apply(lambda x : 100*x/sum(vc1['count']))\n",
    "\n",
    "\n",
    "trace1 = go.Scatter(x=vc1[col], y=vc1[\"count\"], name=\"Property damage only\", marker=dict(color=\"#ff6666\"))\n",
    "\n",
    "data = [trace1]\n",
    "\n",
    "layout = go.Layout(title=\"จำนวนความรุนแรงประเภท Property damage only ในปี 2004\",    xaxis_title= \"เดือน\",\n",
    "    yaxis_title=\"จำนวน\",legend=dict(x=0.05, y=1.15, orientation=\"h\" , font_size=10))\n",
    "fig = go.Figure(data, layout=layout )\n",
    "fig.show(renderer='svg')"
   ]
  },
  {
   "cell_type": "markdown",
   "metadata": {},
   "source": [
    "จากกราฟข้างบนนี้ เป็นการแสดงจำนวนการเกิดอุบัติเหตุในกรณีประเภท Property damage only ในปี 2004 พบว่าในช่วงเดือน March เป็นเดือนที่การเกิดอุบัติเหตุในกรณีที่เป็น Property damage only มากที่สุด คิดเป็นร้อยละ 10.15 รองลงมา October คิดเป็นร้อยละ 9.46 และ April คิดเป็นร้อยละ 9.17 "
   ]
  },
  {
   "cell_type": "markdown",
   "metadata": {},
   "source": [
    "--------------------------------------------------------------------------------------------------------------------------------"
   ]
  },
  {
   "cell_type": "markdown",
   "metadata": {},
   "source": [
    "### การเกิดอุบัติเหตุในแต่ละปี"
   ]
  },
  {
   "cell_type": "code",
   "execution_count": 334,
   "metadata": {},
   "outputs": [
    {
     "data": {
      "text/html": [
       "<div>\n",
       "<style scoped>\n",
       "    .dataframe tbody tr th:only-of-type {\n",
       "        vertical-align: middle;\n",
       "    }\n",
       "\n",
       "    .dataframe tbody tr th {\n",
       "        vertical-align: top;\n",
       "    }\n",
       "\n",
       "    .dataframe thead th {\n",
       "        text-align: right;\n",
       "    }\n",
       "</style>\n",
       "<table border=\"1\" class=\"dataframe\">\n",
       "  <thead>\n",
       "    <tr style=\"text-align: right;\">\n",
       "      <th></th>\n",
       "      <th>Crash_Year</th>\n",
       "      <th>Crash_Severity</th>\n",
       "    </tr>\n",
       "  </thead>\n",
       "  <tbody>\n",
       "    <tr>\n",
       "      <th>0</th>\n",
       "      <td>2002</td>\n",
       "      <td>2346</td>\n",
       "    </tr>\n",
       "    <tr>\n",
       "      <th>1</th>\n",
       "      <td>2003</td>\n",
       "      <td>2445</td>\n",
       "    </tr>\n",
       "    <tr>\n",
       "      <th>2</th>\n",
       "      <td>2004</td>\n",
       "      <td>2448</td>\n",
       "    </tr>\n",
       "    <tr>\n",
       "      <th>3</th>\n",
       "      <td>2005</td>\n",
       "      <td>2522</td>\n",
       "    </tr>\n",
       "    <tr>\n",
       "      <th>4</th>\n",
       "      <td>2006</td>\n",
       "      <td>2331</td>\n",
       "    </tr>\n",
       "    <tr>\n",
       "      <th>5</th>\n",
       "      <td>2007</td>\n",
       "      <td>2419</td>\n",
       "    </tr>\n",
       "    <tr>\n",
       "      <th>6</th>\n",
       "      <td>2008</td>\n",
       "      <td>2457</td>\n",
       "    </tr>\n",
       "    <tr>\n",
       "      <th>7</th>\n",
       "      <td>2009</td>\n",
       "      <td>2444</td>\n",
       "    </tr>\n",
       "    <tr>\n",
       "      <th>8</th>\n",
       "      <td>2010</td>\n",
       "      <td>2352</td>\n",
       "    </tr>\n",
       "    <tr>\n",
       "      <th>9</th>\n",
       "      <td>2011</td>\n",
       "      <td>1326</td>\n",
       "    </tr>\n",
       "    <tr>\n",
       "      <th>10</th>\n",
       "      <td>2012</td>\n",
       "      <td>1333</td>\n",
       "    </tr>\n",
       "  </tbody>\n",
       "</table>\n",
       "</div>"
      ],
      "text/plain": [
       "    Crash_Year  Crash_Severity\n",
       "0         2002            2346\n",
       "1         2003            2445\n",
       "2         2004            2448\n",
       "3         2005            2522\n",
       "4         2006            2331\n",
       "5         2007            2419\n",
       "6         2008            2457\n",
       "7         2009            2444\n",
       "8         2010            2352\n",
       "9         2011            1326\n",
       "10        2012            1333"
      ]
     },
     "execution_count": 334,
     "metadata": {},
     "output_type": "execute_result"
    }
   ],
   "source": [
    "yearly_Severity_count = roaddata.groupby('Crash_Year')['Crash_Severity'].count().reset_index()\n",
    "yearly_Severity_count"
   ]
  },
  {
   "cell_type": "code",
   "execution_count": 335,
   "metadata": {},
   "outputs": [
    {
     "data": {
      "image/svg+xml": [
       "<svg class=\"main-svg\" xmlns=\"http://www.w3.org/2000/svg\" xmlns:xlink=\"http://www.w3.org/1999/xlink\" width=\"700\" height=\"450\" style=\"\" viewBox=\"0 0 700 450\"><rect x=\"0\" y=\"0\" width=\"700\" height=\"450\" style=\"fill: rgb(255, 255, 255); fill-opacity: 1;\"/><defs id=\"defs-73c1c3\"><g class=\"clips\"><clipPath id=\"clip73c1c3xyplot\" class=\"plotclip\"><rect width=\"494\" height=\"310\"/></clipPath><clipPath class=\"axesclip\" id=\"clip73c1c3x\"><rect x=\"80\" y=\"0\" width=\"494\" height=\"450\"/></clipPath><clipPath class=\"axesclip\" id=\"clip73c1c3y\"><rect x=\"0\" y=\"60\" width=\"700\" height=\"310\"/></clipPath><clipPath class=\"axesclip\" id=\"clip73c1c3xy\"><rect x=\"80\" y=\"60\" width=\"494\" height=\"310\"/></clipPath></g><g class=\"gradients\"><linearGradient x1=\"0\" x2=\"0\" y1=\"1\" y2=\"0\" id=\"g73c1c3-cbcoloraxis\"><stop offset=\"0%\" stop-color=\"rgb(13, 8, 135)\" stop-opacity=\"1\"/><stop offset=\"11.11111111111111%\" stop-color=\"rgb(70, 3, 159)\" stop-opacity=\"1\"/><stop offset=\"22.22222222222222%\" stop-color=\"rgb(114, 1, 168)\" stop-opacity=\"1\"/><stop offset=\"33.33333333333333%\" stop-color=\"rgb(156, 23, 158)\" stop-opacity=\"1\"/><stop offset=\"44.44444444444444%\" stop-color=\"rgb(189, 55, 134)\" stop-opacity=\"1\"/><stop offset=\"55.55555555555556%\" stop-color=\"rgb(216, 87, 107)\" stop-opacity=\"1\"/><stop offset=\"66.66666666666666%\" stop-color=\"rgb(237, 121, 83)\" stop-opacity=\"1\"/><stop offset=\"77.77777777777779%\" stop-color=\"rgb(251, 159, 58)\" stop-opacity=\"1\"/><stop offset=\"88.88888888888889%\" stop-color=\"rgb(253, 202, 38)\" stop-opacity=\"1\"/><stop offset=\"100%\" stop-color=\"rgb(240, 249, 33)\" stop-opacity=\"1\"/></linearGradient></g></defs><g class=\"bglayer\"><rect class=\"bg\" x=\"80\" y=\"60\" width=\"494\" height=\"310\" style=\"fill: rgb(229, 236, 246); fill-opacity: 1; stroke-width: 0;\"/></g><g class=\"layer-below\"><g class=\"imagelayer\"/><g class=\"shapelayer\"/></g><g class=\"cartesianlayer\"><g class=\"subplot xy\"><g class=\"layer-subplot\"><g class=\"shapelayer\"/><g class=\"imagelayer\"/></g><g class=\"gridlayer\"><g class=\"x\"/><g class=\"y\"><path class=\"ygrid crisp\" transform=\"translate(0,311.61)\" d=\"M80,0h494\" style=\"stroke: rgb(255, 255, 255); stroke-opacity: 1; stroke-width: 1px;\"/><path class=\"ygrid crisp\" transform=\"translate(0,253.23)\" d=\"M80,0h494\" style=\"stroke: rgb(255, 255, 255); stroke-opacity: 1; stroke-width: 1px;\"/><path class=\"ygrid crisp\" transform=\"translate(0,194.84)\" d=\"M80,0h494\" style=\"stroke: rgb(255, 255, 255); stroke-opacity: 1; stroke-width: 1px;\"/><path class=\"ygrid crisp\" transform=\"translate(0,136.45999999999998)\" d=\"M80,0h494\" style=\"stroke: rgb(255, 255, 255); stroke-opacity: 1; stroke-width: 1px;\"/><path class=\"ygrid crisp\" transform=\"translate(0,78.07)\" d=\"M80,0h494\" style=\"stroke: rgb(255, 255, 255); stroke-opacity: 1; stroke-width: 1px;\"/></g></g><g class=\"zerolinelayer\"><path class=\"yzl zl crisp\" transform=\"translate(0,370)\" d=\"M80,0h494\" style=\"stroke: rgb(255, 255, 255); stroke-opacity: 1; stroke-width: 2px;\"/></g><path class=\"xlines-below\"/><path class=\"ylines-below\"/><g class=\"overlines-below\"/><g class=\"xaxislayer-below\"/><g class=\"yaxislayer-below\"/><g class=\"overaxes-below\"/><g class=\"plot\" transform=\"translate(80, 60)\" clip-path=\"url('#clip73c1c3xyplot')\"><g class=\"barlayer mlayer\"><g class=\"trace bars\" style=\"opacity: 1;\"><g class=\"points\"><g class=\"point\"><path d=\"M4.49,310V36.05H40.42V310Z\" style=\"vector-effect: non-scaling-stroke; opacity: 1; stroke-width: 0.5px; fill: rgb(252, 188, 44); fill-opacity: 1; stroke: rgb(229, 236, 246); stroke-opacity: 1;\"/></g><g class=\"point\"><path d=\"M49.4,310V24.49H85.33V310Z\" style=\"vector-effect: non-scaling-stroke; opacity: 1; stroke-width: 0.5px; fill: rgb(248, 222, 36); fill-opacity: 1; stroke: rgb(229, 236, 246); stroke-opacity: 1;\"/></g><g class=\"point\"><path d=\"M94.31,310V24.14H130.24V310Z\" style=\"vector-effect: non-scaling-stroke; opacity: 1; stroke-width: 0.5px; fill: rgb(247, 223, 36); fill-opacity: 1; stroke: rgb(229, 236, 246); stroke-opacity: 1;\"/></g><g class=\"point\"><path d=\"M139.22,310V15.5H175.15V310Z\" style=\"vector-effect: non-scaling-stroke; opacity: 1; stroke-width: 0.5px; fill: rgb(240, 249, 33); fill-opacity: 1; stroke: rgb(229, 236, 246); stroke-opacity: 1;\"/></g><g class=\"point\"><path d=\"M184.13,310V37.8H220.05V310Z\" style=\"vector-effect: non-scaling-stroke; opacity: 1; stroke-width: 0.5px; fill: rgb(252, 183, 47); fill-opacity: 1; stroke: rgb(229, 236, 246); stroke-opacity: 1;\"/></g><g class=\"point\"><path d=\"M229.04,310V27.53H264.96V310Z\" style=\"vector-effect: non-scaling-stroke; opacity: 1; stroke-width: 0.5px; fill: rgb(250, 213, 37); fill-opacity: 1; stroke: rgb(229, 236, 246); stroke-opacity: 1;\"/></g><g class=\"point\"><path d=\"M273.95,310V23.09H309.87V310Z\" style=\"vector-effect: non-scaling-stroke; opacity: 1; stroke-width: 0.5px; fill: rgb(246, 226, 35); fill-opacity: 1; stroke: rgb(229, 236, 246); stroke-opacity: 1;\"/></g><g class=\"point\"><path d=\"M318.85,310V24.61H354.78V310Z\" style=\"vector-effect: non-scaling-stroke; opacity: 1; stroke-width: 0.5px; fill: rgb(248, 221, 36); fill-opacity: 1; stroke: rgb(229, 236, 246); stroke-opacity: 1;\"/></g><g class=\"point\"><path d=\"M363.76,310V35.35H399.69V310Z\" style=\"vector-effect: non-scaling-stroke; opacity: 1; stroke-width: 0.5px; fill: rgb(252, 190, 44); fill-opacity: 1; stroke: rgb(229, 236, 246); stroke-opacity: 1;\"/></g><g class=\"point\"><path d=\"M408.67,310V155.16H444.6V310Z\" style=\"vector-effect: non-scaling-stroke; opacity: 1; stroke-width: 0.5px; fill: rgb(13, 8, 135); fill-opacity: 1; stroke: rgb(229, 236, 246); stroke-opacity: 1;\"/></g><g class=\"point\"><path d=\"M453.58,310V154.34H489.51V310Z\" style=\"vector-effect: non-scaling-stroke; opacity: 1; stroke-width: 0.5px; fill: rgb(16, 8, 136); fill-opacity: 1; stroke: rgb(229, 236, 246); stroke-opacity: 1;\"/></g></g></g></g></g><g class=\"overplot\"/><path class=\"xlines-above crisp\" style=\"fill: none;\" d=\"M0,0\"/><path class=\"ylines-above crisp\" style=\"fill: none;\" d=\"M0,0\"/><g class=\"overlines-above\"/><g class=\"xaxislayer-above\"><g class=\"xtick\"><text text-anchor=\"middle\" x=\"0\" y=\"383\" transform=\"translate(102.45,0)\" style=\"font-family: 'Open Sans', verdana, arial, sans-serif; font-size: 12px; fill: rgb(42, 63, 95); fill-opacity: 1; white-space: pre;\">2002</text></g><g class=\"xtick\"><text text-anchor=\"middle\" x=\"0\" y=\"383\" transform=\"translate(192.26999999999998,0)\" style=\"font-family: 'Open Sans', verdana, arial, sans-serif; font-size: 12px; fill: rgb(42, 63, 95); fill-opacity: 1; white-space: pre;\">2004</text></g><g class=\"xtick\"><text text-anchor=\"middle\" x=\"0\" y=\"383\" transform=\"translate(282.09000000000003,0)\" style=\"font-family: 'Open Sans', verdana, arial, sans-serif; font-size: 12px; fill: rgb(42, 63, 95); fill-opacity: 1; white-space: pre;\">2006</text></g><g class=\"xtick\"><text text-anchor=\"middle\" x=\"0\" y=\"383\" transform=\"translate(371.91,0)\" style=\"font-family: 'Open Sans', verdana, arial, sans-serif; font-size: 12px; fill: rgb(42, 63, 95); fill-opacity: 1; white-space: pre;\">2008</text></g><g class=\"xtick\"><text text-anchor=\"middle\" x=\"0\" y=\"383\" transform=\"translate(461.73,0)\" style=\"font-family: 'Open Sans', verdana, arial, sans-serif; font-size: 12px; fill: rgb(42, 63, 95); fill-opacity: 1; white-space: pre;\">2010</text></g><g class=\"xtick\"><text text-anchor=\"middle\" x=\"0\" y=\"383\" transform=\"translate(551.55,0)\" style=\"font-family: 'Open Sans', verdana, arial, sans-serif; font-size: 12px; fill: rgb(42, 63, 95); fill-opacity: 1; white-space: pre;\">2012</text></g></g><g class=\"yaxislayer-above\"><g class=\"ytick\"><text text-anchor=\"end\" x=\"79\" y=\"4.199999999999999\" transform=\"translate(0,370)\" style=\"font-family: 'Open Sans', verdana, arial, sans-serif; font-size: 12px; fill: rgb(42, 63, 95); fill-opacity: 1; white-space: pre;\">0</text></g><g class=\"ytick\"><text text-anchor=\"end\" x=\"79\" y=\"4.199999999999999\" transform=\"translate(0,311.61)\" style=\"font-family: 'Open Sans', verdana, arial, sans-serif; font-size: 12px; fill: rgb(42, 63, 95); fill-opacity: 1; white-space: pre;\">500</text></g><g class=\"ytick\"><text text-anchor=\"end\" x=\"79\" y=\"4.199999999999999\" transform=\"translate(0,253.23)\" style=\"font-family: 'Open Sans', verdana, arial, sans-serif; font-size: 12px; fill: rgb(42, 63, 95); fill-opacity: 1; white-space: pre;\">1000</text></g><g class=\"ytick\"><text text-anchor=\"end\" x=\"79\" y=\"4.199999999999999\" transform=\"translate(0,194.84)\" style=\"font-family: 'Open Sans', verdana, arial, sans-serif; font-size: 12px; fill: rgb(42, 63, 95); fill-opacity: 1; white-space: pre;\">1500</text></g><g class=\"ytick\"><text text-anchor=\"end\" x=\"79\" y=\"4.199999999999999\" transform=\"translate(0,136.45999999999998)\" style=\"font-family: 'Open Sans', verdana, arial, sans-serif; font-size: 12px; fill: rgb(42, 63, 95); fill-opacity: 1; white-space: pre;\">2000</text></g><g class=\"ytick\"><text text-anchor=\"end\" x=\"79\" y=\"4.199999999999999\" transform=\"translate(0,78.07)\" style=\"font-family: 'Open Sans', verdana, arial, sans-serif; font-size: 12px; fill: rgb(42, 63, 95); fill-opacity: 1; white-space: pre;\">2500</text></g></g><g class=\"overaxes-above\"/></g></g><g class=\"polarlayer\"/><g class=\"ternarylayer\"/><g class=\"geolayer\"/><g class=\"funnelarealayer\"/><g class=\"pielayer\"/><g class=\"treemaplayer\"/><g class=\"sunburstlayer\"/><g class=\"glimages\"/><defs id=\"topdefs-73c1c3\"><g class=\"clips\"/></defs><g class=\"layer-above\"><g class=\"imagelayer\"/><g class=\"shapelayer\"/></g><g class=\"infolayer\"><g class=\"cbcoloraxis colorbar\" transform=\"translate(80,60)\"><rect class=\"cbbg\" x=\"504\" y=\"0\" width=\"103.765625\" height=\"310\" style=\"fill: rgb(0, 0, 0); fill-opacity: 0; stroke: rgb(68, 68, 68); stroke-opacity: 1; stroke-width: 0;\"/><g class=\"cbfills\" transform=\"translate(0,31)\"><rect class=\"cbfill\" x=\"514\" width=\"30\" y=\"0\" height=\"269\" style=\"stroke: none; fill: url('#g73c1c3-cbcoloraxis');\"/></g><g class=\"cblines\" transform=\"translate(0,31)\"/><g class=\"cbaxis crisp\" transform=\"translate(0,-60)\"><g class=\"ycbcoloraxistick\"><text text-anchor=\"start\" x=\"546.9\" y=\"4.199999999999999\" transform=\"translate(0,343.355625)\" style=\"font-family: 'Open Sans', verdana, arial, sans-serif; font-size: 12px; fill: rgb(42, 63, 95); fill-opacity: 1; white-space: pre;\">1400</text></g><g class=\"ycbcoloraxistick\"><text text-anchor=\"start\" x=\"546.9\" y=\"4.199999999999999\" transform=\"translate(0,298.375625)\" style=\"font-family: 'Open Sans', verdana, arial, sans-serif; font-size: 12px; fill: rgb(42, 63, 95); fill-opacity: 1; white-space: pre;\">1600</text></g><g class=\"ycbcoloraxistick\"><text text-anchor=\"start\" x=\"546.9\" y=\"4.199999999999999\" transform=\"translate(0,253.39562499999997)\" style=\"font-family: 'Open Sans', verdana, arial, sans-serif; font-size: 12px; fill: rgb(42, 63, 95); fill-opacity: 1; white-space: pre;\">1800</text></g><g class=\"ycbcoloraxistick\"><text text-anchor=\"start\" x=\"546.9\" y=\"4.199999999999999\" transform=\"translate(0,208.41562499999998)\" style=\"font-family: 'Open Sans', verdana, arial, sans-serif; font-size: 12px; fill: rgb(42, 63, 95); fill-opacity: 1; white-space: pre;\">2000</text></g><g class=\"ycbcoloraxistick\"><text text-anchor=\"start\" x=\"546.9\" y=\"4.199999999999999\" transform=\"translate(0,163.43562499999996)\" style=\"font-family: 'Open Sans', verdana, arial, sans-serif; font-size: 12px; fill: rgb(42, 63, 95); fill-opacity: 1; white-space: pre;\">2200</text></g><g class=\"ycbcoloraxistick\"><text text-anchor=\"start\" x=\"546.9\" y=\"4.199999999999999\" transform=\"translate(0,118.45562499999997)\" style=\"font-family: 'Open Sans', verdana, arial, sans-serif; font-size: 12px; fill: rgb(42, 63, 95); fill-opacity: 1; white-space: pre;\">2400</text></g></g><g class=\"cbtitleunshift\" transform=\"translate(-80,-60)\"><g class=\"cbtitle\" transform=\"translate(0,0)\"><text class=\"ycbcoloraxistitle\" x=\"593.88\" y=\"81.99999999999999\" text-anchor=\"start\" style=\"font-family: 'Open Sans', verdana, arial, sans-serif; font-size: 12px; fill: rgb(42, 63, 95); opacity: 1; font-weight: normal; white-space: pre;\">Severity_Count</text></g></g><rect class=\"cboutline\" x=\"514\" y=\"31.015625\" width=\"30\" height=\"268.984375\" style=\"stroke: rgb(68, 68, 68); stroke-opacity: 1; fill: none; stroke-width: 0;\"/></g><g class=\"g-gtitle\"/><g class=\"g-xtitle\"><text class=\"xtitle\" x=\"327\" y=\"411.14375\" text-anchor=\"middle\" style=\"font-family: 'Open Sans', verdana, arial, sans-serif; font-size: 14px; fill: rgb(42, 63, 95); opacity: 1; font-weight: normal; white-space: pre;\">Year</text></g><g class=\"g-ytitle\"><text class=\"ytitle\" transform=\"rotate(-90,26.746875000000003,215)\" x=\"26.746875000000003\" y=\"215\" text-anchor=\"middle\" style=\"font-family: 'Open Sans', verdana, arial, sans-serif; font-size: 14px; fill: rgb(42, 63, 95); opacity: 1; font-weight: normal; white-space: pre;\">Severity_Count</text></g></g></svg>"
      ]
     },
     "metadata": {},
     "output_type": "display_data"
    }
   ],
   "source": [
    "year_Severity_count = roaddata.groupby('Crash_Year')['Crash_Severity'].count().reset_index()\n",
    "year_Severity_count = year_Severity_count.rename(columns = {'Crash_Severity':'Severity_Count','Crash_Year':'Year'})\n",
    "\n",
    "fig = px.bar(year_Severity_count, x='Year', y='Severity_Count', color='Severity_Count', height=600)\n",
    "fig.show()"
   ]
  },
  {
   "cell_type": "markdown",
   "metadata": {},
   "source": [
    "###   การเกิดอุบัติเหตุในปี 2005 เดือนใดเกิดมากสุด?\n",
    "\n",
    "การเกิดอุบัติเหตุในปี 2005 ที่มีการเกิดอุบัติเหตุมากที่สุด "
   ]
  },
  {
   "cell_type": "code",
   "execution_count": 404,
   "metadata": {},
   "outputs": [
    {
     "data": {
      "text/html": [
       "<div>\n",
       "<style scoped>\n",
       "    .dataframe tbody tr th:only-of-type {\n",
       "        vertical-align: middle;\n",
       "    }\n",
       "\n",
       "    .dataframe tbody tr th {\n",
       "        vertical-align: top;\n",
       "    }\n",
       "\n",
       "    .dataframe thead th {\n",
       "        text-align: right;\n",
       "    }\n",
       "</style>\n",
       "<table border=\"1\" class=\"dataframe\">\n",
       "  <thead>\n",
       "    <tr style=\"text-align: right;\">\n",
       "      <th></th>\n",
       "      <th>Crash_Severity</th>\n",
       "      <th>percent</th>\n",
       "    </tr>\n",
       "    <tr>\n",
       "      <th>Crash_Month</th>\n",
       "      <th></th>\n",
       "      <th></th>\n",
       "    </tr>\n",
       "  </thead>\n",
       "  <tbody>\n",
       "    <tr>\n",
       "      <th>April</th>\n",
       "      <td>244</td>\n",
       "      <td>9.674861</td>\n",
       "    </tr>\n",
       "    <tr>\n",
       "      <th>August</th>\n",
       "      <td>230</td>\n",
       "      <td>9.119746</td>\n",
       "    </tr>\n",
       "    <tr>\n",
       "      <th>October</th>\n",
       "      <td>230</td>\n",
       "      <td>9.119746</td>\n",
       "    </tr>\n",
       "    <tr>\n",
       "      <th>November</th>\n",
       "      <td>227</td>\n",
       "      <td>9.000793</td>\n",
       "    </tr>\n",
       "    <tr>\n",
       "      <th>March</th>\n",
       "      <td>210</td>\n",
       "      <td>8.326725</td>\n",
       "    </tr>\n",
       "    <tr>\n",
       "      <th>July</th>\n",
       "      <td>208</td>\n",
       "      <td>8.247423</td>\n",
       "    </tr>\n",
       "    <tr>\n",
       "      <th>May</th>\n",
       "      <td>207</td>\n",
       "      <td>8.207772</td>\n",
       "    </tr>\n",
       "    <tr>\n",
       "      <th>June</th>\n",
       "      <td>200</td>\n",
       "      <td>7.930214</td>\n",
       "    </tr>\n",
       "    <tr>\n",
       "      <th>February</th>\n",
       "      <td>195</td>\n",
       "      <td>7.731959</td>\n",
       "    </tr>\n",
       "    <tr>\n",
       "      <th>January</th>\n",
       "      <td>195</td>\n",
       "      <td>7.731959</td>\n",
       "    </tr>\n",
       "    <tr>\n",
       "      <th>September</th>\n",
       "      <td>190</td>\n",
       "      <td>7.533703</td>\n",
       "    </tr>\n",
       "    <tr>\n",
       "      <th>December</th>\n",
       "      <td>186</td>\n",
       "      <td>7.375099</td>\n",
       "    </tr>\n",
       "  </tbody>\n",
       "</table>\n",
       "</div>"
      ],
      "text/plain": [
       "             Crash_Severity   percent\n",
       "Crash_Month                          \n",
       "April                   244  9.674861\n",
       "August                  230  9.119746\n",
       "October                 230  9.119746\n",
       "November                227  9.000793\n",
       "March                   210  8.326725\n",
       "July                    208  8.247423\n",
       "May                     207  8.207772\n",
       "June                    200  7.930214\n",
       "February                195  7.731959\n",
       "January                 195  7.731959\n",
       "September               190  7.533703\n",
       "December                186  7.375099"
      ]
     },
     "execution_count": 404,
     "metadata": {},
     "output_type": "execute_result"
    }
   ],
   "source": [
    "roaddata_y2005 = roaddata[(roaddata['Crash_Year'] == 2005)]\n",
    "year2005_Severity_count = roaddata_y2005.groupby('Crash_Month')['Crash_Severity'].count().reset_index()\n",
    "year2005_Severity_count['percent'] = year2005_Severity_count['Crash_Severity'].apply(lambda x : 100*x/sum(year2005_Severity_count['Crash_Severity']))\n",
    "year2005_Severity_count = year2005_Severity_count.sort_values('Crash_Severity',ascending=False)\n",
    "year2005_Severity_count.set_index('Crash_Month', inplace=True)\n",
    "year2005_Severity_count"
   ]
  },
  {
   "cell_type": "markdown",
   "metadata": {},
   "source": [
    "จากตารางข้างบนนี้ เป็นการแสดงจำนวนการเกิดอุบัติเหตุในปี 2005 พบว่าในช่วงเดือน April เป็นเดือนที่การเกิดอุบัติเหตุมากที่สุด คิดเป็นร้อยละ 9.67 รองลงมาเป็นเดือน August คิดเป็นร้อยละ 9.11 และเดือน October คิดเป็นร้อยละ 9.11\n",
    "\n",
    "แต่เพราะอะไรในปี 2005 ณ เดือน April, August และ October ถึงมีการเกิดอุบัติเหตุมากสุด เราอาจจะสันนิษฐานได้ว่าอาจจะเป็นช่วง High season ที่ประชากรหรือนักท่องเที่ยวเยอะจึงมีการใช้รถใช้ถนนในการเดินทางเป็นจำนวนมาก จึงอาจส่งผลทำให้เกิดอุบัติเหตุได้ง่าย หรือจะปัจจัยจากสภาพอากาศในช่วงเดือนนั้นๆ ดังนั้นเราสามารถนำข้อมูลจากที่วิเคราะห์นี้ไปสืบสวนหาว่ามีปัจจัยอะไรส่งผลต่อการเกิดอุบัติเหตุได้"
   ]
  },
  {
   "cell_type": "markdown",
   "metadata": {},
   "source": [
    "--------------------------------------------------------------------------------------------------------------------------------"
   ]
  },
  {
   "cell_type": "code",
   "execution_count": 417,
   "metadata": {},
   "outputs": [
    {
     "data": {
      "text/html": [
       "<div>\n",
       "<style scoped>\n",
       "    .dataframe tbody tr th:only-of-type {\n",
       "        vertical-align: middle;\n",
       "    }\n",
       "\n",
       "    .dataframe tbody tr th {\n",
       "        vertical-align: top;\n",
       "    }\n",
       "\n",
       "    .dataframe thead th {\n",
       "        text-align: right;\n",
       "    }\n",
       "</style>\n",
       "<table border=\"1\" class=\"dataframe\">\n",
       "  <thead>\n",
       "    <tr style=\"text-align: right;\">\n",
       "      <th></th>\n",
       "      <th>Crash_Severity</th>\n",
       "      <th>percent</th>\n",
       "    </tr>\n",
       "    <tr>\n",
       "      <th>Crash_DCA_Group_Description</th>\n",
       "      <th></th>\n",
       "      <th></th>\n",
       "    </tr>\n",
       "  </thead>\n",
       "  <tbody>\n",
       "    <tr>\n",
       "      <th>Rear-end</th>\n",
       "      <td>547</td>\n",
       "      <td>21.689136</td>\n",
       "    </tr>\n",
       "    <tr>\n",
       "      <th>Intersection from adjacent approaches</th>\n",
       "      <td>391</td>\n",
       "      <td>15.503569</td>\n",
       "    </tr>\n",
       "    <tr>\n",
       "      <th>Off carriageway on straight hit object</th>\n",
       "      <td>266</td>\n",
       "      <td>10.547185</td>\n",
       "    </tr>\n",
       "    <tr>\n",
       "      <th>Opposing vehicles turning</th>\n",
       "      <td>210</td>\n",
       "      <td>8.326725</td>\n",
       "    </tr>\n",
       "    <tr>\n",
       "      <th>Other</th>\n",
       "      <td>208</td>\n",
       "      <td>8.247423</td>\n",
       "    </tr>\n",
       "  </tbody>\n",
       "</table>\n",
       "</div>"
      ],
      "text/plain": [
       "                                        Crash_Severity    percent\n",
       "Crash_DCA_Group_Description                                      \n",
       "Rear-end                                           547  21.689136\n",
       "Intersection from adjacent approaches              391  15.503569\n",
       "Off carriageway on straight hit object             266  10.547185\n",
       "Opposing vehicles turning                          210   8.326725\n",
       "Other                                              208   8.247423"
      ]
     },
     "execution_count": 417,
     "metadata": {},
     "output_type": "execute_result"
    }
   ],
   "source": [
    "roaddata_y2005 = roaddata[(roaddata['Crash_Year'] == 2005)].reset_index(drop=True) \n",
    "\n",
    "DCA_count = roaddata_y2005.groupby('Crash_DCA_Group_Description')['Crash_Severity'].count().reset_index()\n",
    "DCA_count['percent'] = DCA_count['Crash_Severity'].apply(lambda x : 100*x/sum(DCA_count['Crash_Severity']))\n",
    "\n",
    "DCA_count = DCA_count.sort_values('percent',ascending=False)\n",
    "DCA_count.set_index('Crash_DCA_Group_Description', inplace=True)\n",
    "DCA_count.head(5)\n"
   ]
  },
  {
   "cell_type": "code",
   "execution_count": 430,
   "metadata": {},
   "outputs": [
    {
     "data": {
      "image/svg+xml": [
       "<svg class=\"main-svg\" xmlns=\"http://www.w3.org/2000/svg\" xmlns:xlink=\"http://www.w3.org/1999/xlink\" width=\"700\" height=\"450\" style=\"\" viewBox=\"0 0 700 450\"><rect x=\"0\" y=\"0\" width=\"700\" height=\"450\" style=\"fill: rgb(255, 255, 255); fill-opacity: 1;\"/><defs id=\"defs-cbe6f3\"><g class=\"clips\"/><g class=\"gradients\"/></defs><g class=\"bglayer\"/><g class=\"layer-below\"><g class=\"imagelayer\"/><g class=\"shapelayer\"/></g><g class=\"cartesianlayer\"/><g class=\"polarlayer\"/><g class=\"ternarylayer\"/><g class=\"geolayer\"/><g class=\"funnelarealayer\"/><g class=\"pielayer\"><g class=\"trace\" stroke-linejoin=\"round\" style=\"opacity: 1;\"><g class=\"slice\"><path class=\"surface\" d=\"M246.0491566228934,230.00691866123498l0,-128.57142857142856a128.57142857142856,128.57142857142856 0 0 1 125.79944764492487,102.0174982196Z\" style=\"pointer-events: all; stroke-width: 0; fill: rgb(99, 110, 250); fill-opacity: 1; stroke: rgb(68, 68, 68); stroke-opacity: 1;\"/><g class=\"slicetext\"><text data-notex=\"1\" class=\"slicetext\" transform=\"translate(295.67355906564984,173.40124810984028)\" text-anchor=\"middle\" x=\"0\" y=\"0\" style=\"font-family: 'Open Sans', verdana, arial, sans-serif; font-size: 12px; fill: rgb(255, 255, 255); fill-opacity: 1; white-space: pre;\">21.7%</text></g></g><g class=\"slice\"><path class=\"surface\" d=\"M242,235l-106.35513231509148,-72.24401757334195a128.57142857142856,128.57142857142856 0 0 1 106.35513231509148,-56.327410998086606Z\" style=\"pointer-events: all; stroke-width: 0; fill: rgb(239, 85, 59); fill-opacity: 1; stroke: rgb(68, 68, 68); stroke-opacity: 1;\"/><g class=\"slicetext\"><text data-notex=\"1\" class=\"slicetext\" transform=\"translate(200.94706480236204,162.26758568969427)\" text-anchor=\"middle\" x=\"0\" y=\"0\" style=\"font-family: 'Open Sans', verdana, arial, sans-serif; font-size: 12px; fill: rgb(68, 68, 68); fill-opacity: 1; white-space: pre;\">15.5%</text></g></g><g class=\"slice\"><path class=\"surface\" d=\"M242,235l-128.29132539105626,8.482221071398497a128.57142857142856,128.57142857142856 0 0 1 21.93619307596478,-80.72623864474045Z\" style=\"pointer-events: all; stroke-width: 0; fill: rgb(0, 204, 150); fill-opacity: 1; stroke: rgb(68, 68, 68); stroke-opacity: 1;\"/><g class=\"slicetext\"><text data-notex=\"1\" class=\"slicetext\" transform=\"translate(148.32064513030699,214.22503006070082)\" text-anchor=\"middle\" x=\"0\" y=\"0\" style=\"font-family: 'Open Sans', verdana, arial, sans-serif; font-size: 12px; fill: rgb(68, 68, 68); fill-opacity: 1; white-space: pre;\">10.5%</text></g></g><g class=\"slice\"><path class=\"surface\" d=\"M242,235l-106.8921121784298,71.44710350274487a128.57142857142856,128.57142857142856 0 0 1 -21.399213212626464,-62.96488243134637Z\" style=\"pointer-events: all; stroke-width: 0; fill: rgb(171, 99, 250); fill-opacity: 1; stroke: rgb(68, 68, 68); stroke-opacity: 1;\"/><g class=\"slicetext\"><text data-notex=\"1\" class=\"slicetext\" transform=\"translate(145.21785380911297,272.53515271358543)\" text-anchor=\"middle\" x=\"0\" y=\"0\" style=\"font-family: 'Open Sans', verdana, arial, sans-serif; font-size: 12px; fill: rgb(68, 68, 68); fill-opacity: 1; white-space: pre;\">8.33%</text></g></g><g class=\"slice\"><path class=\"surface\" d=\"M242,235l-57.469396142887845,115.01252432613495a128.57142857142856,128.57142857142856 0 0 1 -49.42271603554195,-43.565420823390085Z\" style=\"pointer-events: all; stroke-width: 0; fill: rgb(255, 161, 90); fill-opacity: 1; stroke: rgb(68, 68, 68); stroke-opacity: 1;\"/><g class=\"slicetext\"><text data-notex=\"1\" class=\"slicetext\" transform=\"translate(174.25890497293855,316.44192715707817)\" text-anchor=\"middle\" x=\"0\" y=\"0\" style=\"font-family: 'Open Sans', verdana, arial, sans-serif; font-size: 12px; fill: rgb(68, 68, 68); fill-opacity: 1; white-space: pre;\">8.25%</text></g></g><g class=\"slice\"><path class=\"surface\" d=\"M242,235l-3.202833247447976,128.5315296107807a128.57142857142856,128.57142857142856 0 0 1 -54.26656289543987,-13.519005284645743Z\" style=\"pointer-events: all; stroke-width: 0; fill: rgb(25, 211, 243); fill-opacity: 1; stroke: rgb(68, 68, 68); stroke-opacity: 1;\"/><g class=\"slicetext\"><text data-notex=\"1\" class=\"slicetext\" transform=\"translate(216.40944374278428,342.1360891996201)\" text-anchor=\"middle\" x=\"0\" y=\"0\" style=\"font-family: 'Open Sans', verdana, arial, sans-serif; font-size: 12px; fill: rgb(68, 68, 68); fill-opacity: 1; white-space: pre;\">6.98%</text></g></g><g class=\"slice\"><path class=\"surface\" d=\"M242,235l24.51336958678679,126.21294290364816a128.57142857142856,128.57142857142856 0 0 1 -27.716202834234767,2.318586707132539Z\" style=\"pointer-events: all; stroke-width: 0; fill: rgb(255, 102, 146); fill-opacity: 1; stroke: rgb(68, 68, 68); stroke-opacity: 1;\"/><g class=\"slicetext\"><text data-notex=\"1\" class=\"slicetext\" transform=\"translate(246.3542465156951,342.9989004213476)rotate(85.21808088818398)\" text-anchor=\"middle\" x=\"0\" y=\"0\" style=\"font-family: 'Open Sans', verdana, arial, sans-serif; font-size: 12px; fill: rgb(68, 68, 68); fill-opacity: 1; white-space: pre;\">3.45%</text></g></g><g class=\"slice\"><path class=\"surface\" d=\"M242,235l50.78834096186058,118.11501457155966a128.57142857142856,128.57142857142856 0 0 1 -26.274971375073786,8.0979283320885Z\" style=\"pointer-events: all; stroke-width: 0; fill: rgb(182, 232, 128); fill-opacity: 1; stroke: rgb(68, 68, 68); stroke-opacity: 1;\"/><g class=\"slicetext\"><text data-notex=\"1\" class=\"slicetext\" transform=\"translate(269.396484516493,339.72779399807894)rotate(72.87073750991271)\" text-anchor=\"middle\" x=\"0\" y=\"0\" style=\"font-family: 'Open Sans', verdana, arial, sans-serif; font-size: 12px; fill: rgb(68, 68, 68); fill-opacity: 1; white-space: pre;\">3.41%</text></g></g><g class=\"slice\"><path class=\"surface\" d=\"M242,235l74.47987819956055,104.80152665050534a128.57142857142856,128.57142857142856 0 0 1 -23.69153723769997,13.313487921054318Z\" style=\"pointer-events: all; stroke-width: 0; fill: rgb(255, 151, 255); fill-opacity: 1; stroke: rgb(68, 68, 68); stroke-opacity: 1;\"/><g class=\"slicetext\"><text data-notex=\"1\" class=\"slicetext\" transform=\"translate(290.9986984992051,331.71434795386085)rotate(60.66613798572564)\" text-anchor=\"middle\" x=\"0\" y=\"0\" style=\"font-family: 'Open Sans', verdana, arial, sans-serif; font-size: 12px; fill: rgb(68, 68, 68); fill-opacity: 1; white-space: pre;\">3.37%</text></g></g><g class=\"slice\"><path class=\"surface\" d=\"M242,235l94.19244499121126,87.5122594353248a128.57142857142856,128.57142857142856 0 0 1 -19.712566791650715,17.289267215180544Z\" style=\"pointer-events: all; stroke-width: 0; fill: rgb(254, 203, 82); fill-opacity: 1; stroke: rgb(68, 68, 68); stroke-opacity: 1;\"/><g class=\"slicetext\"><text data-notex=\"1\" class=\"slicetext\" transform=\"translate(310.25090065943766,319.89044273952146)rotate(48.7470261697066)\" text-anchor=\"middle\" x=\"0\" y=\"0\" style=\"font-family: 'Open Sans', verdana, arial, sans-serif; font-size: 12px; fill: rgb(68, 68, 68); fill-opacity: 1; white-space: pre;\">3.25%</text></g></g><g class=\"slice\"><path class=\"surface\" d=\"M242,235l109.82134774861032,66.85718976727006a128.57142857142856,128.57142857142856 0 0 1 -15.62890275739906,20.655069668054736Z\" style=\"pointer-events: all; stroke-width: 0; fill: rgb(198, 202, 253); fill-opacity: 1; stroke: rgb(68, 68, 68); stroke-opacity: 1;\"/><g class=\"slicetext\"><text data-notex=\"1\" class=\"slicetext\" transform=\"translate(326.1038131728654,304.4869186084292)rotate(37.11340206185571)\" text-anchor=\"middle\" x=\"0\" y=\"0\" style=\"font-family: 'Open Sans', verdana, arial, sans-serif; font-size: 12px; fill: rgb(68, 68, 68); fill-opacity: 1; white-space: pre;\">3.21%</text></g></g><g class=\"slice\"><path class=\"surface\" d=\"M242,235l119.63913293147088,47.08598641107348a128.57142857142856,128.57142857142856 0 0 1 -9.817785182860561,19.77120335619658Z\" style=\"pointer-events: all; stroke-width: 0; fill: rgb(247, 167, 153); fill-opacity: 1; stroke: rgb(68, 68, 68); stroke-opacity: 1;\"/><g class=\"slicetext\"><text data-notex=\"1\" class=\"slicetext\" transform=\"translate(377.9873748907599,302.6048602510534)\" text-anchor=\"middle\" x=\"0\" y=\"0\" style=\"font-family: 'Open Sans', verdana, arial, sans-serif; font-size: 12px; fill: rgb(42, 63, 95); fill-opacity: 1; white-space: pre;\">2.74%</text></g><path class=\"textline\" stroke-width=\"1.5\" d=\"M357.1553436407599,292.1826816079524V297.9407977510534h4.00390625\" fill=\"none\" style=\"stroke: rgb(42, 63, 95); stroke-opacity: 1;\"/></g><g class=\"slice\"><path class=\"surface\" d=\"M242,235l124.64131455902415,31.54607661653579a128.57142857142856,128.57142857142856 0 0 1 -5.00218162755327,15.539909794537689Z\" style=\"pointer-events: all; stroke-width: 0; fill: rgb(51, 255, 201); fill-opacity: 1; stroke: rgb(68, 68, 68); stroke-opacity: 1;\"/><g class=\"slicetext\"><text data-notex=\"1\" class=\"slicetext\" transform=\"translate(385.2191484463974,286.5892352510534)\" text-anchor=\"middle\" x=\"0\" y=\"0\" style=\"font-family: 'Open Sans', verdana, arial, sans-serif; font-size: 12px; fill: rgb(42, 63, 95); fill-opacity: 1; white-space: pre;\">2.02%</text></g><path class=\"textline\" stroke-width=\"1.5\" d=\"M364.3871171963974,274.3955046833168V281.9251727510534h4.00390625\" fill=\"none\" style=\"stroke: rgb(42, 63, 95); stroke-opacity: 1;\"/></g><g class=\"slice\"><path class=\"surface\" d=\"M242,235l127.25445543281485,18.35526674814876a128.57142857142856,128.57142857142856 0 0 1 -2.613140873790698,13.190809868387028Z\" style=\"pointer-events: all; stroke-width: 0; fill: rgb(224, 198, 253); fill-opacity: 1; stroke: rgb(68, 68, 68); stroke-opacity: 1;\"/><g class=\"slicetext\"><text data-notex=\"1\" class=\"slicetext\" transform=\"translate(388.9524859795614,270.5736102510534)\" text-anchor=\"middle\" x=\"0\" y=\"0\" style=\"font-family: 'Open Sans', verdana, arial, sans-serif; font-size: 12px; fill: rgb(42, 63, 95); fill-opacity: 1; white-space: pre;\">1.67%</text></g><path class=\"textline\" stroke-width=\"1.5\" d=\"M368.1204547295614,259.98485828870366V265.9095477510534h4.00390625\" fill=\"none\" style=\"stroke: rgb(42, 63, 95); stroke-opacity: 1;\"/></g><g class=\"slice\"><path class=\"surface\" d=\"M242,235l128.46281332862858,5.283733205971118a128.57142857142856,128.57142857142856 0 0 1 -1.2083578958137338,13.071533542177644Z\" style=\"pointer-events: all; stroke-width: 0; fill: rgb(255, 219, 192); fill-opacity: 1; stroke: rgb(68, 68, 68); stroke-opacity: 1;\"/><g class=\"slicetext\"><text data-notex=\"1\" class=\"slicetext\" transform=\"translate(390.8576014810642,254.55798525105345)\" text-anchor=\"middle\" x=\"0\" y=\"0\" style=\"font-family: 'Open Sans', verdana, arial, sans-serif; font-size: 12px; fill: rgb(42, 63, 95); fill-opacity: 1; white-space: pre;\">1.63%</text></g><path class=\"textline\" stroke-width=\"1.5\" d=\"M370.0255702310642,246.83493185061974V249.89392275105345h4.00390625\" fill=\"none\" style=\"stroke: rgb(42, 63, 95); stroke-opacity: 1;\"/></g><g class=\"slice\"><path class=\"surface\" d=\"M242,235l128.35113809931062,-7.5231372119381295a128.57142857142856,128.57142857142856 0 0 1 0.11167522931796725,12.806870417909249Z\" style=\"pointer-events: all; stroke-width: 0; fill: rgb(122, 230, 248); fill-opacity: 1; stroke: rgb(68, 68, 68); stroke-opacity: 1;\"/><g class=\"slicetext\"><text data-notex=\"1\" class=\"slicetext\" transform=\"translate(410.68063551781825,238.54236025105345)\" text-anchor=\"middle\" x=\"0\" y=\"0\" style=\"font-family: 'Open Sans', verdana, arial, sans-serif; font-size: 12px; fill: rgb(42, 63, 95); fill-opacity: 1; white-space: pre;\">1.59%</text></g><path class=\"textline\" stroke-width=\"1.5\" d=\"M370.5665407269063,233.87890659858508l0.06982239024163922,-0.0006088475316232689H393.85251051781825\" fill=\"none\" style=\"stroke: rgb(42, 63, 95); stroke-opacity: 1;\"/></g><g class=\"slice\"><path class=\"surface\" d=\"M242,235l127.7462617754114,-14.543206225108014a128.57142857142856,128.57142857142856 0 0 1 0.6048763238992194,7.020069013169884Z\" style=\"pointer-events: all; stroke-width: 0; fill: rgb(255, 204, 219); fill-opacity: 1; stroke: rgb(68, 68, 68); stroke-opacity: 1;\"/><g class=\"slicetext\"><text data-notex=\"1\" class=\"slicetext\" transform=\"translate(411.11813551781825,222.52673525105345)\" text-anchor=\"middle\" x=\"0\" y=\"0\" style=\"font-family: 'Open Sans', verdana, arial, sans-serif; font-size: 12px; fill: rgb(42, 63, 95); fill-opacity: 1; white-space: pre;\">0.872%</text></g><path class=\"textline\" stroke-width=\"1.5\" d=\"M370.0967989369201,223.96268388546287l16.75180533089815,-1.4434004007965928v-4.656610733612821h4.00390625\" fill=\"none\" style=\"stroke: rgb(42, 63, 95); stroke-opacity: 1;\"/></g><g class=\"slice\"><path class=\"surface\" d=\"M242,235l126.96587229329958,-20.255357752937762a128.57142857142856,128.57142857142856 0 0 1 0.7803894821118149,5.712151527829748Z\" style=\"pointer-events: all; stroke-width: 0; fill: rgb(232, 248, 214); fill-opacity: 1; stroke: rgb(68, 68, 68); stroke-opacity: 1;\"/><g class=\"slicetext\"><text data-notex=\"1\" class=\"slicetext\" transform=\"translate(408.11813551781825,206.51111025105345)\" text-anchor=\"middle\" x=\"0\" y=\"0\" style=\"font-family: 'Open Sans', verdana, arial, sans-serif; font-size: 12px; fill: rgb(42, 63, 95); fill-opacity: 1; white-space: pre;\">0.714%</text></g><path class=\"textline\" stroke-width=\"1.5\" d=\"M369.3880880586112,217.59634332476406l14.460516209207071,-1.975583928506193v-13.773711645204418h4.00390625\" fill=\"none\" style=\"stroke: rgb(42, 63, 95); stroke-opacity: 1;\"/></g><g class=\"slice\"><path class=\"surface\" d=\"M242,235l126.18230929422475,-24.670570850196373a128.57142857142856,128.57142857142856 0 0 1 0.7835629990748316,4.415213097258611Z\" style=\"pointer-events: all; stroke-width: 0; fill: rgb(255, 253, 255); fill-opacity: 1; stroke: rgb(68, 68, 68); stroke-opacity: 1;\"/><g class=\"slicetext\"><text data-notex=\"1\" class=\"slicetext\" transform=\"translate(405.11813551781825,190.49548525105345)\" text-anchor=\"middle\" x=\"0\" y=\"0\" style=\"font-family: 'Open Sans', verdana, arial, sans-serif; font-size: 12px; fill: rgb(42, 63, 95); fill-opacity: 1; white-space: pre;\">0.555%</text></g><path class=\"textline\" stroke-width=\"1.5\" d=\"M368.59334100552485,212.5336193845814l12.255263262293397,-2.174928055503518v-24.527268578024444h4.00390625\" fill=\"none\" style=\"stroke: rgb(42, 63, 95); stroke-opacity: 1;\"/></g><g class=\"slice\"><path class=\"surface\" d=\"M242,235l125.93019575165138,-25.926782346614445a128.57142857142856,128.57142857142856 0 0 1 0.25211354257336893,1.2562114964180715Z\" style=\"pointer-events: all; stroke-width: 0; fill: rgb(255, 233, 183); fill-opacity: 1; stroke: rgb(68, 68, 68); stroke-opacity: 1;\"/><g class=\"slicetext\"><text data-notex=\"1\" class=\"slicetext\" transform=\"translate(402.11813551781825,174.47986025105345)\" text-anchor=\"middle\" x=\"0\" y=\"0\" style=\"font-family: 'Open Sans', verdana, arial, sans-serif; font-size: 12px; fill: rgb(42, 63, 95); fill-opacity: 1; white-space: pre;\">0.159%</text></g><path class=\"textline\" stroke-width=\"1.5\" d=\"M368.0578173575826,209.70100934937733l9.790786910235624,-1.9649477652120417v-37.92026383311183h4.00390625\" fill=\"none\" style=\"stroke: rgb(42, 63, 95); stroke-opacity: 1;\"/></g><g class=\"slice\"><path class=\"surface\" d=\"M242,235l125.79944764492488,-26.553930351828527a128.57142857142856,128.57142857142856 0 0 1 0.13074810672650017,0.6271480052140816Z\" style=\"pointer-events: all; stroke-width: 0; fill: rgb(8, 25, 239); fill-opacity: 1; stroke: rgb(68, 68, 68); stroke-opacity: 1;\"/><g class=\"slicetext\"><text data-notex=\"1\" class=\"slicetext\" transform=\"translate(402.55563551781825,158.46423525105345)\" text-anchor=\"middle\" x=\"0\" y=\"0\" style=\"font-family: 'Open Sans', verdana, arial, sans-serif; font-size: 12px; fill: rgb(42, 63, 95); fill-opacity: 1; white-space: pre;\">0.0793%</text></g><path class=\"textline\" stroke-width=\"1.5\" d=\"M367.8652123098236,208.7595622159046l6.983391957994627,-1.4559007912737454v-53.503488673577394h4.00390625\" fill=\"none\" style=\"stroke: rgb(42, 63, 95); stroke-opacity: 1;\"/></g></g></g><g class=\"treemaplayer\"/><g class=\"sunburstlayer\"/><g class=\"glimages\"/><defs id=\"topdefs-cbe6f3\"><g class=\"clips\"/><clipPath id=\"legendcbe6f3\"><rect width=\"284\" height=\"270\" x=\"0\" y=\"0\"/></clipPath></defs><g class=\"layer-above\"><g class=\"imagelayer\"/><g class=\"shapelayer\"/></g><g class=\"infolayer\"><g class=\"legend\" pointer-events=\"all\" transform=\"translate(404, 100)\"><rect class=\"bg\" shape-rendering=\"crispEdges\" width=\"284\" height=\"270\" x=\"0\" y=\"0\" style=\"stroke: rgb(68, 68, 68); stroke-opacity: 1; fill: rgb(255, 255, 255); fill-opacity: 1; stroke-width: 0px;\"/><g class=\"scrollbox\" transform=\"translate(0, 0)\" clip-path=\"url('#legendcbe6f3')\"><g class=\"groups\"><g class=\"traces\" transform=\"translate(0, 14.5)\" style=\"opacity: 1;\"><text class=\"legendtext user-select-none\" text-anchor=\"start\" x=\"40\" y=\"4.680000000000001\" style=\"font-family: 'Open Sans', verdana, arial, sans-serif; font-size: 12px; fill: rgb(42, 63, 95); fill-opacity: 1; white-space: pre;\">Rear-end</text><g class=\"layers\" style=\"opacity: 1;\"><g class=\"legendfill\"/><g class=\"legendlines\"/><g class=\"legendsymbols\"><g class=\"legendpoints\"><path class=\"legendpie\" d=\"M6,6H-6V-6H6Z\" transform=\"translate(20,0)\" style=\"stroke-width: 0; fill: rgb(99, 110, 250); fill-opacity: 1; stroke: rgb(68, 68, 68); stroke-opacity: 1;\"/></g></g></g><rect class=\"legendtoggle\" pointer-events=\"all\" x=\"0\" y=\"-9.5\" width=\"278.03125\" height=\"19\" style=\"cursor: pointer; fill: rgb(0, 0, 0); fill-opacity: 0;\"/></g><g class=\"traces\" transform=\"translate(0, 33.5)\" style=\"opacity: 1;\"><text class=\"legendtext user-select-none\" text-anchor=\"start\" x=\"40\" y=\"4.680000000000001\" style=\"font-family: 'Open Sans', verdana, arial, sans-serif; font-size: 12px; fill: rgb(42, 63, 95); fill-opacity: 1; white-space: pre;\">Intersection from adjacent approaches</text><g class=\"layers\" style=\"opacity: 1;\"><g class=\"legendfill\"/><g class=\"legendlines\"/><g class=\"legendsymbols\"><g class=\"legendpoints\"><path class=\"legendpie\" d=\"M6,6H-6V-6H6Z\" transform=\"translate(20,0)\" style=\"stroke-width: 0; fill: rgb(239, 85, 59); fill-opacity: 1; stroke: rgb(68, 68, 68); stroke-opacity: 1;\"/></g></g></g><rect class=\"legendtoggle\" pointer-events=\"all\" x=\"0\" y=\"-9.5\" width=\"278.03125\" height=\"19\" style=\"cursor: pointer; fill: rgb(0, 0, 0); fill-opacity: 0;\"/></g><g class=\"traces\" transform=\"translate(0, 52.5)\" style=\"opacity: 1;\"><text class=\"legendtext user-select-none\" text-anchor=\"start\" x=\"40\" y=\"4.680000000000001\" style=\"font-family: 'Open Sans', verdana, arial, sans-serif; font-size: 12px; fill: rgb(42, 63, 95); fill-opacity: 1; white-space: pre;\">Off carriageway on straight hit object</text><g class=\"layers\" style=\"opacity: 1;\"><g class=\"legendfill\"/><g class=\"legendlines\"/><g class=\"legendsymbols\"><g class=\"legendpoints\"><path class=\"legendpie\" d=\"M6,6H-6V-6H6Z\" transform=\"translate(20,0)\" style=\"stroke-width: 0; fill: rgb(0, 204, 150); fill-opacity: 1; stroke: rgb(68, 68, 68); stroke-opacity: 1;\"/></g></g></g><rect class=\"legendtoggle\" pointer-events=\"all\" x=\"0\" y=\"-9.5\" width=\"278.03125\" height=\"19\" style=\"cursor: pointer; fill: rgb(0, 0, 0); fill-opacity: 0;\"/></g><g class=\"traces\" transform=\"translate(0, 71.5)\" style=\"opacity: 1;\"><text class=\"legendtext user-select-none\" text-anchor=\"start\" x=\"40\" y=\"4.680000000000001\" style=\"font-family: 'Open Sans', verdana, arial, sans-serif; font-size: 12px; fill: rgb(42, 63, 95); fill-opacity: 1; white-space: pre;\">Opposing vehicles turning</text><g class=\"layers\" style=\"opacity: 1;\"><g class=\"legendfill\"/><g class=\"legendlines\"/><g class=\"legendsymbols\"><g class=\"legendpoints\"><path class=\"legendpie\" d=\"M6,6H-6V-6H6Z\" transform=\"translate(20,0)\" style=\"stroke-width: 0; fill: rgb(171, 99, 250); fill-opacity: 1; stroke: rgb(68, 68, 68); stroke-opacity: 1;\"/></g></g></g><rect class=\"legendtoggle\" pointer-events=\"all\" x=\"0\" y=\"-9.5\" width=\"278.03125\" height=\"19\" style=\"cursor: pointer; fill: rgb(0, 0, 0); fill-opacity: 0;\"/></g><g class=\"traces\" transform=\"translate(0, 90.5)\" style=\"opacity: 1;\"><text class=\"legendtext user-select-none\" text-anchor=\"start\" x=\"40\" y=\"4.680000000000001\" style=\"font-family: 'Open Sans', verdana, arial, sans-serif; font-size: 12px; fill: rgb(42, 63, 95); fill-opacity: 1; white-space: pre;\">Other</text><g class=\"layers\" style=\"opacity: 1;\"><g class=\"legendfill\"/><g class=\"legendlines\"/><g class=\"legendsymbols\"><g class=\"legendpoints\"><path class=\"legendpie\" d=\"M6,6H-6V-6H6Z\" transform=\"translate(20,0)\" style=\"stroke-width: 0; fill: rgb(255, 161, 90); fill-opacity: 1; stroke: rgb(68, 68, 68); stroke-opacity: 1;\"/></g></g></g><rect class=\"legendtoggle\" pointer-events=\"all\" x=\"0\" y=\"-9.5\" width=\"278.03125\" height=\"19\" style=\"cursor: pointer; fill: rgb(0, 0, 0); fill-opacity: 0;\"/></g><g class=\"traces\" transform=\"translate(0, 109.5)\" style=\"opacity: 1;\"><text class=\"legendtext user-select-none\" text-anchor=\"start\" x=\"40\" y=\"4.680000000000001\" style=\"font-family: 'Open Sans', verdana, arial, sans-serif; font-size: 12px; fill: rgb(42, 63, 95); fill-opacity: 1; white-space: pre;\">Off carriageway on curve hit object</text><g class=\"layers\" style=\"opacity: 1;\"><g class=\"legendfill\"/><g class=\"legendlines\"/><g class=\"legendsymbols\"><g class=\"legendpoints\"><path class=\"legendpie\" d=\"M6,6H-6V-6H6Z\" transform=\"translate(20,0)\" style=\"stroke-width: 0; fill: rgb(25, 211, 243); fill-opacity: 1; stroke: rgb(68, 68, 68); stroke-opacity: 1;\"/></g></g></g><rect class=\"legendtoggle\" pointer-events=\"all\" x=\"0\" y=\"-9.5\" width=\"278.03125\" height=\"19\" style=\"cursor: pointer; fill: rgb(0, 0, 0); fill-opacity: 0;\"/></g><g class=\"traces\" transform=\"translate(0, 128.5)\" style=\"opacity: 1;\"><text class=\"legendtext user-select-none\" text-anchor=\"start\" x=\"40\" y=\"4.680000000000001\" style=\"font-family: 'Open Sans', verdana, arial, sans-serif; font-size: 12px; fill: rgb(42, 63, 95); fill-opacity: 1; white-space: pre;\">Hit parked vehicle</text><g class=\"layers\" style=\"opacity: 1;\"><g class=\"legendfill\"/><g class=\"legendlines\"/><g class=\"legendsymbols\"><g class=\"legendpoints\"><path class=\"legendpie\" d=\"M6,6H-6V-6H6Z\" transform=\"translate(20,0)\" style=\"stroke-width: 0; fill: rgb(255, 102, 146); fill-opacity: 1; stroke: rgb(68, 68, 68); stroke-opacity: 1;\"/></g></g></g><rect class=\"legendtoggle\" pointer-events=\"all\" x=\"0\" y=\"-9.5\" width=\"278.03125\" height=\"19\" style=\"cursor: pointer; fill: rgb(0, 0, 0); fill-opacity: 0;\"/></g><g class=\"traces\" transform=\"translate(0, 147.5)\" style=\"opacity: 1;\"><text class=\"legendtext user-select-none\" text-anchor=\"start\" x=\"40\" y=\"4.680000000000001\" style=\"font-family: 'Open Sans', verdana, arial, sans-serif; font-size: 12px; fill: rgb(42, 63, 95); fill-opacity: 1; white-space: pre;\">Head-on</text><g class=\"layers\" style=\"opacity: 1;\"><g class=\"legendfill\"/><g class=\"legendlines\"/><g class=\"legendsymbols\"><g class=\"legendpoints\"><path class=\"legendpie\" d=\"M6,6H-6V-6H6Z\" transform=\"translate(20,0)\" style=\"stroke-width: 0; fill: rgb(182, 232, 128); fill-opacity: 1; stroke: rgb(68, 68, 68); stroke-opacity: 1;\"/></g></g></g><rect class=\"legendtoggle\" pointer-events=\"all\" x=\"0\" y=\"-9.5\" width=\"278.03125\" height=\"19\" style=\"cursor: pointer; fill: rgb(0, 0, 0); fill-opacity: 0;\"/></g><g class=\"traces\" transform=\"translate(0, 166.5)\" style=\"opacity: 1;\"><text class=\"legendtext user-select-none\" text-anchor=\"start\" x=\"40\" y=\"4.680000000000001\" style=\"font-family: 'Open Sans', verdana, arial, sans-serif; font-size: 12px; fill: rgb(42, 63, 95); fill-opacity: 1; white-space: pre;\">Lane changes</text><g class=\"layers\" style=\"opacity: 1;\"><g class=\"legendfill\"/><g class=\"legendlines\"/><g class=\"legendsymbols\"><g class=\"legendpoints\"><path class=\"legendpie\" d=\"M6,6H-6V-6H6Z\" transform=\"translate(20,0)\" style=\"stroke-width: 0; fill: rgb(255, 151, 255); fill-opacity: 1; stroke: rgb(68, 68, 68); stroke-opacity: 1;\"/></g></g></g><rect class=\"legendtoggle\" pointer-events=\"all\" x=\"0\" y=\"-9.5\" width=\"278.03125\" height=\"19\" style=\"cursor: pointer; fill: rgb(0, 0, 0); fill-opacity: 0;\"/></g><g class=\"traces\" transform=\"translate(0, 185.5)\" style=\"opacity: 1;\"><text class=\"legendtext user-select-none\" text-anchor=\"start\" x=\"40\" y=\"4.680000000000001\" style=\"font-family: 'Open Sans', verdana, arial, sans-serif; font-size: 12px; fill: rgb(42, 63, 95); fill-opacity: 1; white-space: pre;\">Pedestrian</text><g class=\"layers\" style=\"opacity: 1;\"><g class=\"legendfill\"/><g class=\"legendlines\"/><g class=\"legendsymbols\"><g class=\"legendpoints\"><path class=\"legendpie\" d=\"M6,6H-6V-6H6Z\" transform=\"translate(20,0)\" style=\"stroke-width: 0; fill: rgb(254, 203, 82); fill-opacity: 1; stroke: rgb(68, 68, 68); stroke-opacity: 1;\"/></g></g></g><rect class=\"legendtoggle\" pointer-events=\"all\" x=\"0\" y=\"-9.5\" width=\"278.03125\" height=\"19\" style=\"cursor: pointer; fill: rgb(0, 0, 0); fill-opacity: 0;\"/></g><g class=\"traces\" transform=\"translate(0, 204.5)\" style=\"opacity: 1;\"><text class=\"legendtext user-select-none\" text-anchor=\"start\" x=\"40\" y=\"4.680000000000001\" style=\"font-family: 'Open Sans', verdana, arial, sans-serif; font-size: 12px; fill: rgb(42, 63, 95); fill-opacity: 1; white-space: pre;\">Vehicle leaving driveway</text><g class=\"layers\" style=\"opacity: 1;\"><g class=\"legendfill\"/><g class=\"legendlines\"/><g class=\"legendsymbols\"><g class=\"legendpoints\"><path class=\"legendpie\" d=\"M6,6H-6V-6H6Z\" transform=\"translate(20,0)\" style=\"stroke-width: 0; fill: rgb(198, 202, 253); fill-opacity: 1; stroke: rgb(68, 68, 68); stroke-opacity: 1;\"/></g></g></g><rect class=\"legendtoggle\" pointer-events=\"all\" x=\"0\" y=\"-9.5\" width=\"278.03125\" height=\"19\" style=\"cursor: pointer; fill: rgb(0, 0, 0); fill-opacity: 0;\"/></g><g class=\"traces\" transform=\"translate(0, 223.5)\" style=\"opacity: 1;\"><text class=\"legendtext user-select-none\" text-anchor=\"start\" x=\"40\" y=\"4.680000000000001\" style=\"font-family: 'Open Sans', verdana, arial, sans-serif; font-size: 12px; fill: rgb(42, 63, 95); fill-opacity: 1; white-space: pre;\">Parallel lanes turning</text><g class=\"layers\" style=\"opacity: 1;\"><g class=\"legendfill\"/><g class=\"legendlines\"/><g class=\"legendsymbols\"><g class=\"legendpoints\"><path class=\"legendpie\" d=\"M6,6H-6V-6H6Z\" transform=\"translate(20,0)\" style=\"stroke-width: 0; fill: rgb(247, 167, 153); fill-opacity: 1; stroke: rgb(68, 68, 68); stroke-opacity: 1;\"/></g></g></g><rect class=\"legendtoggle\" pointer-events=\"all\" x=\"0\" y=\"-9.5\" width=\"278.03125\" height=\"19\" style=\"cursor: pointer; fill: rgb(0, 0, 0); fill-opacity: 0;\"/></g><g class=\"traces\" transform=\"translate(0, 242.5)\" style=\"opacity: 1;\"><text class=\"legendtext user-select-none\" text-anchor=\"start\" x=\"40\" y=\"4.680000000000001\" style=\"font-family: 'Open Sans', verdana, arial, sans-serif; font-size: 12px; fill: rgb(42, 63, 95); fill-opacity: 1; white-space: pre;\">Off carriageway on straight</text><g class=\"layers\" style=\"opacity: 1;\"><g class=\"legendfill\"/><g class=\"legendlines\"/><g class=\"legendsymbols\"><g class=\"legendpoints\"><path class=\"legendpie\" d=\"M6,6H-6V-6H6Z\" transform=\"translate(20,0)\" style=\"stroke-width: 0; fill: rgb(51, 255, 201); fill-opacity: 1; stroke: rgb(68, 68, 68); stroke-opacity: 1;\"/></g></g></g><rect class=\"legendtoggle\" pointer-events=\"all\" x=\"0\" y=\"-9.5\" width=\"278.03125\" height=\"19\" style=\"cursor: pointer; fill: rgb(0, 0, 0); fill-opacity: 0;\"/></g><g class=\"traces\" transform=\"translate(0, 261.5)\" style=\"opacity: 1;\"><text class=\"legendtext user-select-none\" text-anchor=\"start\" x=\"40\" y=\"4.680000000000001\" style=\"font-family: 'Open Sans', verdana, arial, sans-serif; font-size: 12px; fill: rgb(42, 63, 95); fill-opacity: 1; white-space: pre;\">Out of control on curve</text><g class=\"layers\" style=\"opacity: 1;\"><g class=\"legendfill\"/><g class=\"legendlines\"/><g class=\"legendsymbols\"><g class=\"legendpoints\"><path class=\"legendpie\" d=\"M6,6H-6V-6H6Z\" transform=\"translate(20,0)\" style=\"stroke-width: 0; fill: rgb(224, 198, 253); fill-opacity: 1; stroke: rgb(68, 68, 68); stroke-opacity: 1;\"/></g></g></g><rect class=\"legendtoggle\" pointer-events=\"all\" x=\"0\" y=\"-9.5\" width=\"278.03125\" height=\"19\" style=\"cursor: pointer; fill: rgb(0, 0, 0); fill-opacity: 0;\"/></g><g class=\"traces\" transform=\"translate(0, 280.5)\" style=\"opacity: 1;\"><text class=\"legendtext user-select-none\" text-anchor=\"start\" x=\"40\" y=\"4.680000000000001\" style=\"font-family: 'Open Sans', verdana, arial, sans-serif; font-size: 12px; fill: rgb(42, 63, 95); fill-opacity: 1; white-space: pre;\">Out of control on straight</text><g class=\"layers\" style=\"opacity: 1;\"><g class=\"legendfill\"/><g class=\"legendlines\"/><g class=\"legendsymbols\"><g class=\"legendpoints\"><path class=\"legendpie\" d=\"M6,6H-6V-6H6Z\" transform=\"translate(20,0)\" style=\"stroke-width: 0; fill: rgb(255, 219, 192); fill-opacity: 1; stroke: rgb(68, 68, 68); stroke-opacity: 1;\"/></g></g></g><rect class=\"legendtoggle\" pointer-events=\"all\" x=\"0\" y=\"-9.5\" width=\"278.03125\" height=\"19\" style=\"cursor: pointer; fill: rgb(0, 0, 0); fill-opacity: 0;\"/></g><g class=\"traces\" transform=\"translate(0, 299.5)\" style=\"opacity: 1;\"><text class=\"legendtext user-select-none\" text-anchor=\"start\" x=\"40\" y=\"4.680000000000001\" style=\"font-family: 'Open Sans', verdana, arial, sans-serif; font-size: 12px; fill: rgb(42, 63, 95); fill-opacity: 1; white-space: pre;\">Off carriageway on curve</text><g class=\"layers\" style=\"opacity: 1;\"><g class=\"legendfill\"/><g class=\"legendlines\"/><g class=\"legendsymbols\"><g class=\"legendpoints\"><path class=\"legendpie\" d=\"M6,6H-6V-6H6Z\" transform=\"translate(20,0)\" style=\"stroke-width: 0; fill: rgb(122, 230, 248); fill-opacity: 1; stroke: rgb(68, 68, 68); stroke-opacity: 1;\"/></g></g></g><rect class=\"legendtoggle\" pointer-events=\"all\" x=\"0\" y=\"-9.5\" width=\"278.03125\" height=\"19\" style=\"cursor: pointer; fill: rgb(0, 0, 0); fill-opacity: 0;\"/></g><g class=\"traces\" transform=\"translate(0, 318.5)\" style=\"opacity: 1;\"><text class=\"legendtext user-select-none\" text-anchor=\"start\" x=\"40\" y=\"4.680000000000001\" style=\"font-family: 'Open Sans', verdana, arial, sans-serif; font-size: 12px; fill: rgb(42, 63, 95); fill-opacity: 1; white-space: pre;\">Hit animal</text><g class=\"layers\" style=\"opacity: 1;\"><g class=\"legendfill\"/><g class=\"legendlines\"/><g class=\"legendsymbols\"><g class=\"legendpoints\"><path class=\"legendpie\" d=\"M6,6H-6V-6H6Z\" transform=\"translate(20,0)\" style=\"stroke-width: 0; fill: rgb(255, 204, 219); fill-opacity: 1; stroke: rgb(68, 68, 68); stroke-opacity: 1;\"/></g></g></g><rect class=\"legendtoggle\" pointer-events=\"all\" x=\"0\" y=\"-9.5\" width=\"278.03125\" height=\"19\" style=\"cursor: pointer; fill: rgb(0, 0, 0); fill-opacity: 0;\"/></g><g class=\"traces\" transform=\"translate(0, 337.5)\" style=\"opacity: 1;\"><text class=\"legendtext user-select-none\" text-anchor=\"start\" x=\"40\" y=\"4.680000000000001\" style=\"font-family: 'Open Sans', verdana, arial, sans-serif; font-size: 12px; fill: rgb(42, 63, 95); fill-opacity: 1; white-space: pre;\">U-turn</text><g class=\"layers\" style=\"opacity: 1;\"><g class=\"legendfill\"/><g class=\"legendlines\"/><g class=\"legendsymbols\"><g class=\"legendpoints\"><path class=\"legendpie\" d=\"M6,6H-6V-6H6Z\" transform=\"translate(20,0)\" style=\"stroke-width: 0; fill: rgb(232, 248, 214); fill-opacity: 1; stroke: rgb(68, 68, 68); stroke-opacity: 1;\"/></g></g></g><rect class=\"legendtoggle\" pointer-events=\"all\" x=\"0\" y=\"-9.5\" width=\"278.03125\" height=\"19\" style=\"cursor: pointer; fill: rgb(0, 0, 0); fill-opacity: 0;\"/></g><g class=\"traces\" transform=\"translate(0, 356.5)\" style=\"opacity: 1;\"><text class=\"legendtext user-select-none\" text-anchor=\"start\" x=\"40\" y=\"4.680000000000001\" style=\"font-family: 'Open Sans', verdana, arial, sans-serif; font-size: 12px; fill: rgb(42, 63, 95); fill-opacity: 1; white-space: pre;\">Overtaking same direction</text><g class=\"layers\" style=\"opacity: 1;\"><g class=\"legendfill\"/><g class=\"legendlines\"/><g class=\"legendsymbols\"><g class=\"legendpoints\"><path class=\"legendpie\" d=\"M6,6H-6V-6H6Z\" transform=\"translate(20,0)\" style=\"stroke-width: 0; fill: rgb(255, 253, 255); fill-opacity: 1; stroke: rgb(68, 68, 68); stroke-opacity: 1;\"/></g></g></g><rect class=\"legendtoggle\" pointer-events=\"all\" x=\"0\" y=\"-9.5\" width=\"278.03125\" height=\"19\" style=\"cursor: pointer; fill: rgb(0, 0, 0); fill-opacity: 0;\"/></g><g class=\"traces\" transform=\"translate(0, 375.5)\" style=\"opacity: 1;\"><text class=\"legendtext user-select-none\" text-anchor=\"start\" x=\"40\" y=\"4.680000000000001\" style=\"font-family: 'Open Sans', verdana, arial, sans-serif; font-size: 12px; fill: rgb(42, 63, 95); fill-opacity: 1; white-space: pre;\">Train</text><g class=\"layers\" style=\"opacity: 1;\"><g class=\"legendfill\"/><g class=\"legendlines\"/><g class=\"legendsymbols\"><g class=\"legendpoints\"><path class=\"legendpie\" d=\"M6,6H-6V-6H6Z\" transform=\"translate(20,0)\" style=\"stroke-width: 0; fill: rgb(255, 233, 183); fill-opacity: 1; stroke: rgb(68, 68, 68); stroke-opacity: 1;\"/></g></g></g><rect class=\"legendtoggle\" pointer-events=\"all\" x=\"0\" y=\"-9.5\" width=\"278.03125\" height=\"19\" style=\"cursor: pointer; fill: rgb(0, 0, 0); fill-opacity: 0;\"/></g><g class=\"traces\" transform=\"translate(0, 394.5)\" style=\"opacity: 1;\"><text class=\"legendtext user-select-none\" text-anchor=\"start\" x=\"40\" y=\"4.680000000000001\" style=\"font-family: 'Open Sans', verdana, arial, sans-serif; font-size: 12px; fill: rgb(42, 63, 95); fill-opacity: 1; white-space: pre;\">Hit permanent obstruction on carriageway</text><g class=\"layers\" style=\"opacity: 1;\"><g class=\"legendfill\"/><g class=\"legendlines\"/><g class=\"legendsymbols\"><g class=\"legendpoints\"><path class=\"legendpie\" d=\"M6,6H-6V-6H6Z\" transform=\"translate(20,0)\" style=\"stroke-width: 0; fill: rgb(8, 25, 239); fill-opacity: 1; stroke: rgb(68, 68, 68); stroke-opacity: 1;\"/></g></g></g><rect class=\"legendtoggle\" pointer-events=\"all\" x=\"0\" y=\"-9.5\" width=\"278.03125\" height=\"19\" style=\"cursor: pointer; fill: rgb(0, 0, 0); fill-opacity: 0;\"/></g></g></g><rect class=\"scrollbar\" rx=\"20\" ry=\"3\" width=\"0\" height=\"0\" x=\"0\" y=\"0\" style=\"fill: rgb(128, 139, 164); fill-opacity: 1;\"/></g><g class=\"g-gtitle\"><text class=\"gtitle\" x=\"35\" y=\"50\" text-anchor=\"start\" dy=\"0em\" style=\"font-family: 'Open Sans', verdana, arial, sans-serif; font-size: 17px; fill: rgb(42, 63, 95); opacity: 1; font-weight: normal; white-space: pre;\">Crash_DCA_Group_Description 2005</text></g></g></svg>"
      ]
     },
     "metadata": {},
     "output_type": "display_data"
    }
   ],
   "source": [
    "\n",
    "roaddata_y2005 = roaddata[(roaddata['Crash_Year'] == 2005)]\n",
    "col1 = \"Crash_DCA_Group_Description\"\n",
    "\n",
    "\n",
    "grouped = roaddata_y2005[col1].value_counts().reset_index() # ทำการ count value ใน column \"Crash_Severity\"\n",
    "grouped = grouped.rename(columns = {col1 : \"count\", \"index\" : col1}) \n",
    "\n",
    "# ส่วนของ plot \n",
    "\n",
    "\n",
    "trace = go.Pie(labels=grouped[col1], values=grouped['count'], pull=[0.05, 0]) \n",
    "layout = go.Layout(title=\"Crash_DCA_Group_Description 2005 \", height=400, legend=dict(x=1, y=0.5, font_size=12))\n",
    "fig = go.Figure(data = [trace], layout = layout)\n",
    "fig.show(renderer='svg')"
   ]
  },
  {
   "cell_type": "code",
   "execution_count": 406,
   "metadata": {},
   "outputs": [],
   "source": [
    "\n",
    "#roaddata_y2005 = roaddata[(roaddata['Crash_Year'] == 2005)]\n",
    "#col = \"Crash_DCA_Group_Description\"\n",
    "\n",
    "#grouped = roaddata_y2005[col].value_counts().reset_index() \n",
    "#grouped = roaddata_y2005[col].value_counts().reset_index() # ทำการ count value ใน column \"Crash_Severity\"\n",
    "#grouped = grouped.rename(columns = {col : \"count\", \"index\" : col}) \n",
    "\n",
    "# ส่วนของ plot \n",
    "\n",
    "#trace = go.Pie(labels=grouped[col], values=grouped['count'], pull=[0.05, 0], marker=dict(colors=[\"#ff6666\",\"#6699ff\",\"#6ad49b\", \"#a678de\",\"#ffff80\"])) \n",
    "#layout = go.Layout(title=\"Crash Severity \", height=400, legend=dict(x=1, y=0.5, font_size=12))\n",
    "#fig = go.Figure(data = [trace], layout = layout)\n",
    "#fig.show(renderer='svg')\n"
   ]
  }
 ],
 "metadata": {
  "kernelspec": {
   "display_name": "Python 3",
   "language": "python",
   "name": "python3"
  },
  "language_info": {
   "codemirror_mode": {
    "name": "ipython",
    "version": 3
   },
   "file_extension": ".py",
   "mimetype": "text/x-python",
   "name": "python",
   "nbconvert_exporter": "python",
   "pygments_lexer": "ipython3",
   "version": "3.8.3"
  }
 },
 "nbformat": 4,
 "nbformat_minor": 4
}
