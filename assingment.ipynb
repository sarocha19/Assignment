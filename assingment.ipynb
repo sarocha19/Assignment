{
 "cells": [
  {
   "cell_type": "markdown",
   "metadata": {},
   "source": [
    "# Assignment 1\n",
    "## Data Collection & Preparation\n",
    "\n",
    "####  API ที่เลือก :\n",
    "\n",
    "Crash data from Queensland roads\n",
    "\n",
    "Road crash locations เป็นข้อมูลเกี่ยวกับสถานที่และลักษณะของการขัดข้องภายในประเทศควีนส์แลนด์ สำหรับการจราจรบนถนนที่รายงานทั้งหมด --- 1 มกราคม 2544 ถึง 31 ธันวาคม 2561---\n",
    "\n",
    "\n",
    "#### หมายเหตุ :\n",
    "- อุบัติเหตุจราจรทางถนนร้ายแรง เก็บข้อมูลถึงวันที่ 31 ธันวาคม 2561 \n",
    "- การรักษาในโรงพยาบาลการรักษาพยาบาลและการบาดเจ็บเล็กน้อย เก็บข้อมูลถึง 31 ธันวาคม 2561\n",
    "- ความเสียหายต่อทรัพย์สินเท่านั้น เก็บข้อมูลถึงวันที่ 31 ธันวาคม 2553\n",
    "\n",
    "link API : https://www.data.qld.gov.au/dataset/crash-data-from-queensland-roads/resource/e88943c0-5968-4972-a15f-38e120d72ec0?truncate=30&inner_span=True"
   ]
  },
  {
   "cell_type": "code",
   "execution_count": 217,
   "metadata": {},
   "outputs": [],
   "source": [
    "import urllib\n",
    "import requests\n",
    "from pandas.io.json import json_normalize\n",
    "import json\n",
    "import pandas as pd\n",
    "import numpy as np\n",
    "import requests\n",
    "\n",
    "#Request API\n",
    "url = 'https://www.data.qld.gov.au/api/3/action/datastore_search?resource_id=e88943c0-5968-4972-a15f-38e120d72ec0&limit=29000'\n",
    "r = requests.get(url) #แปลง API Request ตัวแปร r ให้เป็น dict\n",
    "j = r.json() \n"
   ]
  },
  {
   "cell_type": "code",
   "execution_count": 218,
   "metadata": {
    "scrolled": false
   },
   "outputs": [
    {
     "data": {
      "text/plain": [
       "dict"
      ]
     },
     "execution_count": 218,
     "metadata": {},
     "output_type": "execute_result"
    }
   ],
   "source": [
    "type(j) #ตรวจสอบ type "
   ]
  },
  {
   "cell_type": "code",
   "execution_count": 219,
   "metadata": {
    "scrolled": true
   },
   "outputs": [],
   "source": [
    "#ดึงข้อมูลเพื่อแสดงค่าใน dict มาใส่ใน DataFrame โดยอ้างอิงจาก key:result และ key:records \n",
    "df = pd.DataFrame(j)\n",
    "df = pd.DataFrame(j[\"result\"][\"records\"])"
   ]
  },
  {
   "cell_type": "code",
   "execution_count": 220,
   "metadata": {},
   "outputs": [],
   "source": [
    "#การ save pandas DataFrame เป็นไฟล์ CSV ด้วย to_csv\n",
    "df.to_csv(\"Data/Road_Crash_location.csv\",index=False)"
   ]
  },
  {
   "cell_type": "code",
   "execution_count": 221,
   "metadata": {},
   "outputs": [
    {
     "data": {
      "text/html": [
       "<div>\n",
       "<style scoped>\n",
       "    .dataframe tbody tr th:only-of-type {\n",
       "        vertical-align: middle;\n",
       "    }\n",
       "\n",
       "    .dataframe tbody tr th {\n",
       "        vertical-align: top;\n",
       "    }\n",
       "\n",
       "    .dataframe thead th {\n",
       "        text-align: right;\n",
       "    }\n",
       "</style>\n",
       "<table border=\"1\" class=\"dataframe\">\n",
       "  <thead>\n",
       "    <tr style=\"text-align: right;\">\n",
       "      <th></th>\n",
       "      <th>Crash_Ref_Number</th>\n",
       "      <th>Crash_Severity</th>\n",
       "      <th>Crash_Year</th>\n",
       "      <th>Crash_Month</th>\n",
       "      <th>Crash_Day_Of_Week</th>\n",
       "      <th>Crash_Hour</th>\n",
       "      <th>Crash_Nature</th>\n",
       "      <th>Crash_Type</th>\n",
       "      <th>Crash_Longitude_GDA94</th>\n",
       "      <th>Crash_Latitude_GDA94</th>\n",
       "      <th>...</th>\n",
       "      <th>Count_Casualty_MedicallyTreated</th>\n",
       "      <th>Count_Casualty_MinorInjury</th>\n",
       "      <th>Count_Casualty_Total</th>\n",
       "      <th>Count_Unit_Car</th>\n",
       "      <th>Count_Unit_Motorcycle_Moped</th>\n",
       "      <th>Count_Unit_Truck</th>\n",
       "      <th>Count_Unit_Bus</th>\n",
       "      <th>Count_Unit_Bicycle</th>\n",
       "      <th>Count_Unit_Pedestrian</th>\n",
       "      <th>Count_Unit_Other</th>\n",
       "    </tr>\n",
       "    <tr>\n",
       "      <th>_id</th>\n",
       "      <th></th>\n",
       "      <th></th>\n",
       "      <th></th>\n",
       "      <th></th>\n",
       "      <th></th>\n",
       "      <th></th>\n",
       "      <th></th>\n",
       "      <th></th>\n",
       "      <th></th>\n",
       "      <th></th>\n",
       "      <th></th>\n",
       "      <th></th>\n",
       "      <th></th>\n",
       "      <th></th>\n",
       "      <th></th>\n",
       "      <th></th>\n",
       "      <th></th>\n",
       "      <th></th>\n",
       "      <th></th>\n",
       "      <th></th>\n",
       "      <th></th>\n",
       "    </tr>\n",
       "  </thead>\n",
       "  <tbody>\n",
       "    <tr>\n",
       "      <th>1</th>\n",
       "      <td>1</td>\n",
       "      <td>Property damage only</td>\n",
       "      <td>2001</td>\n",
       "      <td>January</td>\n",
       "      <td>Monday</td>\n",
       "      <td>9</td>\n",
       "      <td>Angle</td>\n",
       "      <td>Multi-Vehicle</td>\n",
       "      <td>152.960485</td>\n",
       "      <td>-26.685052</td>\n",
       "      <td>...</td>\n",
       "      <td>0</td>\n",
       "      <td>0</td>\n",
       "      <td>0</td>\n",
       "      <td>2</td>\n",
       "      <td>0</td>\n",
       "      <td>0</td>\n",
       "      <td>0</td>\n",
       "      <td>0</td>\n",
       "      <td>0</td>\n",
       "      <td>0</td>\n",
       "    </tr>\n",
       "    <tr>\n",
       "      <th>2</th>\n",
       "      <td>2</td>\n",
       "      <td>Property damage only</td>\n",
       "      <td>2001</td>\n",
       "      <td>January</td>\n",
       "      <td>Tuesday</td>\n",
       "      <td>23</td>\n",
       "      <td>Hit object</td>\n",
       "      <td>Single Vehicle</td>\n",
       "      <td>153.038263</td>\n",
       "      <td>-27.550776</td>\n",
       "      <td>...</td>\n",
       "      <td>0</td>\n",
       "      <td>0</td>\n",
       "      <td>0</td>\n",
       "      <td>1</td>\n",
       "      <td>0</td>\n",
       "      <td>0</td>\n",
       "      <td>0</td>\n",
       "      <td>0</td>\n",
       "      <td>0</td>\n",
       "      <td>0</td>\n",
       "    </tr>\n",
       "    <tr>\n",
       "      <th>3</th>\n",
       "      <td>3</td>\n",
       "      <td>Medical treatment</td>\n",
       "      <td>2001</td>\n",
       "      <td>January</td>\n",
       "      <td>Tuesday</td>\n",
       "      <td>16</td>\n",
       "      <td>Angle</td>\n",
       "      <td>Multi-Vehicle</td>\n",
       "      <td>153.116342</td>\n",
       "      <td>-27.545153</td>\n",
       "      <td>...</td>\n",
       "      <td>1</td>\n",
       "      <td>0</td>\n",
       "      <td>1</td>\n",
       "      <td>2</td>\n",
       "      <td>0</td>\n",
       "      <td>0</td>\n",
       "      <td>0</td>\n",
       "      <td>0</td>\n",
       "      <td>0</td>\n",
       "      <td>0</td>\n",
       "    </tr>\n",
       "    <tr>\n",
       "      <th>4</th>\n",
       "      <td>4</td>\n",
       "      <td>Property damage only</td>\n",
       "      <td>2001</td>\n",
       "      <td>January</td>\n",
       "      <td>Tuesday</td>\n",
       "      <td>12</td>\n",
       "      <td>Rear-end</td>\n",
       "      <td>Multi-Vehicle</td>\n",
       "      <td>153.021629</td>\n",
       "      <td>-27.384448</td>\n",
       "      <td>...</td>\n",
       "      <td>0</td>\n",
       "      <td>0</td>\n",
       "      <td>0</td>\n",
       "      <td>2</td>\n",
       "      <td>0</td>\n",
       "      <td>0</td>\n",
       "      <td>0</td>\n",
       "      <td>0</td>\n",
       "      <td>0</td>\n",
       "      <td>0</td>\n",
       "    </tr>\n",
       "    <tr>\n",
       "      <th>5</th>\n",
       "      <td>5</td>\n",
       "      <td>Property damage only</td>\n",
       "      <td>2001</td>\n",
       "      <td>January</td>\n",
       "      <td>Tuesday</td>\n",
       "      <td>10</td>\n",
       "      <td>Rear-end</td>\n",
       "      <td>Multi-Vehicle</td>\n",
       "      <td>152.937497</td>\n",
       "      <td>-27.083184</td>\n",
       "      <td>...</td>\n",
       "      <td>0</td>\n",
       "      <td>0</td>\n",
       "      <td>0</td>\n",
       "      <td>3</td>\n",
       "      <td>0</td>\n",
       "      <td>0</td>\n",
       "      <td>0</td>\n",
       "      <td>0</td>\n",
       "      <td>0</td>\n",
       "      <td>0</td>\n",
       "    </tr>\n",
       "    <tr>\n",
       "      <th>...</th>\n",
       "      <td>...</td>\n",
       "      <td>...</td>\n",
       "      <td>...</td>\n",
       "      <td>...</td>\n",
       "      <td>...</td>\n",
       "      <td>...</td>\n",
       "      <td>...</td>\n",
       "      <td>...</td>\n",
       "      <td>...</td>\n",
       "      <td>...</td>\n",
       "      <td>...</td>\n",
       "      <td>...</td>\n",
       "      <td>...</td>\n",
       "      <td>...</td>\n",
       "      <td>...</td>\n",
       "      <td>...</td>\n",
       "      <td>...</td>\n",
       "      <td>...</td>\n",
       "      <td>...</td>\n",
       "      <td>...</td>\n",
       "      <td>...</td>\n",
       "    </tr>\n",
       "    <tr>\n",
       "      <th>28993</th>\n",
       "      <td>28993</td>\n",
       "      <td>Minor injury</td>\n",
       "      <td>2014</td>\n",
       "      <td>August</td>\n",
       "      <td>Tuesday</td>\n",
       "      <td>16</td>\n",
       "      <td>Angle</td>\n",
       "      <td>Multi-Vehicle</td>\n",
       "      <td>153.041664</td>\n",
       "      <td>-27.414289</td>\n",
       "      <td>...</td>\n",
       "      <td>0</td>\n",
       "      <td>1</td>\n",
       "      <td>1</td>\n",
       "      <td>2</td>\n",
       "      <td>0</td>\n",
       "      <td>0</td>\n",
       "      <td>0</td>\n",
       "      <td>0</td>\n",
       "      <td>0</td>\n",
       "      <td>0</td>\n",
       "    </tr>\n",
       "    <tr>\n",
       "      <th>28994</th>\n",
       "      <td>28994</td>\n",
       "      <td>Hospitalisation</td>\n",
       "      <td>2014</td>\n",
       "      <td>August</td>\n",
       "      <td>Tuesday</td>\n",
       "      <td>7</td>\n",
       "      <td>Angle</td>\n",
       "      <td>Multi-Vehicle</td>\n",
       "      <td>153.012600</td>\n",
       "      <td>-27.777425</td>\n",
       "      <td>...</td>\n",
       "      <td>0</td>\n",
       "      <td>0</td>\n",
       "      <td>1</td>\n",
       "      <td>2</td>\n",
       "      <td>0</td>\n",
       "      <td>0</td>\n",
       "      <td>0</td>\n",
       "      <td>0</td>\n",
       "      <td>0</td>\n",
       "      <td>1</td>\n",
       "    </tr>\n",
       "    <tr>\n",
       "      <th>28995</th>\n",
       "      <td>28995</td>\n",
       "      <td>Hospitalisation</td>\n",
       "      <td>2014</td>\n",
       "      <td>August</td>\n",
       "      <td>Wednesday</td>\n",
       "      <td>17</td>\n",
       "      <td>Angle</td>\n",
       "      <td>Multi-Vehicle</td>\n",
       "      <td>152.927540</td>\n",
       "      <td>-27.176794</td>\n",
       "      <td>...</td>\n",
       "      <td>0</td>\n",
       "      <td>0</td>\n",
       "      <td>1</td>\n",
       "      <td>1</td>\n",
       "      <td>0</td>\n",
       "      <td>0</td>\n",
       "      <td>0</td>\n",
       "      <td>0</td>\n",
       "      <td>0</td>\n",
       "      <td>0</td>\n",
       "    </tr>\n",
       "    <tr>\n",
       "      <th>28996</th>\n",
       "      <td>28996</td>\n",
       "      <td>Hospitalisation</td>\n",
       "      <td>2014</td>\n",
       "      <td>August</td>\n",
       "      <td>Wednesday</td>\n",
       "      <td>14</td>\n",
       "      <td>Rear-end</td>\n",
       "      <td>Multi-Vehicle</td>\n",
       "      <td>153.047282</td>\n",
       "      <td>-27.388325</td>\n",
       "      <td>...</td>\n",
       "      <td>0</td>\n",
       "      <td>0</td>\n",
       "      <td>1</td>\n",
       "      <td>1</td>\n",
       "      <td>1</td>\n",
       "      <td>0</td>\n",
       "      <td>0</td>\n",
       "      <td>0</td>\n",
       "      <td>0</td>\n",
       "      <td>0</td>\n",
       "    </tr>\n",
       "    <tr>\n",
       "      <th>28997</th>\n",
       "      <td>28997</td>\n",
       "      <td>Minor injury</td>\n",
       "      <td>2014</td>\n",
       "      <td>August</td>\n",
       "      <td>Thursday</td>\n",
       "      <td>16</td>\n",
       "      <td>Angle</td>\n",
       "      <td>Multi-Vehicle</td>\n",
       "      <td>153.040318</td>\n",
       "      <td>-27.497721</td>\n",
       "      <td>...</td>\n",
       "      <td>0</td>\n",
       "      <td>1</td>\n",
       "      <td>1</td>\n",
       "      <td>1</td>\n",
       "      <td>0</td>\n",
       "      <td>0</td>\n",
       "      <td>0</td>\n",
       "      <td>1</td>\n",
       "      <td>0</td>\n",
       "      <td>0</td>\n",
       "    </tr>\n",
       "  </tbody>\n",
       "</table>\n",
       "<p>29000 rows × 52 columns</p>\n",
       "</div>"
      ],
      "text/plain": [
       "       Crash_Ref_Number        Crash_Severity  Crash_Year Crash_Month  \\\n",
       "_id                                                                     \n",
       "1                     1  Property damage only        2001     January   \n",
       "2                     2  Property damage only        2001     January   \n",
       "3                     3     Medical treatment        2001     January   \n",
       "4                     4  Property damage only        2001     January   \n",
       "5                     5  Property damage only        2001     January   \n",
       "...                 ...                   ...         ...         ...   \n",
       "28993             28993          Minor injury        2014      August   \n",
       "28994             28994       Hospitalisation        2014      August   \n",
       "28995             28995       Hospitalisation        2014      August   \n",
       "28996             28996       Hospitalisation        2014      August   \n",
       "28997             28997          Minor injury        2014      August   \n",
       "\n",
       "      Crash_Day_Of_Week  Crash_Hour Crash_Nature      Crash_Type  \\\n",
       "_id                                                                \n",
       "1                Monday           9        Angle   Multi-Vehicle   \n",
       "2               Tuesday          23   Hit object  Single Vehicle   \n",
       "3               Tuesday          16        Angle   Multi-Vehicle   \n",
       "4               Tuesday          12     Rear-end   Multi-Vehicle   \n",
       "5               Tuesday          10     Rear-end   Multi-Vehicle   \n",
       "...                 ...         ...          ...             ...   \n",
       "28993           Tuesday          16        Angle   Multi-Vehicle   \n",
       "28994           Tuesday           7        Angle   Multi-Vehicle   \n",
       "28995         Wednesday          17        Angle   Multi-Vehicle   \n",
       "28996         Wednesday          14     Rear-end   Multi-Vehicle   \n",
       "28997          Thursday          16        Angle   Multi-Vehicle   \n",
       "\n",
       "       Crash_Longitude_GDA94  Crash_Latitude_GDA94  ...  \\\n",
       "_id                                                 ...   \n",
       "1                 152.960485            -26.685052  ...   \n",
       "2                 153.038263            -27.550776  ...   \n",
       "3                 153.116342            -27.545153  ...   \n",
       "4                 153.021629            -27.384448  ...   \n",
       "5                 152.937497            -27.083184  ...   \n",
       "...                      ...                   ...  ...   \n",
       "28993             153.041664            -27.414289  ...   \n",
       "28994             153.012600            -27.777425  ...   \n",
       "28995             152.927540            -27.176794  ...   \n",
       "28996             153.047282            -27.388325  ...   \n",
       "28997             153.040318            -27.497721  ...   \n",
       "\n",
       "      Count_Casualty_MedicallyTreated Count_Casualty_MinorInjury  \\\n",
       "_id                                                                \n",
       "1                                   0                          0   \n",
       "2                                   0                          0   \n",
       "3                                   1                          0   \n",
       "4                                   0                          0   \n",
       "5                                   0                          0   \n",
       "...                               ...                        ...   \n",
       "28993                               0                          1   \n",
       "28994                               0                          0   \n",
       "28995                               0                          0   \n",
       "28996                               0                          0   \n",
       "28997                               0                          1   \n",
       "\n",
       "      Count_Casualty_Total Count_Unit_Car Count_Unit_Motorcycle_Moped  \\\n",
       "_id                                                                     \n",
       "1                        0              2                           0   \n",
       "2                        0              1                           0   \n",
       "3                        1              2                           0   \n",
       "4                        0              2                           0   \n",
       "5                        0              3                           0   \n",
       "...                    ...            ...                         ...   \n",
       "28993                    1              2                           0   \n",
       "28994                    1              2                           0   \n",
       "28995                    1              1                           0   \n",
       "28996                    1              1                           1   \n",
       "28997                    1              1                           0   \n",
       "\n",
       "      Count_Unit_Truck Count_Unit_Bus Count_Unit_Bicycle  \\\n",
       "_id                                                        \n",
       "1                    0              0                  0   \n",
       "2                    0              0                  0   \n",
       "3                    0              0                  0   \n",
       "4                    0              0                  0   \n",
       "5                    0              0                  0   \n",
       "...                ...            ...                ...   \n",
       "28993                0              0                  0   \n",
       "28994                0              0                  0   \n",
       "28995                0              0                  0   \n",
       "28996                0              0                  0   \n",
       "28997                0              0                  1   \n",
       "\n",
       "      Count_Unit_Pedestrian Count_Unit_Other  \n",
       "_id                                           \n",
       "1                         0                0  \n",
       "2                         0                0  \n",
       "3                         0                0  \n",
       "4                         0                0  \n",
       "5                         0                0  \n",
       "...                     ...              ...  \n",
       "28993                     0                0  \n",
       "28994                     0                1  \n",
       "28995                     0                0  \n",
       "28996                     0                0  \n",
       "28997                     0                0  \n",
       "\n",
       "[29000 rows x 52 columns]"
      ]
     },
     "execution_count": 221,
     "metadata": {},
     "output_type": "execute_result"
    }
   ],
   "source": [
    "#ทำการอ่านไฟล์ข้อมูลที่ดาวน์โหลดเก็บไว้ใน Folder เข้ามาใน pandas และเรียกดูข้อมูลโดยใช้ ชื่อของข้อมูลที่เรากำหนด ซึ่งในที่นี้ เรากำหนดชื่อว่า roaddata\n",
    "roaddata = pd.read_csv(\"Data/Road_Crash_location.csv\",index_col=\"_id\")\n",
    "roaddata"
   ]
  },
  {
   "cell_type": "code",
   "execution_count": 222,
   "metadata": {},
   "outputs": [
    {
     "data": {
      "text/plain": [
       "(29000, 52)"
      ]
     },
     "execution_count": 222,
     "metadata": {},
     "output_type": "execute_result"
    }
   ],
   "source": [
    "roaddata.shape #เช็คจำนวนแถว และจำนวนคอลัมน์\n",
    "#roaddata.info()"
   ]
  },
  {
   "cell_type": "code",
   "execution_count": 223,
   "metadata": {},
   "outputs": [
    {
     "data": {
      "text/plain": [
       "Crash_Ref_Number                       0\n",
       "Crash_Severity                         0\n",
       "Crash_Year                             0\n",
       "Crash_Month                            0\n",
       "Crash_Day_Of_Week                      0\n",
       "Crash_Hour                             0\n",
       "Crash_Nature                           0\n",
       "Crash_Type                             0\n",
       "Crash_Longitude_GDA94                  0\n",
       "Crash_Latitude_GDA94                   0\n",
       "Crash_Street                           2\n",
       "Crash_Street_Intersecting          16220\n",
       "State_Road_Name                    16113\n",
       "Loc_Suburb                             0\n",
       "Loc_Local_Government_Area              0\n",
       "Loc_Post_Code                          0\n",
       "Loc_Police_Division                    0\n",
       "Loc_Police_District                    0\n",
       "Loc_Police_Region                      0\n",
       "Loc_Queensland_Transport_Region        0\n",
       "Loc_Main_Roads_Region                  0\n",
       "Loc_ABS_Statistical_Area_2             0\n",
       "Loc_ABS_Statistical_Area_3             0\n",
       "Loc_ABS_Statistical_Area_4             0\n",
       "Loc_ABS_Remoteness                     0\n",
       "Loc_State_Electorate                   0\n",
       "Loc_Federal_Electorate                 0\n",
       "Crash_Controlling_Authority            0\n",
       "Crash_Roadway_Feature                  0\n",
       "Crash_Traffic_Control                  0\n",
       "Crash_Speed_Limit                      0\n",
       "Crash_Road_Surface_Condition           0\n",
       "Crash_Atmospheric_Condition            0\n",
       "Crash_Lighting_Condition               0\n",
       "Crash_Road_Horiz_Align                 0\n",
       "Crash_Road_Vert_Align                  0\n",
       "Crash_DCA_Code                         8\n",
       "Crash_DCA_Description                  8\n",
       "Crash_DCA_Group_Description            0\n",
       "DCA_Key_Approach_Dir                 339\n",
       "Count_Casualty_Fatality                0\n",
       "Count_Casualty_Hospitalised            0\n",
       "Count_Casualty_MedicallyTreated        0\n",
       "Count_Casualty_MinorInjury             0\n",
       "Count_Casualty_Total                   0\n",
       "Count_Unit_Car                         0\n",
       "Count_Unit_Motorcycle_Moped            0\n",
       "Count_Unit_Truck                       0\n",
       "Count_Unit_Bus                         0\n",
       "Count_Unit_Bicycle                     0\n",
       "Count_Unit_Pedestrian                  0\n",
       "Count_Unit_Other                       0\n",
       "dtype: int64"
      ]
     },
     "execution_count": 223,
     "metadata": {},
     "output_type": "execute_result"
    }
   ],
   "source": [
    "roaddata.isnull().sum() #Check missing value"
   ]
  },
  {
   "cell_type": "code",
   "execution_count": 224,
   "metadata": {},
   "outputs": [],
   "source": [
    "#ลบแถวที่มี Missing Value\n",
    "roaddata.drop('State_Road_Name', axis='columns', inplace=True)\n",
    "roaddata.drop('DCA_Key_Approach_Dir', axis='columns', inplace=True)\n",
    "roaddata.drop('Crash_Street_Intersecting', axis='columns', inplace=True)"
   ]
  },
  {
   "cell_type": "markdown",
   "metadata": {},
   "source": [
    "#### การ Handling Outliers เป็นวิธีที่จัดการกับข้อมูลที่มีค่าสูงหรือค่าต่ำกว่าข้อมูลส่วนใหญ่โดยค่านั้นเรียกว่า Outlier"
   ]
  },
  {
   "cell_type": "code",
   "execution_count": 225,
   "metadata": {},
   "outputs": [
    {
     "data": {
      "image/png": "[encoded data removed]",
      "text/plain": [
       "<Figure size 648x288 with 1 Axes>"
      ]
     },
     "metadata": {
      "needs_background": "light"
     },
     "output_type": "display_data"
    }
   ],
   "source": [
    "import seaborn as sns\n",
    "from matplotlib import pyplot as plt\n",
    "\n",
    "fig = plt.figure(figsize=(9,4))\n",
    "sns.boxplot(x=roaddata[\"Crash_Year\"], color=\"#5b8ba3\")\n",
    "plt.xlabel(\"Crash_Year\", fontsize=15)\n",
    "plt.title('Handling Outliers', size = 20)\n",
    "plt.show()"
   ]
  },
  {
   "cell_type": "code",
   "execution_count": 226,
   "metadata": {},
   "outputs": [
    {
     "data": {
      "text/plain": [
       "count    29000.000000\n",
       "mean      2006.655345\n",
       "std          3.676297\n",
       "min       2001.000000\n",
       "25%       2004.000000\n",
       "50%       2007.000000\n",
       "75%       2009.000000\n",
       "max       2015.000000\n",
       "Name: Crash_Year, dtype: float64"
      ]
     },
     "execution_count": 226,
     "metadata": {},
     "output_type": "execute_result"
    }
   ],
   "source": [
    "roaddata[\"Crash_Year\"].describe() #ใช้ Function describe() เพื่อดูข้อมูลทางสถิติต่างๆ"
   ]
  },
  {
   "cell_type": "code",
   "execution_count": 227,
   "metadata": {},
   "outputs": [
    {
     "name": "stdout",
     "output_type": "stream",
     "text": [
      "(29000, 53)\n",
      "(24431, 49)\n"
     ]
    }
   ],
   "source": [
    "print(df.shape)\n",
    "upper_lim = roaddata[\"Crash_Year\"].quantile(.95)\n",
    "lower_lim = roaddata[\"Crash_Year\"].quantile(.05)\n",
    "drop_outlier = roaddata[(roaddata[\"Crash_Year\"] < upper_lim) & (roaddata[\"Crash_Year\"] > lower_lim)]\n",
    "print(drop_outlier.shape)"
   ]
  },
  {
   "cell_type": "code",
   "execution_count": 228,
   "metadata": {},
   "outputs": [
    {
     "data": {
      "image/png": "[encoded data removed]",
      "text/plain": [
       "<Figure size 648x288 with 1 Axes>"
      ]
     },
     "metadata": {
      "needs_background": "light"
     },
     "output_type": "display_data"
    }
   ],
   "source": [
    "fig = plt.figure(figsize=(9,4))\n",
    "sns.boxplot(x=drop_outlier[\"Crash_Year\"], color=\"#5b8ba3\")\n",
    "plt.xlabel(\"Crash_Year\", fontsize=15)\n",
    "plt.title('Handling Outliers', size = 20)\n",
    "plt.show()"
   ]
  },
  {
   "cell_type": "code",
   "execution_count": 229,
   "metadata": {},
   "outputs": [
    {
     "data": {
      "text/plain": [
       "count    24431.000000\n",
       "mean      2006.596906\n",
       "std          2.975300\n",
       "min       2002.000000\n",
       "25%       2004.000000\n",
       "50%       2007.000000\n",
       "75%       2009.000000\n",
       "max       2012.000000\n",
       "Name: Crash_Year, dtype: float64"
      ]
     },
     "execution_count": 229,
     "metadata": {},
     "output_type": "execute_result"
    }
   ],
   "source": [
    "drop_outlier[\"Crash_Year\"].describe()"
   ]
  },
  {
   "cell_type": "code",
   "execution_count": 230,
   "metadata": {},
   "outputs": [
    {
     "data": {
      "text/plain": [
       "(24431, 49)"
      ]
     },
     "execution_count": 230,
     "metadata": {},
     "output_type": "execute_result"
    }
   ],
   "source": [
    "roaddata = pd.DataFrame(drop_outlier)\n",
    "roaddata.shape "
   ]
  },
  {
   "cell_type": "markdown",
   "metadata": {},
   "source": [
    "## ประเภทของระดับความรุนแรงในการเกิดอุบัติเหตุประเภทไหนมีอัตราการเกิดมากที่สุด?"
   ]
  },
  {
   "cell_type": "code",
   "execution_count": 236,
   "metadata": {},
   "outputs": [
    {
     "data": {
      "text/plain": [
       "Property damage only    8393\n",
       "Medical treatment       6472\n",
       "Hospitalisation         5875\n",
       "Minor injury            3380\n",
       "Fatal                    311\n",
       "Name: Crash_Severity, dtype: int64"
      ]
     },
     "execution_count": 236,
     "metadata": {},
     "output_type": "execute_result"
    }
   ],
   "source": [
    "roaddata.Crash_Severity.value_counts() #Crash_Severity counts "
   ]
  },
  {
   "cell_type": "code",
   "execution_count": 276,
   "metadata": {},
   "outputs": [
    {
     "data": {
      "image/svg+xml": [
       "<svg class=\"main-svg\" xmlns=\"http://www.w3.org/2000/svg\" xmlns:xlink=\"http://www.w3.org/1999/xlink\" width=\"700\" height=\"450\" style=\"\" viewBox=\"0 0 700 450\"><rect x=\"0\" y=\"0\" width=\"700\" height=\"450\" style=\"fill: rgb(255, 255, 255); fill-opacity: 1;\"/><defs id=\"defs-cf5baa\"><g class=\"clips\"/><g class=\"gradients\"/></defs><g class=\"bglayer\"/><g class=\"layer-below\"><g class=\"imagelayer\"/><g class=\"shapelayer\"/></g><g class=\"cartesianlayer\"/><g class=\"polarlayer\"/><g class=\"ternarylayer\"/><g class=\"geolayer\"/><g class=\"funnelarealayer\"/><g class=\"pielayer\"><g class=\"trace\" stroke-linejoin=\"round\" style=\"opacity: 1;\"><g class=\"slice\"><path class=\"surface\" d=\"M309.66748330144463,231.96583394651987l0,-128.57142857142856a128.57142857142856,128.57142857142856 0 0 1 106.99786497187691,199.8600611600675Z\" style=\"pointer-events: all; stroke-width: 0; fill: rgb(255, 102, 102); fill-opacity: 1; stroke: rgb(68, 68, 68); stroke-opacity: 1;\"/><g class=\"slicetext\"><text data-notex=\"1\" class=\"slicetext\" transform=\"translate(369.8458172539614,204.37912768545988)\" text-anchor=\"middle\" x=\"0\" y=\"0\" style=\"font-family: 'Open Sans', verdana, arial, sans-serif; font-size: 12px; fill: rgb(68, 68, 68); fill-opacity: 1; white-space: pre;\">34.4%</text></g></g><g class=\"slice\"><path class=\"surface\" d=\"M304,235l-128.00769587900538,12.026721940995557a128.57142857142856,128.57142857142856 0 0 1 128.00769587900538,-140.59815051242413Z\" style=\"pointer-events: all; stroke-width: 0; fill: rgb(102, 153, 255); fill-opacity: 1; stroke: rgb(68, 68, 68); stroke-opacity: 1;\"/><g class=\"slicetext\"><text data-notex=\"1\" class=\"slicetext\" transform=\"translate(249.28151258619548,189.9024760969499)\" text-anchor=\"middle\" x=\"0\" y=\"0\" style=\"font-family: 'Open Sans', verdana, arial, sans-serif; font-size: 12px; fill: rgb(68, 68, 68); fill-opacity: 1; white-space: pre;\">26.5%</text></g></g><g class=\"slice\"><path class=\"surface\" d=\"M304,235l4.347364521496463,128.49790919160978a128.57142857142856,128.57142857142856 0 0 1 -132.35506040050186,-116.47118725061422Z\" style=\"pointer-events: all; stroke-width: 0; fill: rgb(106, 212, 155); fill-opacity: 1; stroke: rgb(68, 68, 68); stroke-opacity: 1;\"/><g class=\"slicetext\"><text data-notex=\"1\" class=\"slicetext\" transform=\"translate(253.55622729392104,296.925008948723)\" text-anchor=\"middle\" x=\"0\" y=\"0\" style=\"font-family: 'Open Sans', verdana, arial, sans-serif; font-size: 12px; fill: rgb(68, 68, 68); fill-opacity: 1; white-space: pre;\">24%</text></g></g><g class=\"slice\"><path class=\"surface\" d=\"M304,235l100.95997908304473,79.60964054967921a128.57142857142856,128.57142857142856 0 0 1 -96.61261456154827,48.888268641930566Z\" style=\"pointer-events: all; stroke-width: 0; fill: rgb(166, 120, 222); fill-opacity: 1; stroke: rgb(68, 68, 68); stroke-opacity: 1;\"/><g class=\"slicetext\"><text data-notex=\"1\" class=\"slicetext\" transform=\"translate(344.7874565892025,320.39142758045733)\" text-anchor=\"middle\" x=\"0\" y=\"0\" style=\"font-family: 'Open Sans', verdana, arial, sans-serif; font-size: 12px; fill: rgb(68, 68, 68); fill-opacity: 1; white-space: pre;\">13.8%</text></g></g><g class=\"slice\"><path class=\"surface\" d=\"M304,235l106.9978649718769,71.28863258863896a128.57142857142856,128.57142857142856 0 0 1 -6.0378858888321645,8.321007961040252Z\" style=\"pointer-events: all; stroke-width: 0; fill: rgb(255, 255, 128); fill-opacity: 1; stroke: rgb(68, 68, 68); stroke-opacity: 1;\"/><g class=\"slicetext\"><text data-notex=\"1\" class=\"slicetext\" transform=\"translate(428.89415701804637,317.93560255939786)\" text-anchor=\"middle\" x=\"0\" y=\"0\" style=\"font-family: 'Open Sans', verdana, arial, sans-serif; font-size: 12px; fill: rgb(42, 63, 95); fill-opacity: 1; white-space: pre;\">1.27%</text></g></g></g></g><g class=\"treemaplayer\"/><g class=\"sunburstlayer\"/><g class=\"glimages\"/><defs id=\"topdefs-cf5baa\"><g class=\"clips\"/><clipPath id=\"legendcf5baa\"><rect width=\"170\" height=\"105\" x=\"0\" y=\"0\"/></clipPath></defs><g class=\"layer-above\"><g class=\"imagelayer\"/><g class=\"shapelayer\"/></g><g class=\"infolayer\"><g class=\"legend\" pointer-events=\"all\" transform=\"translate(518, 182.5)\"><rect class=\"bg\" shape-rendering=\"crispEdges\" width=\"170\" height=\"105\" x=\"0\" y=\"0\" style=\"stroke: rgb(68, 68, 68); stroke-opacity: 1; fill: rgb(255, 255, 255); fill-opacity: 1; stroke-width: 0px;\"/><g class=\"scrollbox\" transform=\"translate(0, 0)\" clip-path=\"url('#legendcf5baa')\"><g class=\"groups\"><g class=\"traces\" transform=\"translate(0, 14.5)\" style=\"opacity: 1;\"><text class=\"legendtext user-select-none\" text-anchor=\"start\" x=\"40\" y=\"4.680000000000001\" style=\"font-family: 'Open Sans', verdana, arial, sans-serif; font-size: 12px; fill: rgb(42, 63, 95); fill-opacity: 1; white-space: pre;\">Property damage only</text><g class=\"layers\" style=\"opacity: 1;\"><g class=\"legendfill\"/><g class=\"legendlines\"/><g class=\"legendsymbols\"><g class=\"legendpoints\"><path class=\"legendpie\" d=\"M6,6H-6V-6H6Z\" transform=\"translate(20,0)\" style=\"stroke-width: 0; fill: rgb(255, 102, 102); fill-opacity: 1; stroke: rgb(68, 68, 68); stroke-opacity: 1;\"/></g></g></g><rect class=\"legendtoggle\" pointer-events=\"all\" x=\"0\" y=\"-9.5\" width=\"164.359375\" height=\"19\" style=\"cursor: pointer; fill: rgb(0, 0, 0); fill-opacity: 0;\"/></g><g class=\"traces\" transform=\"translate(0, 33.5)\" style=\"opacity: 1;\"><text class=\"legendtext user-select-none\" text-anchor=\"start\" x=\"40\" y=\"4.680000000000001\" style=\"font-family: 'Open Sans', verdana, arial, sans-serif; font-size: 12px; fill: rgb(42, 63, 95); fill-opacity: 1; white-space: pre;\">Medical treatment</text><g class=\"layers\" style=\"opacity: 1;\"><g class=\"legendfill\"/><g class=\"legendlines\"/><g class=\"legendsymbols\"><g class=\"legendpoints\"><path class=\"legendpie\" d=\"M6,6H-6V-6H6Z\" transform=\"translate(20,0)\" style=\"stroke-width: 0; fill: rgb(102, 153, 255); fill-opacity: 1; stroke: rgb(68, 68, 68); stroke-opacity: 1;\"/></g></g></g><rect class=\"legendtoggle\" pointer-events=\"all\" x=\"0\" y=\"-9.5\" width=\"164.359375\" height=\"19\" style=\"cursor: pointer; fill: rgb(0, 0, 0); fill-opacity: 0;\"/></g><g class=\"traces\" transform=\"translate(0, 52.5)\" style=\"opacity: 1;\"><text class=\"legendtext user-select-none\" text-anchor=\"start\" x=\"40\" y=\"4.680000000000001\" style=\"font-family: 'Open Sans', verdana, arial, sans-serif; font-size: 12px; fill: rgb(42, 63, 95); fill-opacity: 1; white-space: pre;\">Hospitalisation</text><g class=\"layers\" style=\"opacity: 1;\"><g class=\"legendfill\"/><g class=\"legendlines\"/><g class=\"legendsymbols\"><g class=\"legendpoints\"><path class=\"legendpie\" d=\"M6,6H-6V-6H6Z\" transform=\"translate(20,0)\" style=\"stroke-width: 0; fill: rgb(106, 212, 155); fill-opacity: 1; stroke: rgb(68, 68, 68); stroke-opacity: 1;\"/></g></g></g><rect class=\"legendtoggle\" pointer-events=\"all\" x=\"0\" y=\"-9.5\" width=\"164.359375\" height=\"19\" style=\"cursor: pointer; fill: rgb(0, 0, 0); fill-opacity: 0;\"/></g><g class=\"traces\" transform=\"translate(0, 71.5)\" style=\"opacity: 1;\"><text class=\"legendtext user-select-none\" text-anchor=\"start\" x=\"40\" y=\"4.680000000000001\" style=\"font-family: 'Open Sans', verdana, arial, sans-serif; font-size: 12px; fill: rgb(42, 63, 95); fill-opacity: 1; white-space: pre;\">Minor injury</text><g class=\"layers\" style=\"opacity: 1;\"><g class=\"legendfill\"/><g class=\"legendlines\"/><g class=\"legendsymbols\"><g class=\"legendpoints\"><path class=\"legendpie\" d=\"M6,6H-6V-6H6Z\" transform=\"translate(20,0)\" style=\"stroke-width: 0; fill: rgb(166, 120, 222); fill-opacity: 1; stroke: rgb(68, 68, 68); stroke-opacity: 1;\"/></g></g></g><rect class=\"legendtoggle\" pointer-events=\"all\" x=\"0\" y=\"-9.5\" width=\"164.359375\" height=\"19\" style=\"cursor: pointer; fill: rgb(0, 0, 0); fill-opacity: 0;\"/></g><g class=\"traces\" transform=\"translate(0, 90.5)\" style=\"opacity: 1;\"><text class=\"legendtext user-select-none\" text-anchor=\"start\" x=\"40\" y=\"4.680000000000001\" style=\"font-family: 'Open Sans', verdana, arial, sans-serif; font-size: 12px; fill: rgb(42, 63, 95); fill-opacity: 1; white-space: pre;\">Fatal</text><g class=\"layers\" style=\"opacity: 1;\"><g class=\"legendfill\"/><g class=\"legendlines\"/><g class=\"legendsymbols\"><g class=\"legendpoints\"><path class=\"legendpie\" d=\"M6,6H-6V-6H6Z\" transform=\"translate(20,0)\" style=\"stroke-width: 0; fill: rgb(255, 255, 128); fill-opacity: 1; stroke: rgb(68, 68, 68); stroke-opacity: 1;\"/></g></g></g><rect class=\"legendtoggle\" pointer-events=\"all\" x=\"0\" y=\"-9.5\" width=\"164.359375\" height=\"19\" style=\"cursor: pointer; fill: rgb(0, 0, 0); fill-opacity: 0;\"/></g></g></g><rect class=\"scrollbar\" rx=\"20\" ry=\"3\" width=\"0\" height=\"0\" x=\"0\" y=\"0\" style=\"fill: rgb(128, 139, 164); fill-opacity: 1;\"/></g><g class=\"g-gtitle\"><text class=\"gtitle\" x=\"35\" y=\"50\" text-anchor=\"start\" dy=\"0em\" style=\"font-family: 'Open Sans', verdana, arial, sans-serif; font-size: 17px; fill: rgb(42, 63, 95); opacity: 1; font-weight: normal; white-space: pre;\">Crash Severity (ระดับความรุนแรงในการเกิดอุบัติเหตุ)</text></g></g></svg>"
      ]
     },
     "metadata": {},
     "output_type": "display_data"
    }
   ],
   "source": [
    "import plotly.io as pio\n",
    "pio.renderers.default = \"svg\"\n",
    "import plotly.graph_objects as go\n",
    "from plotly.offline import init_notebook_mode, iplot\n",
    "\n",
    "#ทำ data visualization ด้วยการ import plotly\n",
    "#เลือก column ที่จะทำการวิเคราะห์ ในการวิเคราะห์นี้เลือกเป็น Crash_Severity \n",
    "## เพื่อวิเคราะห์หาว่าประเภทระดับความรุนแรงในการเกิดอุบัติเหตุประเภทไหนมีอัตราเกิดมากที่สุด\n",
    "\n",
    "col = \"Crash_Severity\" \n",
    "grouped = roaddata[col].value_counts().reset_index() # ทำการ count value ใน column \"Crash_Severity\"\n",
    "grouped = grouped.rename(columns = {col : \"count\", \"index\" : col}) \n",
    "\n",
    "## ส่วนของ plot\n",
    "\n",
    "trace = go.Pie(labels=grouped[col], values=grouped['count'], pull=[0.05, 0], marker=dict(colors=[\"#ff6666\",\"#6699ff\",\"#6ad49b\", \"#a678de\",\"#ffff80\"])) \n",
    "layout = go.Layout(title=\"Crash Severity (ระดับความรุนแรงในการเกิดอุบัติเหตุ)\", height=400, legend=dict(x=1, y=0.5, font_size=12))\n",
    "fig = go.Figure(data = [trace], layout = layout)\n",
    "fig.show(renderer='svg')\n"
   ]
  },
  {
   "cell_type": "markdown",
   "metadata": {},
   "source": [
    "### สรุปผล\n",
    "ระดับความรุนแรงในการเกิดอุบัติเหตุส่วนใหญ่เป็นประเภท Property damage only คิดเป็นร้อยละ 34.4% "
   ]
  },
  {
   "cell_type": "code",
   "execution_count": 355,
   "metadata": {},
   "outputs": [
    {
     "data": {
      "image/svg+xml": [
       "<svg class=\"main-svg\" xmlns=\"http://www.w3.org/2000/svg\" xmlns:xlink=\"http://www.w3.org/1999/xlink\" width=\"700\" height=\"450\" style=\"\" viewBox=\"0 0 700 450\"><rect x=\"0\" y=\"0\" width=\"700\" height=\"450\" style=\"fill: rgb(255, 255, 255); fill-opacity: 1;\"/><defs id=\"defs-9b4cbd\"><g class=\"clips\"><clipPath id=\"clip9b4cbdxyplot\" class=\"plotclip\"><rect width=\"540\" height=\"270\"/></clipPath><clipPath class=\"axesclip\" id=\"clip9b4cbdx\"><rect x=\"80\" y=\"0\" width=\"540\" height=\"450\"/></clipPath><clipPath class=\"axesclip\" id=\"clip9b4cbdy\"><rect x=\"0\" y=\"100\" width=\"700\" height=\"270\"/></clipPath><clipPath class=\"axesclip\" id=\"clip9b4cbdxy\"><rect x=\"80\" y=\"100\" width=\"540\" height=\"270\"/></clipPath></g><g class=\"gradients\"/></defs><g class=\"bglayer\"><rect class=\"bg\" x=\"80\" y=\"100\" width=\"540\" height=\"270\" style=\"fill: rgb(229, 236, 246); fill-opacity: 1; stroke-width: 0;\"/></g><g class=\"layer-below\"><g class=\"imagelayer\"/><g class=\"shapelayer\"/></g><g class=\"cartesianlayer\"><g class=\"subplot xy\"><g class=\"layer-subplot\"><g class=\"shapelayer\"/><g class=\"imagelayer\"/></g><g class=\"gridlayer\"><g class=\"x\"><path class=\"xgrid crisp\" transform=\"translate(110.75,0)\" d=\"M0,100v270\" style=\"stroke: rgb(255, 255, 255); stroke-opacity: 1; stroke-width: 1px;\"/><path class=\"xgrid crisp\" transform=\"translate(206.45,0)\" d=\"M0,100v270\" style=\"stroke: rgb(255, 255, 255); stroke-opacity: 1; stroke-width: 1px;\"/><path class=\"xgrid crisp\" transform=\"translate(302.15,0)\" d=\"M0,100v270\" style=\"stroke: rgb(255, 255, 255); stroke-opacity: 1; stroke-width: 1px;\"/><path class=\"xgrid crisp\" transform=\"translate(397.85,0)\" d=\"M0,100v270\" style=\"stroke: rgb(255, 255, 255); stroke-opacity: 1; stroke-width: 1px;\"/><path class=\"xgrid crisp\" transform=\"translate(493.55,0)\" d=\"M0,100v270\" style=\"stroke: rgb(255, 255, 255); stroke-opacity: 1; stroke-width: 1px;\"/><path class=\"xgrid crisp\" transform=\"translate(589.25,0)\" d=\"M0,100v270\" style=\"stroke: rgb(255, 255, 255); stroke-opacity: 1; stroke-width: 1px;\"/></g><g class=\"y\"><path class=\"ygrid crisp\" transform=\"translate(0,348.49)\" d=\"M80,0h540\" style=\"stroke: rgb(255, 255, 255); stroke-opacity: 1; stroke-width: 1px;\"/><path class=\"ygrid crisp\" transform=\"translate(0,291.66999999999996)\" d=\"M80,0h540\" style=\"stroke: rgb(255, 255, 255); stroke-opacity: 1; stroke-width: 1px;\"/><path class=\"ygrid crisp\" transform=\"translate(0,234.86)\" d=\"M80,0h540\" style=\"stroke: rgb(255, 255, 255); stroke-opacity: 1; stroke-width: 1px;\"/><path class=\"ygrid crisp\" transform=\"translate(0,178.04000000000002)\" d=\"M80,0h540\" style=\"stroke: rgb(255, 255, 255); stroke-opacity: 1; stroke-width: 1px;\"/><path class=\"ygrid crisp\" transform=\"translate(0,121.23)\" d=\"M80,0h540\" style=\"stroke: rgb(255, 255, 255); stroke-opacity: 1; stroke-width: 1px;\"/></g></g><g class=\"zerolinelayer\"/><path class=\"xlines-below\"/><path class=\"ylines-below\"/><g class=\"overlines-below\"/><g class=\"xaxislayer-below\"/><g class=\"yaxislayer-below\"/><g class=\"overaxes-below\"/><g class=\"plot\" transform=\"translate(80, 100)\" clip-path=\"url('#clip9b4cbdxyplot')\"><g class=\"scatterlayer mlayer\"><g class=\"trace scatter tracec21598\" style=\"stroke-miterlimit: 2; opacity: 1;\"><g class=\"fills\"/><g class=\"errorbars\"/><g class=\"lines\"><path class=\"js-line\" d=\"M30.75,54.46L78.6,32.02L126.45,17.25L174.3,19.52L222.15,50.49L270,59.29L317.85,46.51L365.7,42.53L413.55,41.4\" style=\"vector-effect: non-scaling-stroke; fill: none; stroke: rgb(255, 102, 102); stroke-opacity: 1; stroke-width: 2px; opacity: 1;\"/></g><g class=\"points\"><path class=\"point\" transform=\"translate(30.75,54.46)\" d=\"M3,0A3,3 0 1,1 0,-3A3,3 0 0,1 3,0Z\" style=\"opacity: 1; stroke-width: 0px; fill: rgb(255, 102, 102); fill-opacity: 1;\"/><path class=\"point\" transform=\"translate(78.6,32.02)\" d=\"M3,0A3,3 0 1,1 0,-3A3,3 0 0,1 3,0Z\" style=\"opacity: 1; stroke-width: 0px; fill: rgb(255, 102, 102); fill-opacity: 1;\"/><path class=\"point\" transform=\"translate(126.45,17.25)\" d=\"M3,0A3,3 0 1,1 0,-3A3,3 0 0,1 3,0Z\" style=\"opacity: 1; stroke-width: 0px; fill: rgb(255, 102, 102); fill-opacity: 1;\"/><path class=\"point\" transform=\"translate(174.3,19.52)\" d=\"M3,0A3,3 0 1,1 0,-3A3,3 0 0,1 3,0Z\" style=\"opacity: 1; stroke-width: 0px; fill: rgb(255, 102, 102); fill-opacity: 1;\"/><path class=\"point\" transform=\"translate(222.15,50.49)\" d=\"M3,0A3,3 0 1,1 0,-3A3,3 0 0,1 3,0Z\" style=\"opacity: 1; stroke-width: 0px; fill: rgb(255, 102, 102); fill-opacity: 1;\"/><path class=\"point\" transform=\"translate(270,59.29)\" d=\"M3,0A3,3 0 1,1 0,-3A3,3 0 0,1 3,0Z\" style=\"opacity: 1; stroke-width: 0px; fill: rgb(255, 102, 102); fill-opacity: 1;\"/><path class=\"point\" transform=\"translate(317.85,46.51)\" d=\"M3,0A3,3 0 1,1 0,-3A3,3 0 0,1 3,0Z\" style=\"opacity: 1; stroke-width: 0px; fill: rgb(255, 102, 102); fill-opacity: 1;\"/><path class=\"point\" transform=\"translate(365.7,42.53)\" d=\"M3,0A3,3 0 1,1 0,-3A3,3 0 0,1 3,0Z\" style=\"opacity: 1; stroke-width: 0px; fill: rgb(255, 102, 102); fill-opacity: 1;\"/><path class=\"point\" transform=\"translate(413.55,41.4)\" d=\"M3,0A3,3 0 1,1 0,-3A3,3 0 0,1 3,0Z\" style=\"opacity: 1; stroke-width: 0px; fill: rgb(255, 102, 102); fill-opacity: 1;\"/></g><g class=\"text\"/></g><g class=\"trace scatter tracec50141\" style=\"stroke-miterlimit: 2; opacity: 1;\"><g class=\"fills\"/><g class=\"errorbars\"/><g class=\"lines\"><path class=\"js-line\" d=\"M30.75,127.47L78.6,139.4L126.45,140.82L174.3,127.19L222.15,142.53L317.85,130.03L365.7,130.03L413.55,143.1L461.4,154.18L509.25,149.06\" style=\"vector-effect: non-scaling-stroke; fill: none; stroke: rgb(102, 153, 255); stroke-opacity: 1; stroke-width: 2px; opacity: 1;\"/></g><g class=\"points\"><path class=\"point\" transform=\"translate(30.75,127.47)\" d=\"M3,0A3,3 0 1,1 0,-3A3,3 0 0,1 3,0Z\" style=\"opacity: 1; stroke-width: 0px; fill: rgb(102, 153, 255); fill-opacity: 1;\"/><path class=\"point\" transform=\"translate(78.6,139.4)\" d=\"M3,0A3,3 0 1,1 0,-3A3,3 0 0,1 3,0Z\" style=\"opacity: 1; stroke-width: 0px; fill: rgb(102, 153, 255); fill-opacity: 1;\"/><path class=\"point\" transform=\"translate(126.45,140.82)\" d=\"M3,0A3,3 0 1,1 0,-3A3,3 0 0,1 3,0Z\" style=\"opacity: 1; stroke-width: 0px; fill: rgb(102, 153, 255); fill-opacity: 1;\"/><path class=\"point\" transform=\"translate(174.3,127.19)\" d=\"M3,0A3,3 0 1,1 0,-3A3,3 0 0,1 3,0Z\" style=\"opacity: 1; stroke-width: 0px; fill: rgb(102, 153, 255); fill-opacity: 1;\"/><path class=\"point\" transform=\"translate(222.15,142.53)\" d=\"M3,0A3,3 0 1,1 0,-3A3,3 0 0,1 3,0Z\" style=\"opacity: 1; stroke-width: 0px; fill: rgb(102, 153, 255); fill-opacity: 1;\"/><path class=\"point\" transform=\"translate(270,135.99)\" d=\"M3,0A3,3 0 1,1 0,-3A3,3 0 0,1 3,0Z\" style=\"opacity: 1; stroke-width: 0px; fill: rgb(102, 153, 255); fill-opacity: 1;\"/><path class=\"point\" transform=\"translate(317.85,130.03)\" d=\"M3,0A3,3 0 1,1 0,-3A3,3 0 0,1 3,0Z\" style=\"opacity: 1; stroke-width: 0px; fill: rgb(102, 153, 255); fill-opacity: 1;\"/><path class=\"point\" transform=\"translate(365.7,130.03)\" d=\"M3,0A3,3 0 1,1 0,-3A3,3 0 0,1 3,0Z\" style=\"opacity: 1; stroke-width: 0px; fill: rgb(102, 153, 255); fill-opacity: 1;\"/><path class=\"point\" transform=\"translate(413.55,143.1)\" d=\"M3,0A3,3 0 1,1 0,-3A3,3 0 0,1 3,0Z\" style=\"opacity: 1; stroke-width: 0px; fill: rgb(102, 153, 255); fill-opacity: 1;\"/><path class=\"point\" transform=\"translate(461.4,154.18)\" d=\"M3,0A3,3 0 1,1 0,-3A3,3 0 0,1 3,0Z\" style=\"opacity: 1; stroke-width: 0px; fill: rgb(102, 153, 255); fill-opacity: 1;\"/><path class=\"point\" transform=\"translate(509.25,149.06)\" d=\"M3,0A3,3 0 1,1 0,-3A3,3 0 0,1 3,0Z\" style=\"opacity: 1; stroke-width: 0px; fill: rgb(102, 153, 255); fill-opacity: 1;\"/></g><g class=\"text\"/></g><g class=\"trace scatter tracee8a555\" style=\"stroke-miterlimit: 2; opacity: 1;\"><g class=\"fills\"/><g class=\"errorbars\"/><g class=\"lines\"><path class=\"js-line\" d=\"M30.75,179.46L78.6,165.54L126.45,158.44L174.3,149.06L222.15,170.65L270,153.04L317.85,140.26L365.7,135.43L413.55,144.52L461.4,149.63L509.25,143.38\" style=\"vector-effect: non-scaling-stroke; fill: none; stroke: rgb(106, 212, 155); stroke-opacity: 1; stroke-width: 2px; opacity: 1;\"/></g><g class=\"points\"><path class=\"point\" transform=\"translate(30.75,179.46)\" d=\"M3,0A3,3 0 1,1 0,-3A3,3 0 0,1 3,0Z\" style=\"opacity: 1; stroke-width: 0px; fill: rgb(106, 212, 155); fill-opacity: 1;\"/><path class=\"point\" transform=\"translate(78.6,165.54)\" d=\"M3,0A3,3 0 1,1 0,-3A3,3 0 0,1 3,0Z\" style=\"opacity: 1; stroke-width: 0px; fill: rgb(106, 212, 155); fill-opacity: 1;\"/><path class=\"point\" transform=\"translate(126.45,158.44)\" d=\"M3,0A3,3 0 1,1 0,-3A3,3 0 0,1 3,0Z\" style=\"opacity: 1; stroke-width: 0px; fill: rgb(106, 212, 155); fill-opacity: 1;\"/><path class=\"point\" transform=\"translate(174.3,149.06)\" d=\"M3,0A3,3 0 1,1 0,-3A3,3 0 0,1 3,0Z\" style=\"opacity: 1; stroke-width: 0px; fill: rgb(106, 212, 155); fill-opacity: 1;\"/><path class=\"point\" transform=\"translate(222.15,170.65)\" d=\"M3,0A3,3 0 1,1 0,-3A3,3 0 0,1 3,0Z\" style=\"opacity: 1; stroke-width: 0px; fill: rgb(106, 212, 155); fill-opacity: 1;\"/><path class=\"point\" transform=\"translate(270,153.04)\" d=\"M3,0A3,3 0 1,1 0,-3A3,3 0 0,1 3,0Z\" style=\"opacity: 1; stroke-width: 0px; fill: rgb(106, 212, 155); fill-opacity: 1;\"/><path class=\"point\" transform=\"translate(317.85,140.26)\" d=\"M3,0A3,3 0 1,1 0,-3A3,3 0 0,1 3,0Z\" style=\"opacity: 1; stroke-width: 0px; fill: rgb(106, 212, 155); fill-opacity: 1;\"/><path class=\"point\" transform=\"translate(365.7,135.43)\" d=\"M3,0A3,3 0 1,1 0,-3A3,3 0 0,1 3,0Z\" style=\"opacity: 1; stroke-width: 0px; fill: rgb(106, 212, 155); fill-opacity: 1;\"/><path class=\"point\" transform=\"translate(413.55,144.52)\" d=\"M3,0A3,3 0 1,1 0,-3A3,3 0 0,1 3,0Z\" style=\"opacity: 1; stroke-width: 0px; fill: rgb(106, 212, 155); fill-opacity: 1;\"/><path class=\"point\" transform=\"translate(461.4,149.63)\" d=\"M3,0A3,3 0 1,1 0,-3A3,3 0 0,1 3,0Z\" style=\"opacity: 1; stroke-width: 0px; fill: rgb(106, 212, 155); fill-opacity: 1;\"/><path class=\"point\" transform=\"translate(509.25,143.38)\" d=\"M3,0A3,3 0 1,1 0,-3A3,3 0 0,1 3,0Z\" style=\"opacity: 1; stroke-width: 0px; fill: rgb(106, 212, 155); fill-opacity: 1;\"/></g><g class=\"text\"/></g><g class=\"trace scatter tracef049be\" style=\"stroke-miterlimit: 2; opacity: 1;\"><g class=\"fills\"/><g class=\"errorbars\"/><g class=\"lines\"><path class=\"js-line\" d=\"M30.75,203.32L78.6,198.21L126.45,216.1L174.3,216.67L222.15,203.89L270,194.51L317.85,216.1L365.7,227.18L413.55,229.74L461.4,239.68L509.25,252.75\" style=\"vector-effect: non-scaling-stroke; fill: none; stroke: rgb(166, 120, 222); stroke-opacity: 1; stroke-width: 2px; opacity: 1;\"/></g><g class=\"points\"><path class=\"point\" transform=\"translate(30.75,203.32)\" d=\"M3,0A3,3 0 1,1 0,-3A3,3 0 0,1 3,0Z\" style=\"opacity: 1; stroke-width: 0px; fill: rgb(166, 120, 222); fill-opacity: 1;\"/><path class=\"point\" transform=\"translate(78.6,198.21)\" d=\"M3,0A3,3 0 1,1 0,-3A3,3 0 0,1 3,0Z\" style=\"opacity: 1; stroke-width: 0px; fill: rgb(166, 120, 222); fill-opacity: 1;\"/><path class=\"point\" transform=\"translate(126.45,216.1)\" d=\"M3,0A3,3 0 1,1 0,-3A3,3 0 0,1 3,0Z\" style=\"opacity: 1; stroke-width: 0px; fill: rgb(166, 120, 222); fill-opacity: 1;\"/><path class=\"point\" transform=\"translate(174.3,216.67)\" d=\"M3,0A3,3 0 1,1 0,-3A3,3 0 0,1 3,0Z\" style=\"opacity: 1; stroke-width: 0px; fill: rgb(166, 120, 222); fill-opacity: 1;\"/><path class=\"point\" transform=\"translate(222.15,203.89)\" d=\"M3,0A3,3 0 1,1 0,-3A3,3 0 0,1 3,0Z\" style=\"opacity: 1; stroke-width: 0px; fill: rgb(166, 120, 222); fill-opacity: 1;\"/><path class=\"point\" transform=\"translate(270,194.51)\" d=\"M3,0A3,3 0 1,1 0,-3A3,3 0 0,1 3,0Z\" style=\"opacity: 1; stroke-width: 0px; fill: rgb(166, 120, 222); fill-opacity: 1;\"/><path class=\"point\" transform=\"translate(317.85,216.1)\" d=\"M3,0A3,3 0 1,1 0,-3A3,3 0 0,1 3,0Z\" style=\"opacity: 1; stroke-width: 0px; fill: rgb(166, 120, 222); fill-opacity: 1;\"/><path class=\"point\" transform=\"translate(365.7,227.18)\" d=\"M3,0A3,3 0 1,1 0,-3A3,3 0 0,1 3,0Z\" style=\"opacity: 1; stroke-width: 0px; fill: rgb(166, 120, 222); fill-opacity: 1;\"/><path class=\"point\" transform=\"translate(413.55,229.74)\" d=\"M3,0A3,3 0 1,1 0,-3A3,3 0 0,1 3,0Z\" style=\"opacity: 1; stroke-width: 0px; fill: rgb(166, 120, 222); fill-opacity: 1;\"/><path class=\"point\" transform=\"translate(461.4,239.68)\" d=\"M3,0A3,3 0 1,1 0,-3A3,3 0 0,1 3,0Z\" style=\"opacity: 1; stroke-width: 0px; fill: rgb(166, 120, 222); fill-opacity: 1;\"/><path class=\"point\" transform=\"translate(509.25,252.75)\" d=\"M3,0A3,3 0 1,1 0,-3A3,3 0 0,1 3,0Z\" style=\"opacity: 1; stroke-width: 0px; fill: rgb(166, 120, 222); fill-opacity: 1;\"/></g><g class=\"text\"/></g></g></g><g class=\"overplot\"/><path class=\"xlines-above crisp\" d=\"M0,0\" style=\"fill: none;\"/><path class=\"ylines-above crisp\" d=\"M0,0\" style=\"fill: none;\"/><g class=\"overlines-above\"/><g class=\"xaxislayer-above\"><g class=\"xtick\"><text text-anchor=\"middle\" x=\"0\" y=\"383\" transform=\"translate(110.75,0)\" style=\"font-family: 'Open Sans', verdana, arial, sans-serif; font-size: 12px; fill: rgb(42, 63, 95); fill-opacity: 1; white-space: pre;\">2002</text></g><g class=\"xtick\"><text text-anchor=\"middle\" x=\"0\" y=\"383\" transform=\"translate(206.45,0)\" style=\"font-family: 'Open Sans', verdana, arial, sans-serif; font-size: 12px; fill: rgb(42, 63, 95); fill-opacity: 1; white-space: pre;\">2004</text></g><g class=\"xtick\"><text text-anchor=\"middle\" x=\"0\" y=\"383\" transform=\"translate(302.15,0)\" style=\"font-family: 'Open Sans', verdana, arial, sans-serif; font-size: 12px; fill: rgb(42, 63, 95); fill-opacity: 1; white-space: pre;\">2006</text></g><g class=\"xtick\"><text text-anchor=\"middle\" x=\"0\" y=\"383\" transform=\"translate(397.85,0)\" style=\"font-family: 'Open Sans', verdana, arial, sans-serif; font-size: 12px; fill: rgb(42, 63, 95); fill-opacity: 1; white-space: pre;\">2008</text></g><g class=\"xtick\"><text text-anchor=\"middle\" x=\"0\" y=\"383\" transform=\"translate(493.55,0)\" style=\"font-family: 'Open Sans', verdana, arial, sans-serif; font-size: 12px; fill: rgb(42, 63, 95); fill-opacity: 1; white-space: pre;\">2010</text></g><g class=\"xtick\"><text text-anchor=\"middle\" x=\"0\" y=\"383\" transform=\"translate(589.25,0)\" style=\"font-family: 'Open Sans', verdana, arial, sans-serif; font-size: 12px; fill: rgb(42, 63, 95); fill-opacity: 1; white-space: pre;\">2012</text></g></g><g class=\"yaxislayer-above\"><g class=\"ytick\"><text text-anchor=\"end\" x=\"79\" y=\"4.199999999999999\" transform=\"translate(0,348.49)\" style=\"font-family: 'Open Sans', verdana, arial, sans-serif; font-size: 12px; fill: rgb(42, 63, 95); fill-opacity: 1; white-space: pre;\">200</text></g><g class=\"ytick\"><text text-anchor=\"end\" x=\"79\" y=\"4.199999999999999\" transform=\"translate(0,291.66999999999996)\" style=\"font-family: 'Open Sans', verdana, arial, sans-serif; font-size: 12px; fill: rgb(42, 63, 95); fill-opacity: 1; white-space: pre;\">400</text></g><g class=\"ytick\"><text text-anchor=\"end\" x=\"79\" y=\"4.199999999999999\" transform=\"translate(0,234.86)\" style=\"font-family: 'Open Sans', verdana, arial, sans-serif; font-size: 12px; fill: rgb(42, 63, 95); fill-opacity: 1; white-space: pre;\">600</text></g><g class=\"ytick\"><text text-anchor=\"end\" x=\"79\" y=\"4.199999999999999\" transform=\"translate(0,178.04000000000002)\" style=\"font-family: 'Open Sans', verdana, arial, sans-serif; font-size: 12px; fill: rgb(42, 63, 95); fill-opacity: 1; white-space: pre;\">800</text></g><g class=\"ytick\"><text text-anchor=\"end\" x=\"79\" y=\"4.199999999999999\" transform=\"translate(0,121.23)\" style=\"font-family: 'Open Sans', verdana, arial, sans-serif; font-size: 12px; fill: rgb(42, 63, 95); fill-opacity: 1; white-space: pre;\">1000</text></g></g><g class=\"overaxes-above\"/></g></g><g class=\"polarlayer\"/><g class=\"ternarylayer\"/><g class=\"geolayer\"/><g class=\"funnelarealayer\"/><g class=\"pielayer\"/><g class=\"treemaplayer\"/><g class=\"sunburstlayer\"/><g class=\"glimages\"/><defs id=\"topdefs-9b4cbd\"><g class=\"clips\"/><clipPath id=\"legend9b4cbd\"><rect width=\"497\" height=\"29\" x=\"0\" y=\"0\"/></clipPath></defs><g class=\"layer-above\"><g class=\"imagelayer\"/><g class=\"shapelayer\"/></g><g class=\"infolayer\"><g class=\"legend\" pointer-events=\"all\" transform=\"translate(107, 59.50000000000002)\"><rect class=\"bg\" shape-rendering=\"crispEdges\" width=\"497\" height=\"29\" x=\"0\" y=\"0\" style=\"stroke: rgb(68, 68, 68); stroke-opacity: 1; fill: rgb(255, 255, 255); fill-opacity: 1; stroke-width: 0px;\"/><g class=\"scrollbox\" transform=\"translate(0, 0)\" clip-path=\"url('#legend9b4cbd')\"><g class=\"groups\"><g class=\"traces\" transform=\"translate(0, 14.5)\" style=\"opacity: 1;\"><text class=\"legendtext user-select-none\" text-anchor=\"start\" x=\"40\" y=\"3.9\" style=\"font-family: 'Open Sans', verdana, arial, sans-serif; font-size: 10px; fill: rgb(42, 63, 95); fill-opacity: 1; white-space: pre;\">Property damage only</text><g class=\"layers\" style=\"opacity: 1;\"><g class=\"legendfill\"/><g class=\"legendlines\"><path class=\"js-line\" d=\"M5,0h30\" style=\"fill: none; stroke: rgb(255, 102, 102); stroke-opacity: 1; stroke-width: 2px;\"/></g><g class=\"legendsymbols\"><g class=\"legendpoints\"><path class=\"scatterpts\" transform=\"translate(20,0)\" d=\"M3,0A3,3 0 1,1 0,-3A3,3 0 0,1 3,0Z\" style=\"opacity: 1; stroke-width: 0px; fill: rgb(255, 102, 102); fill-opacity: 1;\"/></g></g></g><rect class=\"legendtoggle\" pointer-events=\"all\" x=\"0\" y=\"-9.5\" width=\"145.921875\" height=\"19\" style=\"cursor: pointer; fill: rgb(0, 0, 0); fill-opacity: 0;\"/></g><g class=\"traces\" transform=\"translate(148.421875, 14.5)\" style=\"opacity: 1;\"><text class=\"legendtext user-select-none\" text-anchor=\"start\" x=\"40\" y=\"3.9\" style=\"font-family: 'Open Sans', verdana, arial, sans-serif; font-size: 10px; fill: rgb(42, 63, 95); fill-opacity: 1; white-space: pre;\">Medical treatment</text><g class=\"layers\" style=\"opacity: 1;\"><g class=\"legendfill\"/><g class=\"legendlines\"><path class=\"js-line\" d=\"M5,0h30\" style=\"fill: none; stroke: rgb(102, 153, 255); stroke-opacity: 1; stroke-width: 2px;\"/></g><g class=\"legendsymbols\"><g class=\"legendpoints\"><path class=\"scatterpts\" transform=\"translate(20,0)\" d=\"M3,0A3,3 0 1,1 0,-3A3,3 0 0,1 3,0Z\" style=\"opacity: 1; stroke-width: 0px; fill: rgb(102, 153, 255); fill-opacity: 1;\"/></g></g></g><rect class=\"legendtoggle\" pointer-events=\"all\" x=\"0\" y=\"-9.5\" width=\"128.609375\" height=\"19\" style=\"cursor: pointer; fill: rgb(0, 0, 0); fill-opacity: 0;\"/></g><g class=\"traces\" transform=\"translate(279.53125, 14.5)\" style=\"opacity: 1;\"><text class=\"legendtext user-select-none\" text-anchor=\"start\" x=\"40\" y=\"3.9\" style=\"font-family: 'Open Sans', verdana, arial, sans-serif; font-size: 10px; fill: rgb(42, 63, 95); fill-opacity: 1; white-space: pre;\">Hospitalisation</text><g class=\"layers\" style=\"opacity: 1;\"><g class=\"legendfill\"/><g class=\"legendlines\"><path class=\"js-line\" d=\"M5,0h30\" style=\"fill: none; stroke: rgb(106, 212, 155); stroke-opacity: 1; stroke-width: 2px;\"/></g><g class=\"legendsymbols\"><g class=\"legendpoints\"><path class=\"scatterpts\" transform=\"translate(20,0)\" d=\"M3,0A3,3 0 1,1 0,-3A3,3 0 0,1 3,0Z\" style=\"opacity: 1; stroke-width: 0px; fill: rgb(106, 212, 155); fill-opacity: 1;\"/></g></g></g><rect class=\"legendtoggle\" pointer-events=\"all\" x=\"0\" y=\"-9.5\" width=\"112.078125\" height=\"19\" style=\"cursor: pointer; fill: rgb(0, 0, 0); fill-opacity: 0;\"/></g><g class=\"traces\" transform=\"translate(394.109375, 14.5)\" style=\"opacity: 1;\"><text class=\"legendtext user-select-none\" text-anchor=\"start\" x=\"40\" y=\"3.9\" style=\"font-family: 'Open Sans', verdana, arial, sans-serif; font-size: 10px; fill: rgb(42, 63, 95); fill-opacity: 1; white-space: pre;\">Minor injury</text><g class=\"layers\" style=\"opacity: 1;\"><g class=\"legendfill\"/><g class=\"legendlines\"><path class=\"js-line\" d=\"M5,0h30\" style=\"fill: none; stroke: rgb(166, 120, 222); stroke-opacity: 1; stroke-width: 2px;\"/></g><g class=\"legendsymbols\"><g class=\"legendpoints\"><path class=\"scatterpts\" transform=\"translate(20,0)\" d=\"M3,0A3,3 0 1,1 0,-3A3,3 0 0,1 3,0Z\" style=\"opacity: 1; stroke-width: 0px; fill: rgb(166, 120, 222); fill-opacity: 1;\"/></g></g></g><rect class=\"legendtoggle\" pointer-events=\"all\" x=\"0\" y=\"-9.5\" width=\"99.671875\" height=\"19\" style=\"cursor: pointer; fill: rgb(0, 0, 0); fill-opacity: 0;\"/></g></g></g><rect class=\"scrollbar\" rx=\"20\" ry=\"3\" width=\"0\" height=\"0\" x=\"0\" y=\"0\" style=\"fill: rgb(128, 139, 164); fill-opacity: 1;\"/></g><g class=\"g-gtitle\"><text class=\"gtitle\" x=\"35\" y=\"50\" text-anchor=\"start\" dy=\"0em\" style=\"font-family: 'Open Sans', verdana, arial, sans-serif; font-size: 17px; fill: rgb(42, 63, 95); opacity: 1; font-weight: normal; white-space: pre;\">Content added over the years</text></g><g class=\"g-xtitle\"><text class=\"xtitle\" x=\"350\" y=\"411.14375\" text-anchor=\"middle\" style=\"font-family: 'Open Sans', verdana, arial, sans-serif; font-size: 14px; fill: rgb(42, 63, 95); opacity: 1; font-weight: normal; white-space: pre;\">Year</text></g><g class=\"g-ytitle\"/></g></svg>"
      ]
     },
     "metadata": {},
     "output_type": "display_data"
    }
   ],
   "source": [
    "d1 = roaddata[roaddata[\"Crash_Severity\"] == \"Property damage only\"]\n",
    "d2 = roaddata[roaddata[\"Crash_Severity\"] == \"Medical treatment\"]\n",
    "d3 = roaddata[roaddata[\"Crash_Severity\"] == \"Hospitalisation\"]\n",
    "d4 = roaddata[roaddata[\"Crash_Severity\"] == \"Minor injury\"]\n",
    "\n",
    "col = \"Crash_Year\"\n",
    "\n",
    "vc1 = d1[col].value_counts().reset_index()\n",
    "vc1 = vc1.rename(columns = {col : \"count\", \"index\" : col})\n",
    "vc1['percent'] = vc1['count'].apply(lambda x : 100*x/sum(vc1['count']))\n",
    "vc1 = vc1.sort_values(col)\n",
    "\n",
    "vc2 = d2[col].value_counts().reset_index()\n",
    "vc2 = vc2.rename(columns = {col : \"count\", \"index\" : col})\n",
    "vc2['percent'] = vc2['count'].apply(lambda x : 100*x/sum(vc2['count']))\n",
    "vc2 = vc2.sort_values(col)\n",
    "\n",
    "vc3 = d3[col].value_counts().reset_index()\n",
    "vc3 = vc3.rename(columns = {col : \"count\", \"index\" : col})\n",
    "vc3['percent'] = vc3['count'].apply(lambda x : 100*x/sum(vc3['count']))\n",
    "vc3 = vc3.sort_values(col)\n",
    "\n",
    "vc4 = d4[col].value_counts().reset_index()\n",
    "vc4 = vc4.rename(columns = {col : \"count\", \"index\" : col})\n",
    "vc4['percent'] = vc4['count'].apply(lambda x : 100*x/sum(vc4['count']))\n",
    "vc4 = vc4.sort_values(col)\n",
    "\n",
    "\n",
    "trace1 = go.Scatter(x=vc1[col], y=vc1[\"count\"], name=\"Property damage only\", marker=dict(color=\"#ff6666\"))\n",
    "trace2 = go.Scatter(x=vc2[col], y=vc2[\"count\"], name=\"Medical treatment\", marker=dict(color=\"#6699ff\"))\n",
    "trace3 = go.Scatter(x=vc3[col], y=vc3[\"count\"], name=\"Hospitalisation\", marker=dict(color=\"#6ad49b\"))\n",
    "trace4 = go.Scatter(x=vc4[col], y=vc4[\"count\"], name=\"Minor injury\", marker=dict(color=\"#a678de\"))\n",
    "data = [trace1, trace2, trace3,trace4]\n",
    "\n",
    "\n",
    "layout = go.Layout(title=\"Content added over the years\",    xaxis_title=\"Year\",\n",
    "    yaxis_title=\"\",legend=dict(x=0.05, y=1.15, orientation=\"h\" , font_size=10))\n",
    "fig = go.Figure(data, layout=layout )\n",
    "fig.show(renderer='svg')"
   ]
  },
  {
   "cell_type": "markdown",
   "metadata": {},
   "source": [
    "หมายเหตุ\n",
    "- ความเสียหายต่อทรัพย์สินเท่านั้น เก็บข้อมูลถึงวันที่ 31 ธันวาคม 2553"
   ]
  },
  {
   "cell_type": "code",
   "execution_count": null,
   "metadata": {},
   "outputs": [],
   "source": []
  },
  {
   "cell_type": "code",
   "execution_count": null,
   "metadata": {},
   "outputs": [],
   "source": []
  }
 ],
 "metadata": {
  "kernelspec": {
   "display_name": "Python 3",
   "language": "python",
   "name": "python3"
  },
  "language_info": {
   "codemirror_mode": {
    "name": "ipython",
    "version": 3
   },
   "file_extension": ".py",
   "mimetype": "text/x-python",
   "name": "python",
   "nbconvert_exporter": "python",
   "pygments_lexer": "ipython3",
   "version": "3.8.3"
  }
 },
 "nbformat": 4,
 "nbformat_minor": 4
}
